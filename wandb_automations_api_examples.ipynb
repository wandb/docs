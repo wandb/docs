# Setup
import wandb
from wandb.automations import (
    OnRunMetric, RunEvent,
    OnCreateArtifact, OnLinkArtifact, OnAddArtifactAlias,
    SendNotification, SendWebhook
)

# Authenticate
wandb.login()
api = wandb.Api()

# Configure your settings
ENTITY = "your-team"  # Replace with your team name
PROJECT = "your-project"  # Replace with your project name
REGISTRY = "your-registry"  # Replace with your registry name# W&B Automations API Examples

This notebook demonstrates how to create automations programmatically using the W&B API.