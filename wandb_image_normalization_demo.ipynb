{
 "cells": [
  {
   "cell_type": "markdown",
   "metadata": {"id": "title"},
   "source": [
    "# W&B Image Normalization Demo\n",
    "\n",
    "This notebook demonstrates how `wandb.Image` automatically normalizes different types of image data and how to control this behavior.\n",
    "\n",
    "## What you'll learn:\n",
    "- How `wandb.Image` normalizes PyTorch tensors and NumPy arrays\n",
    "- When normalization is applied vs when it's not\n",
    "- How to avoid unwanted normalization\n",
    "- Best practices for image logging"
   ]
  },
  {
   "cell_type": "markdown",
   "metadata": {"id": "setup"},
   "source": [
    "## Setup\n",
    "\n",
    "First, let's install the required dependencies and import the necessary libraries."
   ]
  },
  {
   "cell_type": "code",
   "execution_count": null,
   "metadata": {"id": "install_deps"},
   "outputs": [],
   "source": [
    "# Install required packages\n",
    "!pip install wandb torch torchvision pillow matplotlib numpy"
   ]
  },
  {
   "cell_type": "code",
   "execution_count": null,
   "metadata": {"id": "imports"},
   "outputs": [],
   "source": [
    "import wandb\n",
    "import torch\n",
    "import numpy as np\n",
    "from PIL import Image as PILImage\n",
    "import matplotlib.pyplot as plt\n",
    "\n",
    "# Set up matplotlib for better visualization\n",
    "plt.rcParams['figure.figsize'] = (12, 8)\n",
    "plt.rcParams['font.size'] = 10"
   ]
  },
  {
   "cell_type": "markdown",
   "metadata": {"id": "init_wandb"},
   "source": [
    "## Initialize W&B\n",
    "\n",
    "Let's start a W&B run to log our examples."
   ]
  },
  {
   "cell_type": "code",
   "execution_count": null,
   "metadata": {"id": "wandb_init"},
   "outputs": [],
   "source": [
    "# Initialize W&B run\n",
    "run = wandb.init(\n",
    "    project=\"image-normalization-demo\",\n",
    "    name=\"normalization-examples\",\n",
    "    config={\n",
    "        \"description\": \"Demonstrating wandb.Image normalization behavior\"\n",
    "    }\n",
    ")"
   ]
  },
  {
   "cell_type": "markdown",
   "metadata": {"id": "overview"},
   "source": [
    "## Understanding Image Normalization\n",
    "\n",
    "When you pass PyTorch tensors or NumPy arrays to `wandb.Image`, the pixel values are automatically normalized to the range [0, 255] unless you set `normalize=False`.\n",
    "\n",
    "**Normalization is applied to:**\n",
    "- PyTorch tensors (format: `(channel, height, width)`)\n",
    "- NumPy arrays (format: `(height, width, channel)`)\n",
    "\n",
    "**Normalization is NOT applied to:**\n",
    "- PIL Images (passed as-is)\n",
    "- File paths (loaded as-is)\n",
    "\n",
    "**Normalization algorithm:**\n",
    "- [0, 1] range: values are multiplied by 255\n",
    "- [-1, 1] range: values are rescaled using `255 * 0.5 * (data + 1)`\n",
    "- Other ranges: values are clipped to [0, 255]"
   ]
  },
  {
   "cell_type": "markdown",
   "metadata": {"id": "example_1"},
   "source": [
    "## Example 1: [0, 1] Range Data\n",
    "\n",
    "When your tensor/array values are in the [0, 1] range, `wandb.Image` will multiply all values by 255."
   ]
  },
  {
   "cell_type": "code",
   "execution_count": null,
   "metadata": {"id": "example_0_1_range"},
   "outputs": [],
   "source": [
    "# Create test data in [0, 1] range\n",
    "data_0_1 = np.random.rand(64, 64, 3)\n",
    "print(f\"Original data range: [{data_0_1.min():.3f}, {data_0_1.max():.3f}]\")\n",
    "\n",
    "# Convert to PyTorch tensor (channel, height, width format)\n",
    "tensor_0_1 = torch.from_numpy(data_0_1).permute(2, 0, 1).float()\n",
    "print(f\"Tensor shape: {tensor_0_1.shape}\")\n",
    "print(f\"Tensor range: [{tensor_0_1.min():.3f}, {tensor_0_1.max():.3f}]\")\n",
    "\n",
    "# Visualize the original data\n",
    "plt.figure(figsize=(8, 6))\n",
    "plt.imshow(data_0_1)\n",
    "plt.title(f'[0, 1] Range Data\\nValues will be multiplied by 255')\n",
    "plt.colorbar()\n",
    "plt.axis('off')\n",
    "plt.show()\n",
    "\n",
    "# Log to W&B\n",
    "wandb.log({\n",
    "    \"example_0_1_range\": wandb.Image(\n",
    "        tensor_0_1,\n",
    "        caption=\"[0, 1] range tensor - values will be multiplied by 255\"\n",
    "    )\n",
    "})"
   ]
  },
  {
   "cell_type": "markdown",
   "metadata": {"id": "example_2"},
   "source": [
    "## Example 2: [-1, 1] Range Data\n",
    "\n",
    "When your tensor/array values are in the [-1, 1] range, `wandb.Image` will rescale them using the formula: `255 * 0.5 * (data + 1)`"
   ]
  },
  {
   "cell_type": "code",
   "execution_count": null,
   "metadata": {"id": "example_neg1_1_range"},
   "outputs": [],
   "source": [
    "# Create test data in [-1, 1] range\n",
    "data_neg1_1 = np.random.rand(64, 64, 3) * 2 - 1\n",
    "print(f\"Original data range: [{data_neg1_1.min():.3f}, {data_neg1_1.max():.3f}]\")\n",
    "\n",
    "# Convert to PyTorch tensor\n",
    "tensor_neg1_1 = torch.from_numpy(data_neg1_1).permute(2, 0, 1).float()\n",
    "print(f\"Tensor shape: {tensor_neg1_1.shape}\")\n",
    "print(f\"Tensor range: [{tensor_neg1_1.min():.3f}, {tensor_neg1_1.max():.3f}]\")\n",
    "\n",
    "# Visualize the original data\n",
    "plt.figure(figsize=(8, 6))\n",
    "plt.imshow(data_neg1_1, cmap='RdBu_r')\n",
    "plt.title(f'[-1, 1] Range Data\\nValues will be rescaled: -1→0, 0→127.5, 1→255')\n",
    "plt.colorbar()\n",
    "plt.axis('off')\n",
    "plt.show()\n",
    "\n",
    "# Log to W&B\n",
    "wandb.log({\n",
    "    \"example_neg1_1_range\": wandb.Image(\n",
    "        tensor_neg1_1,\n",
    "        caption=\"[-1, 1] range tensor - values will be rescaled\"\n",
    "    )\n",
    "})"
   ]
  },
  {
   "cell_type": "markdown",
   "metadata": {"id": "example_3"},
   "source": [
    "## Example 3: Avoiding Normalization with PIL Images\n",
    "\n",
    "To avoid normalization, you can convert your tensors to PIL Images before passing them to `wandb.Image`."
   ]
  },
  {
   "cell_type": "code",
   "execution_count": null,
   "metadata": {"id": "example_pil_avoid_normalization"},
   "outputs": [],
   "source": [
    "# Create tensor with values in [0, 1] range\n",
    "tensor_0_1 = torch.rand(3, 64, 64)\n",
    "print(f\"Tensor range: [{tensor_0_1.min():.3f}, {tensor_0_1.max():.3f}]\")\n",
    "\n",
    "# Convert to PIL Image to avoid normalization\n",
    "pil_image = PILImage.fromarray(\n",
    "    (tensor_0_1.permute(1, 2, 0).numpy() * 255).astype('uint8')\n",
    ")\n",
    "print(f\"PIL Image size: {pil_image.size}\")\n",
    "print(f\"PIL Image mode: {pil_image.mode}\")\n",
    "\n",
    "# Visualize the PIL image\n",
    "plt.figure(figsize=(8, 6))\n",
    "plt.imshow(pil_image)\n",
    "plt.title('PIL Image - No normalization applied')\n",
    "plt.axis('off')\n",
    "plt.show()\n",
    "\n",
    "# Log to W&B\n",
    "wandb.log({\n",
    "    \"example_pil_no_normalization\": wandb.Image(\n",
    "        pil_image,\n",
    "        caption=\"PIL Image - no normalization applied\"\n",
    "    )\n",
    "})"
   ]
  },
  {
   "cell_type": "markdown",
   "metadata": {"id": "example_4"},
   "source": [
    "## Example 4: Using normalize=False\n",
    "\n",
    "You can also disable normalization by setting `normalize=False`. Values will be clipped to [0, 255]."
   ]
  },
  {
   "cell_type": "code",
   "execution_count": null,
   "metadata": {"id": "example_normalize_false"},
   "outputs": [],
   "source": [
    "# Create tensor with values in [0, 1] range\n",
    "tensor_0_1 = torch.rand(3, 64, 64)\n",
    "print(f\"Tensor range: [{tensor_0_1.min():.3f}, {tensor_0_1.max():.3f}]\")\n",
    "\n",
    "# Disable normalization\n",
    "wandb.log({\n",
    "    \"example_normalize_false\": wandb.Image(\n",
    "        tensor_0_1,\n",
    "        normalize=False,\n",
    "        caption=\"Normalization disabled - values will be clipped to [0, 255]\"\n",
    "    )\n",
    "})\n",
    "\n",
    "# Also log with normal normalization for comparison\n",
    "wandb.log({\n",
    "    \"example_normalize_true\": wandb.Image(\n",
    "        tensor_0_1,\n",
    "        normalize=True,\n",
    "        caption=\"Normalization enabled - values will be multiplied by 255\"\n",
    "    )\n",
    "})\n",
    "\n",
    "print(\"Logged both normalized and non-normalized versions for comparison\")"
   ]
  },
  {
   "cell_type": "markdown",
   "metadata": {"id": "best_practices"},
   "source": [
    "## Best Practices\n",
    "\n",
    "Based on what we've learned, here are some best practices for working with `wandb.Image`:\n",
    "\n",
    "### 1. **For consistent results**: Pre-process your data to the expected [0, 255] range before logging\n",
    "### 2. **To avoid normalization**: Convert tensors to PIL Images using `PILImage.fromarray()`\n",
    "### 3. **For debugging**: Use `normalize=False` to see the raw values (they will be clipped to [0, 255])\n",
    "### 4. **For precise control**: Use PIL Images when you need exact pixel values\n",
    "\n",
    "### Common Issues to Watch Out For:\n",
    "- **Unexpected brightness**: If your tensor values are in [0, 1] range, they will be multiplied by 255, making the image much brighter\n",
    "- **Data loss**: Values outside the [0, 255] range will be clipped, potentially losing information\n",
    "- **Inconsistent behavior**: Different input types (tensor vs PIL vs file path) may produce different results"
   ]
  },
  {
   "cell_type": "code",
   "execution_count": null,
   "metadata": {"id": "finish"},
   "outputs": [],
   "source": [
    "# Finish the W&B run\n",
    "wandb.finish()\n",
    "print(\"✅ Demo completed! Check your W&B dashboard to see all the logged images.\")"
   ]
  }
 ],
 "metadata": {
  "accelerator": "GPU",
  "colab": {
   "gpuType": "T4",
   "provenance": []
  },
  "kernelspec": {
   "display_name": "Python 3",
   "language": "python",
   "name": "python3"
  },
  "language_info": {
   "codemirror_mode": {
    "name": "ipython",
    "version": 3
   },
   "file_extension": ".py",
   "mimetype": "text/x-python",
   "name": "python",
   "nbconvert_exporter": "python",
   "pygments_lexer": "ipython3",
   "version": "3.8.5"
  }
 },
 "nbformat": 4,
 "nbformat_minor": 4
}
