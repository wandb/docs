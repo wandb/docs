{
 "cells": [
  {
   "cell_type": "code",
   "execution_count": 1,
   "id": "408b4f40",
   "metadata": {},
   "outputs": [
    {
     "data": {
      "text/html": [
       "wandb version 0.13.10 is available!  To upgrade, please run:\n",
       " $ pip install wandb --upgrade"
      ],
      "text/plain": [
       "<IPython.core.display.HTML object>"
      ]
     },
     "metadata": {},
     "output_type": "display_data"
    },
    {
     "data": {
      "text/html": [
       "Tracking run with wandb version 0.13.9"
      ],
      "text/plain": [
       "<IPython.core.display.HTML object>"
      ]
     },
     "metadata": {},
     "output_type": "display_data"
    },
    {
     "data": {
      "text/html": [
       "Run data is saved locally in <code>/Users/noahluna/Documents/GitHub/docodile/docs/tutorials/wandb/run-20230225_104818-bpp341wa</code>"
      ],
      "text/plain": [
       "<IPython.core.display.HTML object>"
      ]
     },
     "metadata": {},
     "output_type": "display_data"
    },
    {
     "data": {
      "text/html": [
       "Syncing run <strong><a href=\"https://wandb.ai/noahluna/my-awesome-project/runs/bpp341wa\" target=\"_blank\">resilient-shadow-1</a></strong> to <a href=\"https://wandb.ai/noahluna/my-awesome-project\" target=\"_blank\">Weights & Biases</a> (<a href=\"https://wandb.me/run\" target=\"_blank\">docs</a>)<br/>"
      ],
      "text/plain": [
       "<IPython.core.display.HTML object>"
      ]
     },
     "metadata": {},
     "output_type": "display_data"
    },
    {
     "data": {
      "text/html": [
       " View project at <a href=\"https://wandb.ai/noahluna/my-awesome-project\" target=\"_blank\">https://wandb.ai/noahluna/my-awesome-project</a>"
      ],
      "text/plain": [
       "<IPython.core.display.HTML object>"
      ]
     },
     "metadata": {},
     "output_type": "display_data"
    },
    {
     "data": {
      "text/html": [
       " View run at <a href=\"https://wandb.ai/noahluna/my-awesome-project/runs/bpp341wa\" target=\"_blank\">https://wandb.ai/noahluna/my-awesome-project/runs/bpp341wa</a>"
      ],
      "text/plain": [
       "<IPython.core.display.HTML object>"
      ]
     },
     "metadata": {},
     "output_type": "display_data"
    }
   ],
   "source": [
    "# Import the W&B Python Library and log into W&B\n",
    "import wandb\n",
    "wandb.login()\n",
    "\n",
    "run = wandb.init(project='my-awesome-project')"
   ]
  },
  {
   "cell_type": "code",
   "execution_count": 2,
   "id": "76d0de73",
   "metadata": {},
   "outputs": [],
   "source": [
    "train_acc = 1\n",
    "train_loss = .45"
   ]
  },
  {
   "cell_type": "code",
   "execution_count": 3,
   "id": "b1858ea3",
   "metadata": {},
   "outputs": [],
   "source": [
    "run.log({\n",
    "    'accuracy' :  train_acc,\n",
    "    'loss' : train_loss\n",
    "})"
   ]
  },
  {
   "cell_type": "code",
   "execution_count": 4,
   "id": "c1849847",
   "metadata": {},
   "outputs": [],
   "source": [
    "run.finish()"
   ]
  }
 ],
 "metadata": {
  "kernelspec": {
   "display_name": "Python 3",
   "language": "python",
   "name": "python3"
  },
  "language_info": {
   "codemirror_mode": {
    "name": "ipython",
    "version": 3
   },
   "file_extension": ".py",
   "mimetype": "text/x-python",
   "name": "python",
   "nbconvert_exporter": "python",
   "pygments_lexer": "ipython3",
   "version": "3.10.0"
  }
 },
 "nbformat": 4,
 "nbformat_minor": 5
}
