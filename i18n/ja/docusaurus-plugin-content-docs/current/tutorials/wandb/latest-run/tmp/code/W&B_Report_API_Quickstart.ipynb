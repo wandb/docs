{
 "cells": [
  {
   "cell_type": "markdown",
   "metadata": {},
   "source": [
    "# W&B Report API\n",
    "\n",
    "<a href=\"https://colab.research.google.com/drive/1CzyJx1nuOS4pdkXa2XPaRQyZdmFmLmXV\" target=\"_parent\"><img src=\"https://colab.research.google.com/assets/colab-badge.svg\" alt=\"Open In Colab\"/></a>\n",
    "<!--- @wandbcode{python-report-api} -->"
   ]
  },
  {
   "cell_type": "markdown",
   "metadata": {},
   "source": [
    "## What is this?\n",
    "- Programmatically create and modify reports in Python, including support for editing blocks, panels, and runsets.\n",
    "- Create report templates to reuse and share with others\n",
    "\n"
   ]
  },
  {
   "cell_type": "markdown",
   "metadata": {},
   "source": [
    "## Quick Links\n",
    "- [🚀 Quickstart Guide](#scrollTo=6QX5y4xx7Ezh) (~5min)\n",
    "- [❓ FAQ](#scrollTo=klsDLom6Juc5)\n",
    "- [📌 Complete Examples](#scrollTo=56Xtn86jSTOh)"
   ]
  },
  {
   "cell_type": "code",
   "execution_count": null,
   "metadata": {},
   "outputs": [],
   "source": [
    "%%capture\n",
    "!pip install wandb"
   ]
  },
  {
   "cell_type": "markdown",
   "metadata": {},
   "source": [
    "## Setup"
   ]
  },
  {
   "cell_type": "code",
   "execution_count": null,
   "metadata": {},
   "outputs": [
    {
     "name": "stderr",
     "output_type": "stream",
     "text": [
      "\u001b[34m\u001b[1mwandb\u001b[0m: Currently logged in as: \u001b[33mnoahluna\u001b[0m. Use \u001b[1m`wandb login --relogin`\u001b[0m to force relogin\n"
     ]
    },
    {
     "data": {
      "text/html": [
       "wandb version 0.13.10 is available!  To upgrade, please run:\n",
       " $ pip install wandb --upgrade"
      ],
      "text/plain": [
       "<IPython.core.display.HTML object>"
      ]
     },
     "metadata": {},
     "output_type": "display_data"
    },
    {
     "data": {
      "text/html": [
       "Tracking run with wandb version 0.13.9"
      ],
      "text/plain": [
       "<IPython.core.display.HTML object>"
      ]
     },
     "metadata": {},
     "output_type": "display_data"
    },
    {
     "data": {
      "text/html": [
       "Run data is saved locally in <code>/Users/noahluna/Documents/GitHub/docodile/docs/tutorials/wandb/run-20230225_114554-91x64vpg</code>"
      ],
      "text/plain": [
       "<IPython.core.display.HTML object>"
      ]
     },
     "metadata": {},
     "output_type": "display_data"
    },
    {
     "data": {
      "text/html": [
       "Syncing run <strong><a href=\"https://wandb.ai/noahluna/report-api-quickstart/runs/91x64vpg\" target=\"_blank\">adventurous-aardvark-1</a></strong> to <a href=\"https://wandb.ai/noahluna/report-api-quickstart\" target=\"_blank\">Weights & Biases</a> (<a href=\"https://wandb.me/run\" target=\"_blank\">docs</a>)<br/>"
      ],
      "text/plain": [
       "<IPython.core.display.HTML object>"
      ]
     },
     "metadata": {},
     "output_type": "display_data"
    },
    {
     "data": {
      "text/html": [
       " View project at <a href=\"https://wandb.ai/noahluna/report-api-quickstart\" target=\"_blank\">https://wandb.ai/noahluna/report-api-quickstart</a>"
      ],
      "text/plain": [
       "<IPython.core.display.HTML object>"
      ]
     },
     "metadata": {},
     "output_type": "display_data"
    },
    {
     "data": {
      "text/html": [
       " View run at <a href=\"https://wandb.ai/noahluna/report-api-quickstart/runs/91x64vpg\" target=\"_blank\">https://wandb.ai/noahluna/report-api-quickstart/runs/91x64vpg</a>"
      ],
      "text/plain": [
       "<IPython.core.display.HTML object>"
      ]
     },
     "metadata": {},
     "output_type": "display_data"
    },
    {
     "data": {
      "text/html": [
       "Waiting for W&B process to finish... <strong style=\"color:green\">(success).</strong>"
      ],
      "text/plain": [
       "<IPython.core.display.HTML object>"
      ]
     },
     "metadata": {},
     "output_type": "display_data"
    },
    {
     "data": {
      "text/html": [
       "<style>\n",
       "    table.wandb td:nth-child(1) { padding: 0 10px; text-align: left ; width: auto;} td:nth-child(2) {text-align: left ; width: 100%}\n",
       "    .wandb-row { display: flex; flex-direction: row; flex-wrap: wrap; justify-content: flex-start; width: 100% }\n",
       "    .wandb-col { display: flex; flex-direction: column; flex-basis: 100%; flex: 1; padding: 10px; }\n",
       "    </style>\n",
       "<div class=\"wandb-row\"><div class=\"wandb-col\"><h3>Run history:</h3><br/><table class=\"wandb\"><tr><td>acc</td><td>▁▂▂▄▅▄▄▅▅▅▅▅▆▅▅▆▆▆▇▆▇▇▇▆▆▇█▇█▇▇██▇██▇▇▇█</td></tr><tr><td>loss</td><td>█▇▆▅▅▅▅▄▃▄▃▃▃▂▂▃▃▂▂▂▂▂▂▁▃▂▂▂▂▂▁▁▂▂▁▁▂▁▂▁</td></tr><tr><td>val_acc</td><td>▁▃▄▄▅▄▅▅▅▅▆▆▇▆▆▇▇▇▇▇▇▆▇▆▇▇▇▇▇▇▇▇▇▇▇▇█▇██</td></tr><tr><td>val_loss</td><td>█▇▆▅▅▄▄▃▃▄▃▄▄▄▃▃▂▂▃▃▃▃▃▂▃▂▃▂▁▂▁▁▁▂▁▂▁▁▁▂</td></tr></table><br/></div><div class=\"wandb-col\"><h3>Run summary:</h3><br/><table class=\"wandb\"><tr><td>acc</td><td>3.46682</td></tr><tr><td>loss</td><td>-0.05696</td></tr><tr><td>val_acc</td><td>3.41633</td></tr><tr><td>val_loss</td><td>0.0291</td></tr></table><br/></div></div>"
      ],
      "text/plain": [
       "<IPython.core.display.HTML object>"
      ]
     },
     "metadata": {},
     "output_type": "display_data"
    },
    {
     "data": {
      "text/html": [
       " View run <strong style=\"color:#cdcd00\">adventurous-aardvark-1</strong> at: <a href=\"https://wandb.ai/noahluna/report-api-quickstart/runs/91x64vpg\" target=\"_blank\">https://wandb.ai/noahluna/report-api-quickstart/runs/91x64vpg</a><br/>Synced 5 W&B file(s), 0 media file(s), 2 artifact file(s) and 1 other file(s)"
      ],
      "text/plain": [
       "<IPython.core.display.HTML object>"
      ]
     },
     "metadata": {},
     "output_type": "display_data"
    },
    {
     "data": {
      "text/html": [
       "Find logs at: <code>./wandb/run-20230225_114554-91x64vpg/logs</code>"
      ],
      "text/plain": [
       "<IPython.core.display.HTML object>"
      ]
     },
     "metadata": {},
     "output_type": "display_data"
    },
    {
     "data": {
      "application/vnd.jupyter.widget-view+json": {
       "model_id": "f750c5e9f48c4f0b978a83ae8d4fd226",
       "version_major": 2,
       "version_minor": 0
      },
      "text/plain": [
       "VBox(children=(Label(value='Waiting for wandb.init()...\\r'), FloatProgress(value=0.016750798599484067, max=1.0…"
      ]
     },
     "metadata": {},
     "output_type": "display_data"
    },
    {
     "data": {
      "text/html": [
       "wandb version 0.13.10 is available!  To upgrade, please run:\n",
       " $ pip install wandb --upgrade"
      ],
      "text/plain": [
       "<IPython.core.display.HTML object>"
      ]
     },
     "metadata": {},
     "output_type": "display_data"
    },
    {
     "data": {
      "text/html": [
       "Tracking run with wandb version 0.13.9"
      ],
      "text/plain": [
       "<IPython.core.display.HTML object>"
      ]
     },
     "metadata": {},
     "output_type": "display_data"
    },
    {
     "data": {
      "text/html": [
       "Run data is saved locally in <code>/Users/noahluna/Documents/GitHub/docodile/docs/tutorials/wandb/run-20230225_114601-wzja4a3p</code>"
      ],
      "text/plain": [
       "<IPython.core.display.HTML object>"
      ]
     },
     "metadata": {},
     "output_type": "display_data"
    },
    {
     "data": {
      "text/html": [
       "Syncing run <strong><a href=\"https://wandb.ai/noahluna/report-api-quickstart/runs/wzja4a3p\" target=\"_blank\">bountiful-badger-2</a></strong> to <a href=\"https://wandb.ai/noahluna/report-api-quickstart\" target=\"_blank\">Weights & Biases</a> (<a href=\"https://wandb.me/run\" target=\"_blank\">docs</a>)<br/>"
      ],
      "text/plain": [
       "<IPython.core.display.HTML object>"
      ]
     },
     "metadata": {},
     "output_type": "display_data"
    },
    {
     "data": {
      "text/html": [
       " View project at <a href=\"https://wandb.ai/noahluna/report-api-quickstart\" target=\"_blank\">https://wandb.ai/noahluna/report-api-quickstart</a>"
      ],
      "text/plain": [
       "<IPython.core.display.HTML object>"
      ]
     },
     "metadata": {},
     "output_type": "display_data"
    },
    {
     "data": {
      "text/html": [
       " View run at <a href=\"https://wandb.ai/noahluna/report-api-quickstart/runs/wzja4a3p\" target=\"_blank\">https://wandb.ai/noahluna/report-api-quickstart/runs/wzja4a3p</a>"
      ],
      "text/plain": [
       "<IPython.core.display.HTML object>"
      ]
     },
     "metadata": {},
     "output_type": "display_data"
    },
    {
     "data": {
      "text/html": [
       "Waiting for W&B process to finish... <strong style=\"color:green\">(success).</strong>"
      ],
      "text/plain": [
       "<IPython.core.display.HTML object>"
      ]
     },
     "metadata": {},
     "output_type": "display_data"
    },
    {
     "data": {
      "text/html": [
       "<style>\n",
       "    table.wandb td:nth-child(1) { padding: 0 10px; text-align: left ; width: auto;} td:nth-child(2) {text-align: left ; width: 100%}\n",
       "    .wandb-row { display: flex; flex-direction: row; flex-wrap: wrap; justify-content: flex-start; width: 100% }\n",
       "    .wandb-col { display: flex; flex-direction: column; flex-basis: 100%; flex: 1; padding: 10px; }\n",
       "    </style>\n",
       "<div class=\"wandb-row\"><div class=\"wandb-col\"><h3>Run history:</h3><br/><table class=\"wandb\"><tr><td>acc</td><td>▁▂▃▅▄▅▅▅▆▅▆▇▆▆▆▆▇▆▆▇▇▆▇▆▇▇▇█▇▇▇▇▇█▇▇█▇▇█</td></tr><tr><td>loss</td><td>█▆▆▅▅▅▅▃▃▄▃▄▄▃▄▃▃▂▂▃▃▂▂▃▃▂▁▂▁▂▂▂▂▂▂▂▁▁▂▂</td></tr><tr><td>val_acc</td><td>▁▃▄▅▅▅▅▆▆▆▇▅▆▆▆▆▇▆▆▆█▆▇▇▇▇██▇▇███▇▇███▇█</td></tr><tr><td>val_loss</td><td>█▆▅▅▄▄▄▃▃▄▃▃▃▃▃▃▃▃▂▃▂▂▂▂▂▃▂▂▂▁▁▂▂▁▁▂▁▁▁▂</td></tr></table><br/></div><div class=\"wandb-col\"><h3>Run summary:</h3><br/><table class=\"wandb\"><tr><td>acc</td><td>3.24502</td></tr><tr><td>loss</td><td>0.12912</td></tr><tr><td>val_acc</td><td>2.98823</td></tr><tr><td>val_loss</td><td>0.11284</td></tr></table><br/></div></div>"
      ],
      "text/plain": [
       "<IPython.core.display.HTML object>"
      ]
     },
     "metadata": {},
     "output_type": "display_data"
    },
    {
     "data": {
      "text/html": [
       " View run <strong style=\"color:#cdcd00\">bountiful-badger-2</strong> at: <a href=\"https://wandb.ai/noahluna/report-api-quickstart/runs/wzja4a3p\" target=\"_blank\">https://wandb.ai/noahluna/report-api-quickstart/runs/wzja4a3p</a><br/>Synced 5 W&B file(s), 0 media file(s), 2 artifact file(s) and 1 other file(s)"
      ],
      "text/plain": [
       "<IPython.core.display.HTML object>"
      ]
     },
     "metadata": {},
     "output_type": "display_data"
    },
    {
     "data": {
      "text/html": [
       "Find logs at: <code>./wandb/run-20230225_114601-wzja4a3p/logs</code>"
      ],
      "text/plain": [
       "<IPython.core.display.HTML object>"
      ]
     },
     "metadata": {},
     "output_type": "display_data"
    },
    {
     "data": {
      "application/vnd.jupyter.widget-view+json": {
       "model_id": "16c195aac5a3470b85433fcba6092e50",
       "version_major": 2,
       "version_minor": 0
      },
      "text/plain": [
       "VBox(children=(Label(value='Waiting for wandb.init()...\\r'), FloatProgress(value=0.016807794435104977, max=1.0…"
      ]
     },
     "metadata": {},
     "output_type": "display_data"
    },
    {
     "data": {
      "text/html": [
       "wandb version 0.13.10 is available!  To upgrade, please run:\n",
       " $ pip install wandb --upgrade"
      ],
      "text/plain": [
       "<IPython.core.display.HTML object>"
      ]
     },
     "metadata": {},
     "output_type": "display_data"
    },
    {
     "data": {
      "text/html": [
       "Tracking run with wandb version 0.13.9"
      ],
      "text/plain": [
       "<IPython.core.display.HTML object>"
      ]
     },
     "metadata": {},
     "output_type": "display_data"
    },
    {
     "data": {
      "text/html": [
       "Run data is saved locally in <code>/Users/noahluna/Documents/GitHub/docodile/docs/tutorials/wandb/run-20230225_114608-1mbl3kdo</code>"
      ],
      "text/plain": [
       "<IPython.core.display.HTML object>"
      ]
     },
     "metadata": {},
     "output_type": "display_data"
    },
    {
     "data": {
      "text/html": [
       "Syncing run <strong><a href=\"https://wandb.ai/noahluna/report-api-quickstart/runs/1mbl3kdo\" target=\"_blank\">clairvoyant-chipmunk-3</a></strong> to <a href=\"https://wandb.ai/noahluna/report-api-quickstart\" target=\"_blank\">Weights & Biases</a> (<a href=\"https://wandb.me/run\" target=\"_blank\">docs</a>)<br/>"
      ],
      "text/plain": [
       "<IPython.core.display.HTML object>"
      ]
     },
     "metadata": {},
     "output_type": "display_data"
    },
    {
     "data": {
      "text/html": [
       " View project at <a href=\"https://wandb.ai/noahluna/report-api-quickstart\" target=\"_blank\">https://wandb.ai/noahluna/report-api-quickstart</a>"
      ],
      "text/plain": [
       "<IPython.core.display.HTML object>"
      ]
     },
     "metadata": {},
     "output_type": "display_data"
    },
    {
     "data": {
      "text/html": [
       " View run at <a href=\"https://wandb.ai/noahluna/report-api-quickstart/runs/1mbl3kdo\" target=\"_blank\">https://wandb.ai/noahluna/report-api-quickstart/runs/1mbl3kdo</a>"
      ],
      "text/plain": [
       "<IPython.core.display.HTML object>"
      ]
     },
     "metadata": {},
     "output_type": "display_data"
    },
    {
     "data": {
      "text/html": [
       "Waiting for W&B process to finish... <strong style=\"color:green\">(success).</strong>"
      ],
      "text/plain": [
       "<IPython.core.display.HTML object>"
      ]
     },
     "metadata": {},
     "output_type": "display_data"
    },
    {
     "data": {
      "text/html": [
       "<style>\n",
       "    table.wandb td:nth-child(1) { padding: 0 10px; text-align: left ; width: auto;} td:nth-child(2) {text-align: left ; width: 100%}\n",
       "    .wandb-row { display: flex; flex-direction: row; flex-wrap: wrap; justify-content: flex-start; width: 100% }\n",
       "    .wandb-col { display: flex; flex-direction: column; flex-basis: 100%; flex: 1; padding: 10px; }\n",
       "    </style>\n",
       "<div class=\"wandb-row\"><div class=\"wandb-col\"><h3>Run history:</h3><br/><table class=\"wandb\"><tr><td>acc</td><td>▁▃▃▄▄▄▅▅▆▅▆▆▅▅▆▅▆▆▇▆▆▆▇▆▇▇▇▇▇▇▇▇▇▇▇▇████</td></tr><tr><td>loss</td><td>█▆▄▄▄▄▃▄▃▃▃▃▃▂▃▂▂▃▃▂▃▂▂▂▂▁▂▁▁▂▁▁▁▂▁▂▁▂▂▁</td></tr><tr><td>val_acc</td><td>▁▂▃▄▄▄▄▅▆▅▆▅▆▆▆▆▆▆▇▇▆▇▇▆▆▇▇▇▇██▇▇█▇█▇▇██</td></tr><tr><td>val_loss</td><td>█▆▆▅▄▅▄▃▃▃▃▃▃▃▃▃▃▃▂▃▃▂▃▂▃▂▂▂▂▂▂▂▂▂▁▂▁▂▁▁</td></tr></table><br/></div><div class=\"wandb-col\"><h3>Run summary:</h3><br/><table class=\"wandb\"><tr><td>acc</td><td>3.40867</td></tr><tr><td>loss</td><td>0.0212</td></tr><tr><td>val_acc</td><td>3.09913</td></tr><tr><td>val_loss</td><td>0.07628</td></tr></table><br/></div></div>"
      ],
      "text/plain": [
       "<IPython.core.display.HTML object>"
      ]
     },
     "metadata": {},
     "output_type": "display_data"
    },
    {
     "data": {
      "text/html": [
       " View run <strong style=\"color:#cdcd00\">clairvoyant-chipmunk-3</strong> at: <a href=\"https://wandb.ai/noahluna/report-api-quickstart/runs/1mbl3kdo\" target=\"_blank\">https://wandb.ai/noahluna/report-api-quickstart/runs/1mbl3kdo</a><br/>Synced 5 W&B file(s), 0 media file(s), 2 artifact file(s) and 1 other file(s)"
      ],
      "text/plain": [
       "<IPython.core.display.HTML object>"
      ]
     },
     "metadata": {},
     "output_type": "display_data"
    },
    {
     "data": {
      "text/html": [
       "Find logs at: <code>./wandb/run-20230225_114608-1mbl3kdo/logs</code>"
      ],
      "text/plain": [
       "<IPython.core.display.HTML object>"
      ]
     },
     "metadata": {},
     "output_type": "display_data"
    },
    {
     "data": {
      "application/vnd.jupyter.widget-view+json": {
       "model_id": "8bad712359b843c0ada11fc29879aef6",
       "version_major": 2,
       "version_minor": 0
      },
      "text/plain": [
       "VBox(children=(Label(value='Waiting for wandb.init()...\\r'), FloatProgress(value=0.016711604866820075, max=1.0…"
      ]
     },
     "metadata": {},
     "output_type": "display_data"
    },
    {
     "data": {
      "text/html": [
       "wandb version 0.13.10 is available!  To upgrade, please run:\n",
       " $ pip install wandb --upgrade"
      ],
      "text/plain": [
       "<IPython.core.display.HTML object>"
      ]
     },
     "metadata": {},
     "output_type": "display_data"
    },
    {
     "data": {
      "text/html": [
       "Tracking run with wandb version 0.13.9"
      ],
      "text/plain": [
       "<IPython.core.display.HTML object>"
      ]
     },
     "metadata": {},
     "output_type": "display_data"
    },
    {
     "data": {
      "text/html": [
       "Run data is saved locally in <code>/Users/noahluna/Documents/GitHub/docodile/docs/tutorials/wandb/run-20230225_114621-pi23jeyg</code>"
      ],
      "text/plain": [
       "<IPython.core.display.HTML object>"
      ]
     },
     "metadata": {},
     "output_type": "display_data"
    },
    {
     "data": {
      "text/html": [
       "Syncing run <strong><a href=\"https://wandb.ai/noahluna/report-api-quickstart/runs/pi23jeyg\" target=\"_blank\">dastardly-duck-4</a></strong> to <a href=\"https://wandb.ai/noahluna/report-api-quickstart\" target=\"_blank\">Weights & Biases</a> (<a href=\"https://wandb.me/run\" target=\"_blank\">docs</a>)<br/>"
      ],
      "text/plain": [
       "<IPython.core.display.HTML object>"
      ]
     },
     "metadata": {},
     "output_type": "display_data"
    },
    {
     "data": {
      "text/html": [
       " View project at <a href=\"https://wandb.ai/noahluna/report-api-quickstart\" target=\"_blank\">https://wandb.ai/noahluna/report-api-quickstart</a>"
      ],
      "text/plain": [
       "<IPython.core.display.HTML object>"
      ]
     },
     "metadata": {},
     "output_type": "display_data"
    },
    {
     "data": {
      "text/html": [
       " View run at <a href=\"https://wandb.ai/noahluna/report-api-quickstart/runs/pi23jeyg\" target=\"_blank\">https://wandb.ai/noahluna/report-api-quickstart/runs/pi23jeyg</a>"
      ],
      "text/plain": [
       "<IPython.core.display.HTML object>"
      ]
     },
     "metadata": {},
     "output_type": "display_data"
    },
    {
     "data": {
      "text/html": [
       "Waiting for W&B process to finish... <strong style=\"color:green\">(success).</strong>"
      ],
      "text/plain": [
       "<IPython.core.display.HTML object>"
      ]
     },
     "metadata": {},
     "output_type": "display_data"
    },
    {
     "data": {
      "text/html": [
       "<style>\n",
       "    table.wandb td:nth-child(1) { padding: 0 10px; text-align: left ; width: auto;} td:nth-child(2) {text-align: left ; width: 100%}\n",
       "    .wandb-row { display: flex; flex-direction: row; flex-wrap: wrap; justify-content: flex-start; width: 100% }\n",
       "    .wandb-col { display: flex; flex-direction: column; flex-basis: 100%; flex: 1; padding: 10px; }\n",
       "    </style>\n",
       "<div class=\"wandb-row\"><div class=\"wandb-col\"><h3>Run history:</h3><br/><table class=\"wandb\"><tr><td>acc</td><td>▁▃▃▃▅▅▅▅▅▆▅▆▆▅▅▆▆▇▇▆▇▆▇▇▇▇▇▇█▇▇▇█▇▇█▇▇▇█</td></tr><tr><td>loss</td><td>█▅▄▄▄▄▄▄▃▃▃▃▂▂▃▂▂▂▃▂▂▂▂▂▂▁▂▂▁▂▂▂▁▁▂▂▂▂▁▁</td></tr><tr><td>val_acc</td><td>▁▃▃▄▄▄▄▅▅▅▅▆▆▆▅▆▆▆▇▇▆▇▆▇▆▇▇▇▇▇█▇▇▇▇▇▇█▇█</td></tr><tr><td>val_loss</td><td>█▇▆▅▅▅▄▄▄▃▃▄▃▃▃▄▃▃▂▃▃▂▂▃▂▂▂▂▁▂▂▂▂▁▂▁▂▁▂▂</td></tr></table><br/></div><div class=\"wandb-col\"><h3>Run summary:</h3><br/><table class=\"wandb\"><tr><td>acc</td><td>3.39669</td></tr><tr><td>loss</td><td>0.06379</td></tr><tr><td>val_acc</td><td>3.17357</td></tr><tr><td>val_loss</td><td>0.06125</td></tr></table><br/></div></div>"
      ],
      "text/plain": [
       "<IPython.core.display.HTML object>"
      ]
     },
     "metadata": {},
     "output_type": "display_data"
    },
    {
     "data": {
      "text/html": [
       " View run <strong style=\"color:#cdcd00\">dastardly-duck-4</strong> at: <a href=\"https://wandb.ai/noahluna/report-api-quickstart/runs/pi23jeyg\" target=\"_blank\">https://wandb.ai/noahluna/report-api-quickstart/runs/pi23jeyg</a><br/>Synced 5 W&B file(s), 0 media file(s), 2 artifact file(s) and 1 other file(s)"
      ],
      "text/plain": [
       "<IPython.core.display.HTML object>"
      ]
     },
     "metadata": {},
     "output_type": "display_data"
    },
    {
     "data": {
      "text/html": [
       "Find logs at: <code>./wandb/run-20230225_114621-pi23jeyg/logs</code>"
      ],
      "text/plain": [
       "<IPython.core.display.HTML object>"
      ]
     },
     "metadata": {},
     "output_type": "display_data"
    },
    {
     "data": {
      "application/vnd.jupyter.widget-view+json": {
       "model_id": "6359050e1a9d4d27b2007e285a4febb9",
       "version_major": 2,
       "version_minor": 0
      },
      "text/plain": [
       "VBox(children=(Label(value='Waiting for wandb.init()...\\r'), FloatProgress(value=0.01675304931510861, max=1.0)…"
      ]
     },
     "metadata": {},
     "output_type": "display_data"
    },
    {
     "data": {
      "text/html": [
       "wandb version 0.13.10 is available!  To upgrade, please run:\n",
       " $ pip install wandb --upgrade"
      ],
      "text/plain": [
       "<IPython.core.display.HTML object>"
      ]
     },
     "metadata": {},
     "output_type": "display_data"
    },
    {
     "data": {
      "text/html": [
       "Tracking run with wandb version 0.13.9"
      ],
      "text/plain": [
       "<IPython.core.display.HTML object>"
      ]
     },
     "metadata": {},
     "output_type": "display_data"
    },
    {
     "data": {
      "text/html": [
       "Run data is saved locally in <code>/Users/noahluna/Documents/GitHub/docodile/docs/tutorials/wandb/run-20230225_114628-ntfiqgev</code>"
      ],
      "text/plain": [
       "<IPython.core.display.HTML object>"
      ]
     },
     "metadata": {},
     "output_type": "display_data"
    },
    {
     "data": {
      "text/html": [
       "Syncing run <strong><a href=\"https://wandb.ai/noahluna/report-api-quickstart/runs/ntfiqgev\" target=\"_blank\">eloquent-elephant-5</a></strong> to <a href=\"https://wandb.ai/noahluna/report-api-quickstart\" target=\"_blank\">Weights & Biases</a> (<a href=\"https://wandb.me/run\" target=\"_blank\">docs</a>)<br/>"
      ],
      "text/plain": [
       "<IPython.core.display.HTML object>"
      ]
     },
     "metadata": {},
     "output_type": "display_data"
    },
    {
     "data": {
      "text/html": [
       " View project at <a href=\"https://wandb.ai/noahluna/report-api-quickstart\" target=\"_blank\">https://wandb.ai/noahluna/report-api-quickstart</a>"
      ],
      "text/plain": [
       "<IPython.core.display.HTML object>"
      ]
     },
     "metadata": {},
     "output_type": "display_data"
    },
    {
     "data": {
      "text/html": [
       " View run at <a href=\"https://wandb.ai/noahluna/report-api-quickstart/runs/ntfiqgev\" target=\"_blank\">https://wandb.ai/noahluna/report-api-quickstart/runs/ntfiqgev</a>"
      ],
      "text/plain": [
       "<IPython.core.display.HTML object>"
      ]
     },
     "metadata": {},
     "output_type": "display_data"
    },
    {
     "data": {
      "text/html": [
       "Waiting for W&B process to finish... <strong style=\"color:green\">(success).</strong>"
      ],
      "text/plain": [
       "<IPython.core.display.HTML object>"
      ]
     },
     "metadata": {},
     "output_type": "display_data"
    },
    {
     "data": {
      "text/html": [
       " View run <strong style=\"color:#cdcd00\">eloquent-elephant-5</strong> at: <a href=\"https://wandb.ai/noahluna/report-api-quickstart/runs/ntfiqgev\" target=\"_blank\">https://wandb.ai/noahluna/report-api-quickstart/runs/ntfiqgev</a><br/>Synced 5 W&B file(s), 2 media file(s), 4 artifact file(s) and 1 other file(s)"
      ],
      "text/plain": [
       "<IPython.core.display.HTML object>"
      ]
     },
     "metadata": {},
     "output_type": "display_data"
    },
    {
     "data": {
      "text/html": [
       "Find logs at: <code>./wandb/run-20230225_114628-ntfiqgev/logs</code>"
      ],
      "text/plain": [
       "<IPython.core.display.HTML object>"
      ]
     },
     "metadata": {},
     "output_type": "display_data"
    },
    {
     "data": {
      "application/vnd.jupyter.widget-view+json": {
       "model_id": "273e782655d443339e56215f34ec97e6",
       "version_major": 2,
       "version_minor": 0
      },
      "text/plain": [
       "VBox(children=(Label(value='Waiting for wandb.init()...\\r'), FloatProgress(value=0.016752711116957166, max=1.0…"
      ]
     },
     "metadata": {},
     "output_type": "display_data"
    },
    {
     "data": {
      "text/html": [
       "wandb version 0.13.10 is available!  To upgrade, please run:\n",
       " $ pip install wandb --upgrade"
      ],
      "text/plain": [
       "<IPython.core.display.HTML object>"
      ]
     },
     "metadata": {},
     "output_type": "display_data"
    },
    {
     "data": {
      "text/html": [
       "Tracking run with wandb version 0.13.9"
      ],
      "text/plain": [
       "<IPython.core.display.HTML object>"
      ]
     },
     "metadata": {},
     "output_type": "display_data"
    },
    {
     "data": {
      "text/html": [
       "Run data is saved locally in <code>/Users/noahluna/Documents/GitHub/docodile/docs/tutorials/wandb/run-20230225_114638-nia76bdz</code>"
      ],
      "text/plain": [
       "<IPython.core.display.HTML object>"
      ]
     },
     "metadata": {},
     "output_type": "display_data"
    },
    {
     "data": {
      "text/html": [
       "Syncing run <strong><a href=\"https://wandb.ai/noahluna/lineage-project/runs/nia76bdz\" target=\"_blank\">northern-flower-1</a></strong> to <a href=\"https://wandb.ai/noahluna/lineage-project\" target=\"_blank\">Weights & Biases</a> (<a href=\"https://wandb.me/run\" target=\"_blank\">docs</a>)<br/>"
      ],
      "text/plain": [
       "<IPython.core.display.HTML object>"
      ]
     },
     "metadata": {},
     "output_type": "display_data"
    },
    {
     "data": {
      "text/html": [
       " View project at <a href=\"https://wandb.ai/noahluna/lineage-project\" target=\"_blank\">https://wandb.ai/noahluna/lineage-project</a>"
      ],
      "text/plain": [
       "<IPython.core.display.HTML object>"
      ]
     },
     "metadata": {},
     "output_type": "display_data"
    },
    {
     "data": {
      "text/html": [
       " View run at <a href=\"https://wandb.ai/noahluna/lineage-project/runs/nia76bdz\" target=\"_blank\">https://wandb.ai/noahluna/lineage-project/runs/nia76bdz</a>"
      ],
      "text/plain": [
       "<IPython.core.display.HTML object>"
      ]
     },
     "metadata": {},
     "output_type": "display_data"
    },
    {
     "data": {
      "text/html": [
       "Waiting for W&B process to finish... <strong style=\"color:green\">(success).</strong>"
      ],
      "text/plain": [
       "<IPython.core.display.HTML object>"
      ]
     },
     "metadata": {},
     "output_type": "display_data"
    },
    {
     "data": {
      "application/vnd.jupyter.widget-view+json": {
       "model_id": "df791e84d279442e90307b158d79d715",
       "version_major": 2,
       "version_minor": 0
      },
      "text/plain": [
       "VBox(children=(Label(value='1.412 MB of 1.412 MB uploaded (0.000 MB deduped)\\r'), FloatProgress(value=1.0, max…"
      ]
     },
     "metadata": {},
     "output_type": "display_data"
    },
    {
     "data": {
      "text/html": [
       " View run <strong style=\"color:#cdcd00\">northern-flower-1</strong> at: <a href=\"https://wandb.ai/noahluna/lineage-project/runs/nia76bdz\" target=\"_blank\">https://wandb.ai/noahluna/lineage-project/runs/nia76bdz</a><br/>Synced 5 W&B file(s), 0 media file(s), 11 artifact file(s) and 1 other file(s)"
      ],
      "text/plain": [
       "<IPython.core.display.HTML object>"
      ]
     },
     "metadata": {},
     "output_type": "display_data"
    },
    {
     "data": {
      "text/html": [
       "Find logs at: <code>./wandb/run-20230225_114638-nia76bdz/logs</code>"
      ],
      "text/plain": [
       "<IPython.core.display.HTML object>"
      ]
     },
     "metadata": {},
     "output_type": "display_data"
    },
    {
     "data": {
      "application/vnd.jupyter.widget-view+json": {
       "model_id": "56d55960b7f24aadb97a04d34563991d",
       "version_major": 2,
       "version_minor": 0
      },
      "text/plain": [
       "VBox(children=(Label(value='Waiting for wandb.init()...\\r'), FloatProgress(value=0.016772169433534146, max=1.0…"
      ]
     },
     "metadata": {},
     "output_type": "display_data"
    },
    {
     "data": {
      "text/html": [
       "wandb version 0.13.10 is available!  To upgrade, please run:\n",
       " $ pip install wandb --upgrade"
      ],
      "text/plain": [
       "<IPython.core.display.HTML object>"
      ]
     },
     "metadata": {},
     "output_type": "display_data"
    },
    {
     "data": {
      "text/html": [
       "Tracking run with wandb version 0.13.9"
      ],
      "text/plain": [
       "<IPython.core.display.HTML object>"
      ]
     },
     "metadata": {},
     "output_type": "display_data"
    },
    {
     "data": {
      "text/html": [
       "Run data is saved locally in <code>/Users/noahluna/Documents/GitHub/docodile/docs/tutorials/wandb/run-20230225_114651-rngn3yxh</code>"
      ],
      "text/plain": [
       "<IPython.core.display.HTML object>"
      ]
     },
     "metadata": {},
     "output_type": "display_data"
    },
    {
     "data": {
      "text/html": [
       "Syncing run <strong><a href=\"https://wandb.ai/noahluna/lineage-project/runs/rngn3yxh\" target=\"_blank\">comic-disco-2</a></strong> to <a href=\"https://wandb.ai/noahluna/lineage-project\" target=\"_blank\">Weights & Biases</a> (<a href=\"https://wandb.me/run\" target=\"_blank\">docs</a>)<br/>"
      ],
      "text/plain": [
       "<IPython.core.display.HTML object>"
      ]
     },
     "metadata": {},
     "output_type": "display_data"
    },
    {
     "data": {
      "text/html": [
       " View project at <a href=\"https://wandb.ai/noahluna/lineage-project\" target=\"_blank\">https://wandb.ai/noahluna/lineage-project</a>"
      ],
      "text/plain": [
       "<IPython.core.display.HTML object>"
      ]
     },
     "metadata": {},
     "output_type": "display_data"
    },
    {
     "data": {
      "text/html": [
       " View run at <a href=\"https://wandb.ai/noahluna/lineage-project/runs/rngn3yxh\" target=\"_blank\">https://wandb.ai/noahluna/lineage-project/runs/rngn3yxh</a>"
      ],
      "text/plain": [
       "<IPython.core.display.HTML object>"
      ]
     },
     "metadata": {},
     "output_type": "display_data"
    },
    {
     "data": {
      "text/html": [
       "Waiting for W&B process to finish... <strong style=\"color:green\">(success).</strong>"
      ],
      "text/plain": [
       "<IPython.core.display.HTML object>"
      ]
     },
     "metadata": {},
     "output_type": "display_data"
    },
    {
     "data": {
      "application/vnd.jupyter.widget-view+json": {
       "model_id": "baf2fa613be64e5191dd19b749a8b882",
       "version_major": 2,
       "version_minor": 0
      },
      "text/plain": [
       "VBox(children=(Label(value='1.412 MB of 1.412 MB uploaded (0.265 MB deduped)\\r'), FloatProgress(value=1.0, max…"
      ]
     },
     "metadata": {},
     "output_type": "display_data"
    },
    {
     "data": {
      "text/html": [
       " View run <strong style=\"color:#cdcd00\">comic-disco-2</strong> at: <a href=\"https://wandb.ai/noahluna/lineage-project/runs/rngn3yxh\" target=\"_blank\">https://wandb.ai/noahluna/lineage-project/runs/rngn3yxh</a><br/>Synced 5 W&B file(s), 0 media file(s), 11 artifact file(s) and 1 other file(s)"
      ],
      "text/plain": [
       "<IPython.core.display.HTML object>"
      ]
     },
     "metadata": {},
     "output_type": "display_data"
    },
    {
     "data": {
      "text/html": [
       "Find logs at: <code>./wandb/run-20230225_114651-rngn3yxh/logs</code>"
      ],
      "text/plain": [
       "<IPython.core.display.HTML object>"
      ]
     },
     "metadata": {},
     "output_type": "display_data"
    },
    {
     "data": {
      "application/vnd.jupyter.widget-view+json": {
       "model_id": "82fa64550e804c8a8006cde887f3f42b",
       "version_major": 2,
       "version_minor": 0
      },
      "text/plain": [
       "VBox(children=(Label(value='Waiting for wandb.init()...\\r'), FloatProgress(value=0.016726129164453596, max=1.0…"
      ]
     },
     "metadata": {},
     "output_type": "display_data"
    },
    {
     "data": {
      "text/html": [
       "wandb version 0.13.10 is available!  To upgrade, please run:\n",
       " $ pip install wandb --upgrade"
      ],
      "text/plain": [
       "<IPython.core.display.HTML object>"
      ]
     },
     "metadata": {},
     "output_type": "display_data"
    },
    {
     "data": {
      "text/html": [
       "Tracking run with wandb version 0.13.9"
      ],
      "text/plain": [
       "<IPython.core.display.HTML object>"
      ]
     },
     "metadata": {},
     "output_type": "display_data"
    },
    {
     "data": {
      "text/html": [
       "Run data is saved locally in <code>/Users/noahluna/Documents/GitHub/docodile/docs/tutorials/wandb/run-20230225_114706-bfie4p9o</code>"
      ],
      "text/plain": [
       "<IPython.core.display.HTML object>"
      ]
     },
     "metadata": {},
     "output_type": "display_data"
    },
    {
     "data": {
      "text/html": [
       "Syncing run <strong><a href=\"https://wandb.ai/noahluna/lineage-project/runs/bfie4p9o\" target=\"_blank\">skilled-smoke-3</a></strong> to <a href=\"https://wandb.ai/noahluna/lineage-project\" target=\"_blank\">Weights & Biases</a> (<a href=\"https://wandb.me/run\" target=\"_blank\">docs</a>)<br/>"
      ],
      "text/plain": [
       "<IPython.core.display.HTML object>"
      ]
     },
     "metadata": {},
     "output_type": "display_data"
    },
    {
     "data": {
      "text/html": [
       " View project at <a href=\"https://wandb.ai/noahluna/lineage-project\" target=\"_blank\">https://wandb.ai/noahluna/lineage-project</a>"
      ],
      "text/plain": [
       "<IPython.core.display.HTML object>"
      ]
     },
     "metadata": {},
     "output_type": "display_data"
    },
    {
     "data": {
      "text/html": [
       " View run at <a href=\"https://wandb.ai/noahluna/lineage-project/runs/bfie4p9o\" target=\"_blank\">https://wandb.ai/noahluna/lineage-project/runs/bfie4p9o</a>"
      ],
      "text/plain": [
       "<IPython.core.display.HTML object>"
      ]
     },
     "metadata": {},
     "output_type": "display_data"
    },
    {
     "data": {
      "text/html": [
       "Waiting for W&B process to finish... <strong style=\"color:green\">(success).</strong>"
      ],
      "text/plain": [
       "<IPython.core.display.HTML object>"
      ]
     },
     "metadata": {},
     "output_type": "display_data"
    },
    {
     "data": {
      "application/vnd.jupyter.widget-view+json": {
       "model_id": "db44fe225aae4de7b298fe2fba42ec4d",
       "version_major": 2,
       "version_minor": 0
      },
      "text/plain": [
       "VBox(children=(Label(value='1.412 MB of 1.412 MB uploaded (1.399 MB deduped)\\r'), FloatProgress(value=1.0, max…"
      ]
     },
     "metadata": {},
     "output_type": "display_data"
    },
    {
     "data": {
      "text/html": [
       " View run <strong style=\"color:#cdcd00\">skilled-smoke-3</strong> at: <a href=\"https://wandb.ai/noahluna/lineage-project/runs/bfie4p9o\" target=\"_blank\">https://wandb.ai/noahluna/lineage-project/runs/bfie4p9o</a><br/>Synced 5 W&B file(s), 0 media file(s), 11 artifact file(s) and 1 other file(s)"
      ],
      "text/plain": [
       "<IPython.core.display.HTML object>"
      ]
     },
     "metadata": {},
     "output_type": "display_data"
    },
    {
     "data": {
      "text/html": [
       "Find logs at: <code>./wandb/run-20230225_114706-bfie4p9o/logs</code>"
      ],
      "text/plain": [
       "<IPython.core.display.HTML object>"
      ]
     },
     "metadata": {},
     "output_type": "display_data"
    },
    {
     "data": {
      "application/vnd.jupyter.widget-view+json": {
       "model_id": "e2cae69d0b474cfba78bb18e8f75e77c",
       "version_major": 2,
       "version_minor": 0
      },
      "text/plain": [
       "VBox(children=(Label(value='Waiting for wandb.init()...\\r'), FloatProgress(value=0.01669719166820869, max=1.0)…"
      ]
     },
     "metadata": {},
     "output_type": "display_data"
    },
    {
     "data": {
      "text/html": [
       "wandb version 0.13.10 is available!  To upgrade, please run:\n",
       " $ pip install wandb --upgrade"
      ],
      "text/plain": [
       "<IPython.core.display.HTML object>"
      ]
     },
     "metadata": {},
     "output_type": "display_data"
    },
    {
     "data": {
      "text/html": [
       "Tracking run with wandb version 0.13.9"
      ],
      "text/plain": [
       "<IPython.core.display.HTML object>"
      ]
     },
     "metadata": {},
     "output_type": "display_data"
    },
    {
     "data": {
      "text/html": [
       "Run data is saved locally in <code>/Users/noahluna/Documents/GitHub/docodile/docs/tutorials/wandb/run-20230225_114720-qryugudj</code>"
      ],
      "text/plain": [
       "<IPython.core.display.HTML object>"
      ]
     },
     "metadata": {},
     "output_type": "display_data"
    },
    {
     "data": {
      "text/html": [
       "Syncing run <strong><a href=\"https://wandb.ai/noahluna/lineage-project/runs/qryugudj\" target=\"_blank\">sparkling-paper-4</a></strong> to <a href=\"https://wandb.ai/noahluna/lineage-project\" target=\"_blank\">Weights & Biases</a> (<a href=\"https://wandb.me/run\" target=\"_blank\">docs</a>)<br/>"
      ],
      "text/plain": [
       "<IPython.core.display.HTML object>"
      ]
     },
     "metadata": {},
     "output_type": "display_data"
    },
    {
     "data": {
      "text/html": [
       " View project at <a href=\"https://wandb.ai/noahluna/lineage-project\" target=\"_blank\">https://wandb.ai/noahluna/lineage-project</a>"
      ],
      "text/plain": [
       "<IPython.core.display.HTML object>"
      ]
     },
     "metadata": {},
     "output_type": "display_data"
    },
    {
     "data": {
      "text/html": [
       " View run at <a href=\"https://wandb.ai/noahluna/lineage-project/runs/qryugudj\" target=\"_blank\">https://wandb.ai/noahluna/lineage-project/runs/qryugudj</a>"
      ],
      "text/plain": [
       "<IPython.core.display.HTML object>"
      ]
     },
     "metadata": {},
     "output_type": "display_data"
    }
   ],
   "source": [
    "#@title ## Log Runs { run: \"auto\", display-mode: \"form\" }\n",
    "#@markdown If this is your first time here, consider running the setup code for a better docs experience!\n",
    "#@markdown If you have run the setup code before, you can uncheck the box below to avoid unnecessary logging.\n",
    "\n",
    "LOG_DUMMY_RUNS = True #@param {type: \"boolean\"}\n",
    "\n",
    "\n",
    "import requests\n",
    "from PIL import Image\n",
    "from io import BytesIO\n",
    "import wandb\n",
    "import pandas as pd\n",
    "from itertools import product\n",
    "import random\n",
    "import math\n",
    "\n",
    "import wandb\n",
    "import random\n",
    "import string\n",
    "\n",
    "ENTITY = wandb.apis.PublicApi().default_entity\n",
    "PROJECT = \"report-api-quickstart\" #@param {type: \"string\"}\n",
    "LINEAGE_PROJECT = \"lineage-project\" #@param {type: \"string\"}\n",
    "\n",
    "\n",
    "def get_image(url):\n",
    "    r = requests.get(url)\n",
    "    return Image.open(BytesIO(r.content))\n",
    "\n",
    "\n",
    "def log_dummy_data():\n",
    "    run_names = [\n",
    "        \"adventurous-aardvark-1\",\n",
    "        \"bountiful-badger-2\",\n",
    "        \"clairvoyant-chipmunk-3\",\n",
    "        \"dastardly-duck-4\",\n",
    "        \"eloquent-elephant-5\",\n",
    "        \"flippant-flamingo-6\",\n",
    "        \"giddy-giraffe-7\",\n",
    "        \"haughty-hippo-8\",\n",
    "        \"ignorant-iguana-9\",\n",
    "        \"jolly-jackal-10\",\n",
    "        \"kind-koala-11\",\n",
    "        \"laughing-lemur-12\",\n",
    "        \"manic-mandrill-13\",\n",
    "        \"neighbourly-narwhal-14\",\n",
    "        \"oblivious-octopus-15\",\n",
    "        \"philistine-platypus-16\",\n",
    "        \"quant-quail-17\",\n",
    "        \"rowdy-rhino-18\",\n",
    "        \"solid-snake-19\",\n",
    "        \"timid-tarantula-20\",\n",
    "        \"understanding-unicorn-21\",\n",
    "        \"voracious-vulture-22\",\n",
    "        \"wu-tang-23\",\n",
    "        \"xenic-xerneas-24\",\n",
    "        \"yielding-yveltal-25\",\n",
    "        \"zooming-zygarde-26\",\n",
    "    ]\n",
    "\n",
    "    opts = [\"adam\", \"sgd\"]\n",
    "    encoders = [\"resnet18\", \"resnet50\"]\n",
    "    learning_rates = [0.01]\n",
    "    for (i, run_name), (opt, encoder, lr) in zip(\n",
    "        enumerate(run_names), product(opts, encoders, learning_rates)\n",
    "    ):\n",
    "        config = {\n",
    "            \"optimizer\": opt,\n",
    "            \"encoder\": encoder,\n",
    "            \"learning_rate\": lr,\n",
    "            \"momentum\": 0.1 * random.random(),\n",
    "        }\n",
    "        displacement1 = random.random() * 2\n",
    "        displacement2 = random.random() * 4\n",
    "        with wandb.init(\n",
    "            entity=ENTITY, project=PROJECT, config=config, name=run_name\n",
    "        ) as run:\n",
    "            for step in range(1000):\n",
    "                wandb.log(\n",
    "                    {\n",
    "                        \"acc\": 0.1\n",
    "                        + 0.4\n",
    "                        * (\n",
    "                            math.log(1 + step + random.random())\n",
    "                            + random.random() * run.config.learning_rate\n",
    "                            + random.random()\n",
    "                            + displacement1\n",
    "                            + random.random() * run.config.momentum\n",
    "                        ),\n",
    "                        \"val_acc\": 0.1\n",
    "                        + 0.4\n",
    "                        * (\n",
    "                            math.log(1 + step + random.random())\n",
    "                            + random.random() * run.config.learning_rate\n",
    "                            - random.random()\n",
    "                            + displacement1\n",
    "                        ),\n",
    "                        \"loss\": 0.1\n",
    "                        + 0.08\n",
    "                        * (\n",
    "                            3.5\n",
    "                            - math.log(1 + step + random.random())\n",
    "                            + random.random() * run.config.momentum\n",
    "                            + random.random()\n",
    "                            + displacement2\n",
    "                        ),\n",
    "                        \"val_loss\": 0.1\n",
    "                        + 0.04\n",
    "                        * (\n",
    "                            4.5\n",
    "                            - math.log(1 + step + random.random())\n",
    "                            + random.random() * run.config.learning_rate\n",
    "                            - random.random()\n",
    "                            + displacement2\n",
    "                        ),\n",
    "                    }\n",
    "                )\n",
    "\n",
    "    with wandb.init(\n",
    "        entity=ENTITY, project=PROJECT, config=config, name=run_names[i + 1]\n",
    "    ) as run:\n",
    "        img = get_image(\n",
    "            \"https://www.akc.org/wp-content/uploads/2017/11/Shiba-Inu-standing-in-profile-outdoors.jpg\"\n",
    "        )\n",
    "        image = wandb.Image(img)\n",
    "        df = pd.DataFrame(\n",
    "            {\n",
    "                \"int\": [1, 2, 3, 4],\n",
    "                \"float\": [1.2, 2.3, 3.4, 4.5],\n",
    "                \"str\": [\"a\", \"b\", \"c\", \"d\"],\n",
    "                \"img\": [image] * 4,\n",
    "            }\n",
    "        )\n",
    "        run.log({\"img\": image, \"my-table\": df})\n",
    "\n",
    "\n",
    "class Step:\n",
    "    def __init__(self, j, r, u, o, at=None):\n",
    "        self.job_type = j\n",
    "        self.runs = r\n",
    "        self.uses_per_run = u\n",
    "        self.outputs_per_run = o\n",
    "        self.artifact_type = at if at is not None else \"model\"\n",
    "        self.artifacts = []\n",
    "\n",
    "\n",
    "def create_artifact(name: str, type: str, content: str):\n",
    "    art = wandb.Artifact(name, type)\n",
    "    with open(\"boom.txt\", \"w\") as f:\n",
    "        f.write(content)\n",
    "    art.add_file(\"boom.txt\", \"test-name\")\n",
    "\n",
    "    img = get_image(\n",
    "        \"https://www.akc.org/wp-content/uploads/2017/11/Shiba-Inu-standing-in-profile-outdoors.jpg\"\n",
    "    )\n",
    "    image = wandb.Image(img)\n",
    "    df = pd.DataFrame(\n",
    "        {\n",
    "            \"int\": [1, 2, 3, 4],\n",
    "            \"float\": [1.2, 2.3, 3.4, 4.5],\n",
    "            \"str\": [\"a\", \"b\", \"c\", \"d\"],\n",
    "            \"img\": [image] * 4,\n",
    "        }\n",
    "    )\n",
    "    art.add(wandb.Table(dataframe=df), \"dataframe\")\n",
    "    return art\n",
    "\n",
    "\n",
    "def log_dummy_lineage():\n",
    "    pipeline = [\n",
    "        Step(\"dataset-generator\", 1, 0, 3, \"dataset\"),\n",
    "        Step(\"trainer\", 4, (1, 2), 3),\n",
    "        Step(\"evaluator\", 2, 1, 3),\n",
    "        Step(\"ensemble\", 1, 1, 1),\n",
    "    ]\n",
    "    for (i, step) in enumerate(pipeline):\n",
    "        for _ in range(step.runs):\n",
    "            with wandb.init(project=LINEAGE_PROJECT, job_type=step.job_type) as run:\n",
    "                # use\n",
    "                uses = step.uses_per_run\n",
    "                if type(uses) == tuple:\n",
    "                    uses = random.choice(list(uses))\n",
    "\n",
    "                if i > 0:\n",
    "                    prev_step = pipeline[i - 1]\n",
    "                    input_artifacts = random.sample(prev_step.artifacts, uses)\n",
    "                    for a in input_artifacts:\n",
    "                        run.use_artifact(a)\n",
    "                # log output artifacts\n",
    "                for j in range(step.outputs_per_run):\n",
    "                    # name = ''.join(random.choices(string.ascii_lowercase + string.digits, k=6))\n",
    "                    name = f\"{step.artifact_type}-{j}\"\n",
    "                    content = \"\".join(\n",
    "                        random.choices(string.ascii_lowercase + string.digits, k=12)\n",
    "                    )\n",
    "                    art = create_artifact(name, step.artifact_type, content)\n",
    "                    run.log_artifact(art)\n",
    "                    art.wait()\n",
    "\n",
    "                    # save in pipeline\n",
    "                    step.artifacts.append(art)\n",
    "\n",
    "if LOG_DUMMY_RUNS:\n",
    "  log_dummy_data()\n",
    "  log_dummy_lineage()"
   ]
  },
  {
   "cell_type": "markdown",
   "metadata": {},
   "source": [
    "# 🚀 Quickstart!"
   ]
  },
  {
   "cell_type": "code",
   "execution_count": null,
   "metadata": {},
   "outputs": [],
   "source": [
    "import wandb.apis.reports as wr"
   ]
  },
  {
   "cell_type": "markdown",
   "metadata": {},
   "source": [
    "## Create, save, and load reports\n",
    "- NOTE: Reports are not saved automatically to reduce clutter.  Explicitly save the report by calling `report.save()`"
   ]
  },
  {
   "cell_type": "code",
   "execution_count": null,
   "metadata": {},
   "outputs": [],
   "source": [
    "report = wr.Report(\n",
    "    project=PROJECT,\n",
    "    title='Quickstart Report',\n",
    "    description=\"That was easy!\"\n",
    ")                                 # Create\n",
    "report.save()                     # Save\n",
    "wr.Report.from_url(report.url)    # Load"
   ]
  },
  {
   "cell_type": "markdown",
   "metadata": {},
   "source": [
    "## Add content via blocks\n",
    "- Use blocks to add content like text, images, code, and more\n",
    "- See `wr.blocks` for all available blocks"
   ]
  },
  {
   "cell_type": "code",
   "execution_count": null,
   "metadata": {},
   "outputs": [],
   "source": [
    "report.blocks = [\n",
    "    wr.TableOfContents(),\n",
    "    wr.H1(\"Text and images example\"),\n",
    "    wr.P(\"Lorem ipsum dolor sit amet. Aut laborum perspiciatis sit odit omnis aut aliquam voluptatibus ut rerum molestiae sed assumenda nulla ut minus illo sit sunt explicabo? Sed quia architecto est voluptatem magni sit molestiae dolores. Non animi repellendus ea enim internos et iste itaque quo labore mollitia aut omnis totam.\"),\n",
    "    wr.Image('https://api.wandb.ai/files/telidavies/images/projects/831572/8ad61fd1.png', caption='Craiyon generated images'),\n",
    "    wr.P(\"Et voluptatem galisum quo facilis sequi quo suscipit sunt sed iste iure! Est voluptas adipisci et doloribus commodi ab tempore numquam qui tempora adipisci. Eum sapiente cupiditate ut natus aliquid sit dolor consequatur?\"),\n",
    "]\n",
    "report.save()"
   ]
  },
  {
   "cell_type": "markdown",
   "metadata": {},
   "source": [
    "## Add charts and more via Panel Grid\n",
    "- `PanelGrid` is a special type of block that holds `runsets` and `panels`\n",
    "  - `runsets` organize data logged to W&B\n",
    "  - `panels` visualize runset data.  For a full set of panels, see `wr.panels`"
   ]
  },
  {
   "cell_type": "code",
   "execution_count": null,
   "metadata": {},
   "outputs": [],
   "source": [
    "pg = wr.PanelGrid(\n",
    "    runsets=[\n",
    "        wr.Runset(ENTITY, PROJECT, \"First Run Set\"),\n",
    "        wr.Runset(ENTITY, PROJECT, \"Elephants Only!\", query=\"elephant\"),\n",
    "    ],\n",
    "    panels=[\n",
    "        wr.LinePlot(x='Step', y=['val_acc'], smoothing_factor=0.8),\n",
    "        wr.BarPlot(metrics=['acc']),\n",
    "        wr.MediaBrowser(media_keys='img', num_columns=1),\n",
    "        wr.RunComparer(diff_only='split', layout={'w': 24, 'h': 9}),\n",
    "    ]\n",
    ")\n",
    "\n",
    "report.blocks = report.blocks[:1] + [wr.H1(\"Panel Grid Example\"), pg] + report.blocks[1:]\n",
    "report.save()"
   ]
  },
  {
   "cell_type": "markdown",
   "metadata": {},
   "source": [
    "## Add data lineage with Artifact blocks\n",
    "- There are equivalent weave panels as well"
   ]
  },
  {
   "cell_type": "code",
   "execution_count": null,
   "metadata": {},
   "outputs": [],
   "source": [
    "artifact_lineage = wr.WeaveBlockArtifact(entity=ENTITY, project=LINEAGE_PROJECT, artifact='model-1', tab='lineage')\n",
    "\n",
    "report.blocks = report.blocks[:1] + [wr.H1(\"Artifact lineage example\"), artifact_lineage] + report.blocks[1:]\n",
    "report.save()"
   ]
  },
  {
   "cell_type": "markdown",
   "metadata": {},
   "source": [
    "## Customize run colors\n",
    "- Pass in a `dict[run_name, color]`"
   ]
  },
  {
   "cell_type": "code",
   "execution_count": null,
   "metadata": {},
   "outputs": [],
   "source": [
    "pg.custom_run_colors = {\n",
    "  'adventurous-aardvark-1': '#e84118',\n",
    "  'bountiful-badger-2':     '#fbc531',\n",
    "  'clairvoyant-chipmunk-3': '#4cd137',\n",
    "  'dastardly-duck-4':       '#00a8ff',\n",
    "  'eloquent-elephant-5':    '#9c88ff',\n",
    "}\n",
    "report.save()"
   ]
  },
  {
   "cell_type": "markdown",
   "metadata": {},
   "source": [
    "## Customize run sets with grouping, filtering, and ordering\n",
    "- Click on the different run sets in the iframe below and see how they are different\n",
    "- Grouping: Pass in a list of columns to group by\n",
    "- Filtering: Use `set_filters_with_python_expr` and pass in a valid python expression.  The syntax is similar to `pandas.DataFrame.query`\n",
    "- Ordering: Pass in a list of columns where each value is prefixed with `+` for ascending or `-` for descending."
   ]
  },
  {
   "cell_type": "code",
   "execution_count": null,
   "metadata": {},
   "outputs": [],
   "source": [
    "pg.runsets = [\n",
    "    wr.Runset(ENTITY, PROJECT, name=\"Grouping\", groupby=[\"encoder\"]),\n",
    "    wr.Runset(ENTITY, PROJECT, name=\"Filtering\").set_filters_with_python_expr(\"encoder == 'resnet18' and loss < 0.05\"),\n",
    "    wr.Runset(ENTITY, PROJECT, name=\"Ordering\", order=[\"+momentum\", \"-Name\"]),\n",
    "]\n",
    "report.save()"
   ]
  },
  {
   "cell_type": "markdown",
   "metadata": {},
   "source": [
    "## Customize group colors\n",
    "- Pass in a `dict[ordertuple, color]`, where `ordertuple: tuple[runset_name, *groupby_values]`\n",
    "- For example:\n",
    "  - Your runset is named `MyRunset`\n",
    "  - Your runset groupby is `[\"encoder\", \"optimizer\"]`\n",
    "  - Then your tuple can be `(\"MyRunset\", \"resnet18\", \"adam\")`"
   ]
  },
  {
   "cell_type": "code",
   "execution_count": null,
   "metadata": {},
   "outputs": [],
   "source": [
    "pg.custom_run_colors = {\n",
    "  ('Grouping', 'resnet50'): 'red',\n",
    "  ('Grouping', 'resnet18'): 'blue',\n",
    "  \n",
    "  # you can do both grouped and ungrouped colors in the same dict\n",
    "  'adventurous-aardvark-1': '#e84118',\n",
    "  'bountiful-badger-2':     '#fbc531',\n",
    "  'clairvoyant-chipmunk-3': '#4cd137',\n",
    "  'dastardly-duck-4':       '#00a8ff',\n",
    "  'eloquent-elephant-5':    '#9c88ff',\n",
    "}\n",
    "report.save()"
   ]
  },
  {
   "cell_type": "markdown",
   "metadata": {},
   "source": [
    "# ❓ FAQ"
   ]
  },
  {
   "cell_type": "markdown",
   "metadata": {},
   "source": [
    "## My chart is not rendering as expected.\n",
    "- We try to guess the column type, but sometimes we fail.\n",
    "- Try prefixing:\n",
    "  - `c::` for config values\n",
    "  - `s::` for summary metrics\n",
    "  - e.g. if your config value was `optimizer`, try `c::optimizer`"
   ]
  },
  {
   "cell_type": "markdown",
   "metadata": {},
   "source": [
    "## My report is too wide/narrow\n",
    "- Change the report's width to the right size for you."
   ]
  },
  {
   "cell_type": "code",
   "execution_count": null,
   "metadata": {},
   "outputs": [],
   "source": [
    "report2 = report.save(clone=True)\n",
    "report2.width = 'fluid'\n",
    "report2.save()"
   ]
  },
  {
   "cell_type": "markdown",
   "metadata": {},
   "source": [
    "## How do I resize panels?\n",
    "- Pass a `dict[dim, int]` to `panel.layout`\n",
    "- `dim` is a dimension, which can be `x`, `y` (the coordiantes of the top left corner) `w`, `h` (the size of the panel)\n",
    "- You can pass any or all dimensions at once\n",
    "- The space between two dots in a panel grid is 2."
   ]
  },
  {
   "cell_type": "code",
   "execution_count": null,
   "metadata": {},
   "outputs": [],
   "source": [
    "report = wr.Report(\n",
    "    PROJECT,\n",
    "    title=\"Resizing panels\",\n",
    "    description=\"Look at this wide parallel coordinates plot!\",\n",
    "    blocks=[\n",
    "        wr.PanelGrid(\n",
    "            panels=[\n",
    "                wr.ParallelCoordinatesPlot(\n",
    "                    columns=[\"Step\", \"c::model\", \"c::optimizer\", \"val_acc\", \"val_loss\"],\n",
    "                    layout={'w': 24, 'h': 9}  # change the layout!\n",
    "                ),\n",
    "            ]\n",
    "        )\n",
    "    ]\n",
    ")\n",
    "report.save()"
   ]
  },
  {
   "cell_type": "markdown",
   "metadata": {},
   "source": [
    "## What blocks are available?\n",
    "- See `wr.blocks` for a list of blocks.\n",
    "- In an IDE or notebook, you can also do `wr.blocks.<tab>` to get autocomplete."
   ]
  },
  {
   "cell_type": "code",
   "execution_count": null,
   "metadata": {},
   "outputs": [],
   "source": [
    "# Panel grid is omitted.  See next section for PanelGrid and panels\n",
    "report = wr.Report(\n",
    "    PROJECT,\n",
    "    title='W&B Block Gallery',\n",
    "    description=\"Check out all of the blocks available in W&B\",\n",
    "    blocks=[\n",
    "        wr.H1(text=\"Heading 1\"),\n",
    "        wr.P(text=\"Normal paragraph\"),\n",
    "        wr.H2(text=\"Heading 2\"),\n",
    "        wr.P(\n",
    "            [\n",
    "                \"here is some text, followed by\",\n",
    "                wr.InlineCode(\"select * from code in line\"),\n",
    "                \"and then latex\",\n",
    "                wr.InlineLaTeX(\"e=mc^2\"),\n",
    "            ]\n",
    "        ),\n",
    "        wr.H3(text=\"Heading 3\"),\n",
    "        wr.CodeBlock(\n",
    "            code=[\"this:\", \"- is\", \"- a\", \"cool:\", \"- yaml\", \"- file\"],\n",
    "            language=\"yaml\",\n",
    "        ),\n",
    "        wr.WeaveBlockSummaryTable(ENTITY, PROJECT, 'my-table'),\n",
    "        wr.WeaveBlockArtifact(ENTITY, LINEAGE_PROJECT, 'model-1', 'lineage'),\n",
    "        wr.WeaveBlockArtifactVersionedFile(ENTITY, LINEAGE_PROJECT, 'model-1', 'v0', \"dataframe.table.json\"),\n",
    "        wr.MarkdownBlock(text=\"Markdown cell with *italics* and **bold** and $e=mc^2$\"),\n",
    "        wr.LaTeXBlock(text=\"\\\\gamma^2+\\\\theta^2=\\\\omega^2\\n\\\\\\\\ a^2 + b^2 = c^2\"),\n",
    "        wr.Image(\"https://api.wandb.ai/files/megatruong/images/projects/918598/350382db.gif\", caption=\"It's a me, Pikachu\"),\n",
    "        wr.UnorderedList(items=[\"Bullet 1\", \"Bullet 2\"]),\n",
    "        wr.OrderedList(items=[\"Ordered 1\", \"Ordered 2\"]),\n",
    "        wr.CheckedList(items=[\"Unchecked\", \"Checked\"], checked=[False, True]),\n",
    "        wr.BlockQuote(text=\"Block Quote 1\\nBlock Quote 2\\nBlock Quote 3\"),\n",
    "        wr.CalloutBlock(text=[\"Callout 1\", \"Callout 2\", \"Callout 3\"]),\n",
    "        wr.HorizontalRule(),\n",
    "        wr.Video(url=\"https://www.youtube.com/embed/6riDJMI-Y8U\"),\n",
    "        wr.Spotify(spotify_id=\"5cfUlsdrdUE4dLMK7R9CFd\"),\n",
    "        wr.SoundCloud(url=\"https://api.soundcloud.com/tracks/1076901103\"),\n",
    "    ]\n",
    ").save()\n",
    "report.blocks += [wr.Gallery(ids=[report.id])]  # get report id on save\n",
    "report.save()"
   ]
  },
  {
   "cell_type": "markdown",
   "metadata": {},
   "source": [
    "## What panels are available?\n",
    "- See `wr.panels` for a list of panels\n",
    "- In an IDE or notebook, you can also do `wr.panels.<tab>` to get autocomplete.\n",
    "- Panels have a lot of settings.  Inspect the panel to see what you can do!"
   ]
  },
  {
   "cell_type": "code",
   "execution_count": null,
   "metadata": {},
   "outputs": [],
   "source": [
    "report = wr.Report(\n",
    "    project=PROJECT,\n",
    "    title='W&B Panel Gallery',\n",
    "    description=\"Check out all of the panels available in W&B\",\n",
    "    width='fluid',\n",
    "    blocks=[\n",
    "        wr.PanelGrid(\n",
    "            runsets=[\n",
    "                wr.Runset(project=LINEAGE_PROJECT),\n",
    "                wr.Runset(),\n",
    "            ],\n",
    "            panels=[\n",
    "                wr.MediaBrowser(media_keys=\"img\"),\n",
    "                wr.MarkdownPanel(\"Hello *italic* **bold** $e=mc^2$ `something`\"),\n",
    "                \n",
    "                # LinePlot showed with many settings enabled for example\n",
    "                wr.LinePlot(\n",
    "                    title=\"Validation Accuracy over Time\",\n",
    "                    x=\"Step\",\n",
    "                    y=[\"val_acc\"],\n",
    "                    range_x=[0, 1000],\n",
    "                    range_y=[1, 4],\n",
    "                    log_x=True,\n",
    "                    title_x=\"Training steps\",\n",
    "                    title_y=\"Validation Accuracy\",\n",
    "                    ignore_outliers=True,\n",
    "                    groupby='encoder',\n",
    "                    groupby_aggfunc=\"mean\",\n",
    "                    groupby_rangefunc=\"minmax\",\n",
    "                    smoothing_factor=0.5,\n",
    "                    smoothing_type=\"gaussian\",\n",
    "                    smoothing_show_original=True,\n",
    "                    max_runs_to_show=10,\n",
    "                    font_size=\"large\",\n",
    "                    legend_position=\"west\",\n",
    "                ),\n",
    "                wr.ScatterPlot(\n",
    "                    title=\"Validation Accuracy vs. Validation Loss\",\n",
    "                    x=\"val_acc\",\n",
    "                    y=\"val_loss\",\n",
    "                    log_x=False,\n",
    "                    log_y=False,\n",
    "                    running_ymin=True,\n",
    "                    running_ymean=True,\n",
    "                    running_ymax=True,\n",
    "                    font_size=\"small\",\n",
    "                    regression=True,\n",
    "                ),\n",
    "                wr.BarPlot(\n",
    "                    title=\"Validation Loss by Encoder\",\n",
    "                    metrics=[\"val_loss\"],\n",
    "                    orientation='h',\n",
    "                    range_x=[0, 0.11],\n",
    "                    title_x=\"Validation Loss\",\n",
    "                    # title_y=\"y axis title\",\n",
    "                    groupby='encoder',\n",
    "                    groupby_aggfunc=\"median\",\n",
    "                    groupby_rangefunc=\"stddev\",\n",
    "                    max_runs_to_show=20,\n",
    "                    max_bars_to_show=3,\n",
    "                    font_size=\"auto\",\n",
    "                ),\n",
    "                wr.ScalarChart(\n",
    "                    title=\"Maximum Number of Steps\",\n",
    "                    metric=\"Step\",\n",
    "                    groupby_aggfunc=\"max\",\n",
    "                    groupby_rangefunc=\"stderr\",\n",
    "                    font_size=\"large\",\n",
    "                ),\n",
    "                wr.CodeComparer(diff=\"split\"),\n",
    "                wr.ParallelCoordinatesPlot(\n",
    "                    columns=[\"Step\", \"c::model\", \"c::optimizer\", \"Step\", \"val_acc\", \"val_loss\"],\n",
    "                ),\n",
    "                wr.ParameterImportancePlot(with_respect_to=\"val_loss\"),\n",
    "                wr.RunComparer(diff_only=\"split\"),\n",
    "                wr.CustomChart(\n",
    "                    query={'summary': ['val_loss', 'val_acc']},\n",
    "                    chart_name='wandb/scatter/v0',\n",
    "                    user_fields={'x': 'val_loss', 'y': 'val_acc'}\n",
    "                ),\n",
    "                wr.WeavePanelSummaryTable(\"my-table\"),\n",
    "                wr.WeavePanelArtifact('model-1', 'lineage', layout={'w': 24, 'h': 12}),\n",
    "                wr.WeavePanelArtifactVersionedFile('model-1', 'v0', \"dataframe.table.json\", layout={'w': 24, 'h': 12}),\n",
    "            ],\n",
    "        ),\n",
    "    ]\n",
    ")\n",
    "report.save()"
   ]
  },
  {
   "cell_type": "markdown",
   "metadata": {},
   "source": [
    "## What above weave?\n",
    "- A limited subset of weave panels are available today, including Artifact, ArtifactVersionedFile, and SummaryTable\n",
    "- Stay tuned for future updates around weave support!"
   ]
  },
  {
   "cell_type": "markdown",
   "metadata": {},
   "source": [
    "## Can I use this in CI (e.g. create a report for each git commit?)\n",
    "- Yep!  Check out [this example](https://github.com/andrewtruong/wandb-gh-actions/actions/runs/3476558992) which creates a report via Github Actions"
   ]
  },
  {
   "cell_type": "markdown",
   "metadata": {},
   "source": [
    "## How can I link related reports together?\n",
    "- Suppose have have two reports like below:"
   ]
  },
  {
   "cell_type": "code",
   "execution_count": null,
   "metadata": {},
   "outputs": [
    {
     "name": "stderr",
     "output_type": "stream",
     "text": [
      "\u001b[34m\u001b[1mwandb\u001b[0m: \u001b[33mWARNING\u001b[0m A graphql request initiated by the public wandb API timed out (timeout=9 sec). Create a new API with an integer timeout larger than 9, e.g., `api = wandb.Api(timeout=19)` to increase the graphql timeout.\n",
      "\u001b[34m\u001b[1mwandb\u001b[0m: \u001b[33mWARNING\u001b[0m A graphql request initiated by the public wandb API timed out (timeout=9 sec). Create a new API with an integer timeout larger than 9, e.g., `api = wandb.Api(timeout=19)` to increase the graphql timeout.\n"
     ]
    }
   ],
   "source": [
    "report1 = wr.Report(\n",
    "    PROJECT,\n",
    "    title='Report 1',\n",
    "    description=\"Great content coming from Report 1\",\n",
    "    blocks=[\n",
    "        wr.H1('Heading from Report 1'),\n",
    "        wr.P('Lorem ipsum dolor sit amet. Aut fuga minus nam vero saepeA aperiam eum omnis dolorum et ducimus tempore aut illum quis aut alias vero. Sed explicabo illum est eius quianon vitae sed voluptatem incidunt. Vel architecto assumenda Ad voluptatem quo dicta provident et velit officia. Aut galisum inventoreSed dolore a illum adipisci a aliquam quidem sit corporis quia cum magnam similique.'),\n",
    "        wr.PanelGrid(\n",
    "            panels=[\n",
    "                wr.LinePlot(x='global_step', y=['charts/episodic_return'], smoothing_factor=0.85, groupby_aggfunc='mean', groupby_rangefunc='minmax', layout={'x': 0, 'y': 0, 'w': 12, 'h': 8}),\n",
    "                wr.MediaBrowser(media_keys=\"videos\", num_columns=4, layout={'w': 12, 'h': 8}),\n",
    "            ],\n",
    "            runsets=[\n",
    "                wr.Runset(entity='openrlbenchmark', project='cleanrl', query='bigfish', groupby=['env_id', 'exp_name'])\n",
    "            ],\n",
    "            custom_run_colors={\n",
    "                ('Run set', 'bigfish', 'ppg_procgen'): \"#2980b9\",\n",
    "                ('Run set', 'bigfish', 'ppo_procgen'): \"#e74c3c\",\n",
    "            }\n",
    "        ),\n",
    "    ]\n",
    ").save()\n",
    "\n",
    "report2 = wr.Report(\n",
    "    PROJECT,\n",
    "    title='Report 2',\n",
    "    description=\"Great content coming from Report 2\",\n",
    "    blocks=[\n",
    "        wr.H1('Heading from Report 2'),\n",
    "        wr.P('Est quod ducimus ut distinctio corruptiid optio qui cupiditate quibusdam ea corporis modi. Eum architecto vero sed error dignissimosEa repudiandae a recusandae sint ut sint molestiae ea pariatur quae. In pariatur voluptas ad facere neque 33 suscipit et odit nostrum ut internos molestiae est modi enim. Et rerum inventoreAut internos et dolores delectus aut Quis sunt sed nostrum magnam ab dolores dicta.'),\n",
    "        wr.PanelGrid(\n",
    "            panels=[\n",
    "                wr.LinePlot(x='global_step', y=['charts/SPS']),\n",
    "                wr.LinePlot(x='global_step', y=['charts/episodic_length']),\n",
    "                wr.LinePlot(x='global_step', y=['charts/episodic_return']),\n",
    "            ],\n",
    "            runsets=[\n",
    "                wr.Runset(\"openrlbenchmark\", \"cleanrl\", \"DQN\", groupby=[\"exp_name\"]).set_filters_with_python_expr(\"env_id == 'BreakoutNoFrameskip-v4' and exp_name == 'dqn_atari'\"),\n",
    "                wr.Runset(\"openrlbenchmark\", \"cleanrl\", \"SAC-discrete 0.8\", groupby=[\"exp_name\"]).set_filters_with_python_expr(\"env_id == 'BreakoutNoFrameskip-v4' and exp_name == 'sac_atari' and target_entropy_scale == 0.8\"),\n",
    "                wr.Runset(\"openrlbenchmark\", \"cleanrl\", \"SAC-discrete 0.88\", groupby=[\"exp_name\"]).set_filters_with_python_expr(\"env_id == 'BreakoutNoFrameskip-v4' and exp_name == 'sac_atari' and target_entropy_scale == 0.88\"),\n",
    "            ],\n",
    "            custom_run_colors={\n",
    "                ('DQN',               'dqn_atari'): '#e84118',\n",
    "                ('SAC-discrete 0.8',  'sac_atari'): '#fbc531',\n",
    "                ('SAC-discrete 0.88', 'sac_atari'): '#00a8ff',\n",
    "            }\n",
    "        ),\n",
    "    ]\n",
    ").save()"
   ]
  },
  {
   "cell_type": "markdown",
   "metadata": {},
   "source": [
    "### Combine blocks into a new report"
   ]
  },
  {
   "cell_type": "code",
   "execution_count": null,
   "metadata": {},
   "outputs": [
    {
     "data": {
      "text/html": [
       "<iframe src=\"https://wandb.ai/megatruong/testing-project-report-api/reports/Report-with-links--VmlldzozMzYzOTMw?jupyter=true\" style=\"border:none;width:100%;height:1024px;\"></iframe>"
      ],
      "text/plain": [
       "Report(project='testing-project-report-api', entity='megatruong', title='Report with links', description='Use `wr.Link(text, url)` to add links inside normal text, or use normal markdown syntax in a MarkdownBlock', width='readable', blocks=[H1(text=['This is a normal heading']), P(text=['And here is some normal text']), H1(text=['This is a heading ', Link(text='with a link!', url='https://wandb.ai/')]), P(text=['Most text formats support ', Link(text='adding links', url='https://wandb.ai/')]), MarkdownBlock(text='You can also use markdown syntax for [links](https://wandb.ai/)')])"
      ]
     },
     "execution_count": null,
     "metadata": {},
     "output_type": "execute_result"
    }
   ],
   "source": [
    "report = wr.Report(PROJECT,\n",
    "    title=\"Report with links\",\n",
    "    description=\"Use `wr.Link(text, url)` to add links inside normal text, or use normal markdown syntax in a MarkdownBlock\",\n",
    "    blocks=[\n",
    "        wr.H1(\"This is a normal heading\"),\n",
    "        wr.P(\"And here is some normal text\"),\n",
    "\n",
    "        wr.H1([\"This is a heading \", wr.Link(\"with a link!\", url=\"https://wandb.ai/\")]),\n",
    "        wr.P([\"Most text formats support \", wr.Link(\"adding links\", url=\"https://wandb.ai/\")]),\n",
    "\n",
    "        wr.MarkdownBlock(\"\"\"You can also use markdown syntax for [links](https://wandb.ai/)\"\"\")\n",
    "    ]\n",
    ")\n",
    "report.save()"
   ]
  },
  {
   "cell_type": "code",
   "execution_count": null,
   "metadata": {},
   "outputs": [
    {
     "data": {
      "text/html": [
       "<iframe src=\"https://wandb.ai/megatruong/testing-project-report-api/reports/Combined-blocks-report--VmlldzozMzYzOTMy?jupyter=true\" style=\"border:none;width:100%;height:1024px;\"></iframe>"
      ],
      "text/plain": [
       "Report(project='testing-project-report-api', entity='megatruong', title='Combined blocks report', description='This report combines blocks from both Report 1 and Report 2', width='readable', blocks=[H1(text=['Heading from Report 1']), P(text=['Lorem ipsum dolor sit amet. Aut fuga minus nam vero saepeA aperiam eum omnis dolorum et ducimus tempore aut illum quis aut alias vero. Sed explicabo illum est eius quianon vitae sed voluptatem incidunt. Vel architecto assumenda Ad voluptatem quo dicta provident et velit officia. Aut galisum inventoreSed dolore a illum adipisci a aliquam quidem sit corporis quia cum magnam similique.']), PanelGrid(runsets=[Runset(entity='openrlbenchmark', project='cleanrl', name='Run set', query='bigfish', filters={'$or': [{'$and': []}]}, groupby=['env_id', 'exp_name'], order=['-CreatedTimestamp'])], panels=[LinePlot(x='global_step', y=['charts/episodic_return'], groupby_aggfunc='mean', groupby_rangefunc='minmax', smoothing_factor=0.85), MediaBrowser(num_columns=4, media_keys='videos')], custom_run_colors={('Run set', 'bigfish', 'ppg_procgen'): '#2980b9', ('Run set', 'bigfish', 'ppo_procgen'): '#e74c3c'}), H1(text=['Heading from Report 2']), P(text=['Est quod ducimus ut distinctio corruptiid optio qui cupiditate quibusdam ea corporis modi. Eum architecto vero sed error dignissimosEa repudiandae a recusandae sint ut sint molestiae ea pariatur quae. In pariatur voluptas ad facere neque 33 suscipit et odit nostrum ut internos molestiae est modi enim. Et rerum inventoreAut internos et dolores delectus aut Quis sunt sed nostrum magnam ab dolores dicta.']), PanelGrid(runsets=[Runset(entity='openrlbenchmark', project='cleanrl', name='DQN', query='', filters={'$or': [{'$and': [{'config.env_id.value': 'BreakoutNoFrameskip-v4'}, {'config.exp_name.value': 'dqn_atari'}]}]}, groupby=['exp_name'], order=['-CreatedTimestamp']), Runset(entity='openrlbenchmark', project='cleanrl', name='SAC-discrete 0.8', query='', filters={'$or': [{'$and': [{'config.env_id.value': 'BreakoutNoFrameskip-v4'}, {'config.exp_name.value': 'sac_atari'}, {'config.target_entropy_scale.value': 0.8}]}]}, groupby=['exp_name'], order=['-CreatedTimestamp']), Runset(entity='openrlbenchmark', project='cleanrl', name='SAC-discrete 0.88', query='', filters={'$or': [{'$and': [{'config.env_id.value': 'BreakoutNoFrameskip-v4'}, {'config.exp_name.value': 'sac_atari'}, {'config.target_entropy_scale.value': 0.88}]}]}, groupby=['exp_name'], order=['-CreatedTimestamp'])], panels=[LinePlot(x='global_step', y=['charts/SPS']), LinePlot(x='global_step', y=['charts/episodic_length']), LinePlot(x='global_step', y=['charts/episodic_return'])], custom_run_colors={('DQN', 'dqn_atari'): '#e84118', ('SAC-discrete 0.8', 'sac_atari'): '#fbc531', ('SAC-discrete 0.88', 'sac_atari'): '#00a8ff'})])"
      ]
     },
     "execution_count": null,
     "metadata": {},
     "output_type": "execute_result"
    }
   ],
   "source": [
    "report3 = wr.Report(\n",
    "    PROJECT,\n",
    "    title=\"Combined blocks report\",\n",
    "    description=\"This report combines blocks from both Report 1 and Report 2\",\n",
    "    blocks=[*report1.blocks, *report2.blocks]\n",
    ")\n",
    "report3.save()"
   ]
  },
  {
   "cell_type": "markdown",
   "metadata": {},
   "source": [
    "### Reference the two reports in a gallery block"
   ]
  },
  {
   "cell_type": "code",
   "execution_count": null,
   "metadata": {},
   "outputs": [
    {
     "data": {
      "text/html": [
       "<iframe src=\"https://wandb.ai/megatruong/testing-project-report-api/reports/Referenced-reports-via-Gallery--VmlldzozMzYzOTMz?jupyter=true\" style=\"border:none;width:100%;height:1024px;\"></iframe>"
      ],
      "text/plain": [
       "Report(project='testing-project-report-api', entity='megatruong', title='Referenced reports via Gallery', description='This report has gallery links to Report1 and Report 2', width='readable', blocks=[Gallery(ids=['VmlldzozMzYzOTAy', 'VmlldzozMzYzOTI5'])])"
      ]
     },
     "execution_count": null,
     "metadata": {},
     "output_type": "execute_result"
    }
   ],
   "source": [
    "report4 = wr.Report(\n",
    "    PROJECT,\n",
    "    title=\"Referenced reports via Gallery\",\n",
    "    description=\"This report has gallery links to Report1 and Report 2\",\n",
    "    blocks=[wr.Gallery(ids=[report1.id, report2.id])]\n",
    ")\n",
    "report4.save()"
   ]
  },
  {
   "cell_type": "markdown",
   "metadata": {},
   "source": [
    "## How do I add links to text?\n",
    "- Use `wr.Link`"
   ]
  },
  {
   "cell_type": "markdown",
   "metadata": {},
   "source": [
    "## Do you support markdown?\n",
    "Yep\n",
    "- In blocks, use `wr.MarkdownBlock`\n",
    "- In panels, use `wr.MarkdownPanel`"
   ]
  },
  {
   "cell_type": "code",
   "execution_count": null,
   "metadata": {},
   "outputs": [
    {
     "data": {
      "text/html": [
       "<iframe src=\"https://wandb.ai/megatruong/testing-project-report-api/reports/Report-with-markdown--VmlldzozMzYzOTM1?jupyter=true\" style=\"border:none;width:100%;height:1024px;\"></iframe>"
      ],
      "text/plain": [
       "Report(project='testing-project-report-api', entity='megatruong', title='Report with markdown', description=\"See what's possible with MarkdownBlock and MarkdownPanel\", width='readable', blocks=[MarkdownBlock(text='\\n# Ducat quicquam\\n\\n## Egit sit utque torta cuncta si oret\\n\\nLorem markdownum voco sacrorum religata. Erat ante condita mellaque Cimmerios\\ncultoribus pictas manu usquam illa umbra potentia inpedienda Padumque [euntes\\nmotae](http://nec.com/necsollemnia.aspx), detraxit! Accessus discrimen,\\nCyllenius *e* solum saepe terras perfringit amorem tenent consulit falce\\nreferemus tantum. Illo qui attonitas, Adonis ultra stabunt horret requiescere\\nquae deam similis miserum consuetas: tantos aegram, metuam. Tetigere\\n**invidiae** preces indicere populo semper, limine sui dumque, lustra\\nalimentaque vidi nec corpusque aquarum habebat, in.\\n\\n\\n## Aurea simile iunctoque dux semper verbis\\n\\nVinctorum vidisset et caede officio, viae alia ratione aer regalia, etiamnum.\\nOccupat tanta; vicem, Ithaceque, et ille nec exclamat. Honori carpserat visae\\nmagniloquo perluitur corpora tamen. Caput an Minervae sed vela est cecidere\\nluctus umbras iunctisque referat. Accensis **aderis capillos** pendebant\\n[retentas parvum](http://ipse.com/).\\n\\n    if (desktop(2)) {\\n        laser_qwerty_optical.webcam += upsRoom + window;\\n    }\\n    if (type) {\\n        memoryGrayscale(backbone, mask_multimedia_html);\\n    }\\n    if (natInterfaceFile == 23 + 92) {\\n        interface_sku.platform = compressionMotherboard - error_veronica_ata;\\n        dsl_windows = 57 * -2;\\n        definition *= -4;\\n    } else {\\n        frame(4, market_chip_irq, megapixel_eide);\\n    }\\n    if (mashupApiFlash(-1, margin) - graphicSoftwareNas.ddr_samba_reimage(port)\\n            != control_navigation_pseudocode(yahoo.microcomputerDimm(\\n            mips_adsl))) {\\n        postscriptViralDirectx(1, cron_router_voip(669103, managementPitch,\\n                ospf_up_paper), frame);\\n        servlet_cross_paper.controlLanguage(insertion_source.viewHorizontalRead(\\n                enterprise, widget, parse_encoding), end);\\n        script_e(rateRss(yobibyte, fddi, vci_hyper_joystick), surgeHeat / case);\\n    }\\n    pcmciaRealSystem.basic_exbibyte_controller = carrier.domainDesktop(-4 +\\n            laptop + 5);\\n'), PanelGrid(runsets=[Runset(entity='megatruong', project='testing-project-report-api', name='Run set', query='', filters={'$or': [{'$and': []}]}, order=['-CreatedTimestamp'])], panels=[MarkdownPanel(markdown='\\n# Ducat quicquam\\n\\n## Egit sit utque torta cuncta si oret\\n\\nLorem markdownum voco sacrorum religata. Erat ante condita mellaque Cimmerios\\ncultoribus pictas manu usquam illa umbra potentia inpedienda Padumque [euntes\\nmotae](http://nec.com/necsollemnia.aspx), detraxit! Accessus discrimen,\\nCyllenius *e* solum saepe terras perfringit amorem tenent consulit falce\\nreferemus tantum. Illo qui attonitas, Adonis ultra stabunt horret requiescere\\nquae deam similis miserum consuetas: tantos aegram, metuam. Tetigere\\n**invidiae** preces indicere populo semper, limine sui dumque, lustra\\nalimentaque vidi nec corpusque aquarum habebat, in.\\n\\n\\n## Aurea simile iunctoque dux semper verbis\\n\\nVinctorum vidisset et caede officio, viae alia ratione aer regalia, etiamnum.\\nOccupat tanta; vicem, Ithaceque, et ille nec exclamat. Honori carpserat visae\\nmagniloquo perluitur corpora tamen. Caput an Minervae sed vela est cecidere\\nluctus umbras iunctisque referat. Accensis **aderis capillos** pendebant\\n[retentas parvum](http://ipse.com/).\\n\\n    if (desktop(2)) {\\n        laser_qwerty_optical.webcam += upsRoom + window;\\n    }\\n    if (type) {\\n        memoryGrayscale(backbone, mask_multimedia_html);\\n    }\\n    if (natInterfaceFile == 23 + 92) {\\n        interface_sku.platform = compressionMotherboard - error_veronica_ata;\\n        dsl_windows = 57 * -2;\\n        definition *= -4;\\n    } else {\\n        frame(4, market_chip_irq, megapixel_eide);\\n    }\\n    if (mashupApiFlash(-1, margin) - graphicSoftwareNas.ddr_samba_reimage(port)\\n            != control_navigation_pseudocode(yahoo.microcomputerDimm(\\n            mips_adsl))) {\\n        postscriptViralDirectx(1, cron_router_voip(669103, managementPitch,\\n                ospf_up_paper), frame);\\n        servlet_cross_paper.controlLanguage(insertion_source.viewHorizontalRead(\\n                enterprise, widget, parse_encoding), end);\\n        script_e(rateRss(yobibyte, fddi, vci_hyper_joystick), surgeHeat / case);\\n    }\\n    pcmciaRealSystem.basic_exbibyte_controller = carrier.domainDesktop(-4 +\\n            laptop + 5);\\n'), LinePlot(x='Step', y=['val_acc']), LinePlot(x='Step', y=['val_loss']), ScatterPlot(x='s::val_loss', y='s::val_acc')])])"
      ]
     },
     "execution_count": null,
     "metadata": {},
     "output_type": "execute_result"
    }
   ],
   "source": [
    "markdown = \"\"\"\n",
    "# Ducat quicquam\n",
    "\n",
    "## Egit sit utque torta cuncta si oret\n",
    "\n",
    "Lorem markdownum voco sacrorum religata. Erat ante condita mellaque Cimmerios\n",
    "cultoribus pictas manu usquam illa umbra potentia inpedienda Padumque [euntes\n",
    "motae](http://nec.com/necsollemnia.aspx), detraxit! Accessus discrimen,\n",
    "Cyllenius *e* solum saepe terras perfringit amorem tenent consulit falce\n",
    "referemus tantum. Illo qui attonitas, Adonis ultra stabunt horret requiescere\n",
    "quae deam similis miserum consuetas: tantos aegram, metuam. Tetigere\n",
    "**invidiae** preces indicere populo semper, limine sui dumque, lustra\n",
    "alimentaque vidi nec corpusque aquarum habebat, in.\n",
    "\n",
    "\n",
    "## Aurea simile iunctoque dux semper verbis\n",
    "\n",
    "Vinctorum vidisset et caede officio, viae alia ratione aer regalia, etiamnum.\n",
    "Occupat tanta; vicem, Ithaceque, et ille nec exclamat. Honori carpserat visae\n",
    "magniloquo perluitur corpora tamen. Caput an Minervae sed vela est cecidere\n",
    "luctus umbras iunctisque referat. Accensis **aderis capillos** pendebant\n",
    "[retentas parvum](http://ipse.com/).\n",
    "\n",
    "    if (desktop(2)) {\n",
    "        laser_qwerty_optical.webcam += upsRoom + window;\n",
    "    }\n",
    "    if (type) {\n",
    "        memoryGrayscale(backbone, mask_multimedia_html);\n",
    "    }\n",
    "    if (natInterfaceFile == 23 + 92) {\n",
    "        interface_sku.platform = compressionMotherboard - error_veronica_ata;\n",
    "        dsl_windows = 57 * -2;\n",
    "        definition *= -4;\n",
    "    } else {\n",
    "        frame(4, market_chip_irq, megapixel_eide);\n",
    "    }\n",
    "    if (mashupApiFlash(-1, margin) - graphicSoftwareNas.ddr_samba_reimage(port)\n",
    "            != control_navigation_pseudocode(yahoo.microcomputerDimm(\n",
    "            mips_adsl))) {\n",
    "        postscriptViralDirectx(1, cron_router_voip(669103, managementPitch,\n",
    "                ospf_up_paper), frame);\n",
    "        servlet_cross_paper.controlLanguage(insertion_source.viewHorizontalRead(\n",
    "                enterprise, widget, parse_encoding), end);\n",
    "        script_e(rateRss(yobibyte, fddi, vci_hyper_joystick), surgeHeat / case);\n",
    "    }\n",
    "    pcmciaRealSystem.basic_exbibyte_controller = carrier.domainDesktop(-4 +\n",
    "            laptop + 5);\n",
    "\"\"\"\n",
    "\n",
    "report = wr.Report(\n",
    "    PROJECT,\n",
    "    title=\"Report with markdown\",\n",
    "    description=\"See what's possible with MarkdownBlock and MarkdownPanel\",\n",
    "    blocks=[\n",
    "        wr.MarkdownBlock(markdown),\n",
    "        wr.PanelGrid(\n",
    "            panels=[\n",
    "                wr.MarkdownPanel(markdown,                layout={'w': 12, 'h': 18}),\n",
    "                wr.LinePlot(x='Step', y=['val_acc'] ,     layout={'x': 12, 'y': 0}),\n",
    "                wr.LinePlot(x='Step', y=['val_loss'],     layout={'x': 12, 'y': 6}),\n",
    "                wr.ScatterPlot(x='val_loss', y='val_acc', layout={'x': 12, 'y': 12}),\n",
    "            ]\n",
    "        )\n",
    "    ]\n",
    ")\n",
    "report.save()"
   ]
  },
  {
   "cell_type": "markdown",
   "metadata": {},
   "source": [
    "## Can I build the report up from smaller pieces / all at once?\n",
    "Yep.  We'll demonstrate by putting together a report with a parallel coordinates plot.\n",
    "\n",
    "NOTE: this section assumes you have run the [sweeps notebook](https://colab.research.google.com/github/wandb/examples/blob/master/colabs/pytorch/Organizing_Hyperparameter_Sweeps_in_PyTorch_with_W%26B.ipynb) already."
   ]
  },
  {
   "cell_type": "markdown",
   "metadata": {},
   "source": [
    "### Build it up incrementally\n",
    "As you might do if you were creating a report in the UI"
   ]
  },
  {
   "cell_type": "markdown",
   "metadata": {},
   "source": [
    "1. Create a report"
   ]
  },
  {
   "cell_type": "code",
   "execution_count": null,
   "metadata": {},
   "outputs": [],
   "source": [
    "report = wr.Report(project=PROJECT, title='Parallel Coordinates Example', description=\"Using the pytorch sweeps demo\")"
   ]
  },
  {
   "cell_type": "markdown",
   "metadata": {},
   "source": [
    "2. Add a panel grid"
   ]
  },
  {
   "cell_type": "code",
   "execution_count": null,
   "metadata": {},
   "outputs": [],
   "source": [
    "pg = wr.PanelGrid()\n",
    "report.blocks = [pg]"
   ]
  },
  {
   "cell_type": "markdown",
   "metadata": {},
   "source": [
    "3. Specify your runsets"
   ]
  },
  {
   "cell_type": "code",
   "execution_count": null,
   "metadata": {},
   "outputs": [],
   "source": [
    "pg.runsets = [wr.Runset(project='pytorch-sweeps-demo')]"
   ]
  },
  {
   "cell_type": "markdown",
   "metadata": {},
   "source": [
    "4. Specify your panels"
   ]
  },
  {
   "cell_type": "code",
   "execution_count": null,
   "metadata": {},
   "outputs": [],
   "source": [
    "pg.panels = [\n",
    "    wr.ParallelCoordinatesPlot(\n",
    "        columns=[\"c::batch_size\", \"c::dropout\", \"c::epochs\", \"c::fc_layer_size\", \"c::learning_rate\", \"c::optimizer\", \"loss\"]\n",
    "    )\n",
    "]\n"
   ]
  },
  {
   "cell_type": "markdown",
   "metadata": {},
   "source": [
    "5. Save the report"
   ]
  },
  {
   "cell_type": "code",
   "execution_count": null,
   "metadata": {},
   "outputs": [
    {
     "data": {
      "text/html": [
       "<iframe src=\"https://wandb.ai/megatruong/testing-project-report-api/reports/Parallel-Coordinates-Example--VmlldzozMzYzOTM3?jupyter=true\" style=\"border:none;width:100%;height:1024px;\"></iframe>"
      ],
      "text/plain": [
       "Report(project='testing-project-report-api', entity='megatruong', title='Parallel Coordinates Example', description='Using the pytorch sweeps demo', width='readable', blocks=[PanelGrid(runsets=[Runset(entity='megatruong', project='pytorch-sweeps-demo', name='Run set', query='', filters={'$or': [{'$and': []}]}, order=['-CreatedTimestamp'])], panels=[ParallelCoordinatesPlot(columns=[PCColumn(metric='c::batch_size'), PCColumn(metric='c::dropout'), PCColumn(metric='c::epochs'), PCColumn(metric='c::fc_layer_size'), PCColumn(metric='c::learning_rate'), PCColumn(metric='c::optimizer'), PCColumn(metric='s::loss')])])])"
      ]
     },
     "execution_count": null,
     "metadata": {},
     "output_type": "execute_result"
    }
   ],
   "source": [
    "report.save()"
   ]
  },
  {
   "cell_type": "markdown",
   "metadata": {},
   "source": [
    "### The same thing all-in-one"
   ]
  },
  {
   "cell_type": "code",
   "execution_count": null,
   "metadata": {},
   "outputs": [],
   "source": [
    "report = wr.Report(\n",
    "    project=PROJECT,\n",
    "    title=\"Parallel Coordinates Example (all-in-one)\",\n",
    "    description=\"Using the pytorch sweeps demo (same as the other one but written in one expression)\",\n",
    "    blocks=[\n",
    "        wr.PanelGrid(\n",
    "            runsets=[wr.Runset(project=\"pytorch-sweeps-demo\")],\n",
    "            panels=[\n",
    "                wr.ParallelCoordinatesPlot(\n",
    "                    columns=['c::batch_size', 'c::dropout', 'c::epochs', 'c::fc_layer_size', 'c::learning_rate', 'c::optimizer', 'loss']\n",
    "                )\n",
    "            ],\n",
    "        )\n",
    "    ],\n",
    ")"
   ]
  },
  {
   "cell_type": "code",
   "execution_count": null,
   "metadata": {},
   "outputs": [
    {
     "data": {
      "text/html": [
       "<iframe src=\"https://wandb.ai/megatruong/testing-project-report-api/reports/Parallel-Coordinates-Example-all-in-one---VmlldzozMzYzOTM4?jupyter=true\" style=\"border:none;width:100%;height:1024px;\"></iframe>"
      ],
      "text/plain": [
       "Report(project='testing-project-report-api', entity='megatruong', title='Parallel Coordinates Example (all-in-one)', description='Using the pytorch sweeps demo (same as the other one but written in one expression)', width='readable', blocks=[PanelGrid(runsets=[Runset(entity='megatruong', project='pytorch-sweeps-demo', name='Run set', query='', filters={'$or': [{'$and': []}]}, order=['-CreatedTimestamp'])], panels=[ParallelCoordinatesPlot(columns=[PCColumn(metric='c::batch_size'), PCColumn(metric='c::dropout'), PCColumn(metric='c::epochs'), PCColumn(metric='c::fc_layer_size'), PCColumn(metric='c::learning_rate'), PCColumn(metric='c::optimizer'), PCColumn(metric='s::loss')])])])"
      ]
     },
     "execution_count": null,
     "metadata": {},
     "output_type": "execute_result"
    }
   ],
   "source": [
    "report.save()"
   ]
  },
  {
   "cell_type": "markdown",
   "metadata": {},
   "source": [
    "## I tried mutating an object in list but it didn't work!\n",
    "tl;dr: It should always work if you assign a value to the attribute instead of mutating.  If you really need to mutate, do it before assignment.\n",
    "\n",
    "---\n",
    "\n",
    "This can happen in a few places that contain lists of wandb objects, e.g.:\n",
    "- `report.blocks`\n",
    "- `panel_grid.panels`\n",
    "- `panel_grid.runsets`"
   ]
  },
  {
   "cell_type": "code",
   "execution_count": null,
   "metadata": {},
   "outputs": [],
   "source": [
    "report = wr.Report(project=PROJECT)"
   ]
  },
  {
   "cell_type": "markdown",
   "metadata": {},
   "source": [
    "Good: Assign `b`"
   ]
  },
  {
   "cell_type": "code",
   "execution_count": null,
   "metadata": {},
   "outputs": [],
   "source": [
    "b = wr.H1(text=[\"Hello\", \" World!\"])\n",
    "report.blocks = [b]\n",
    "assert b.text == [\"Hello\", \" World!\"]\n",
    "assert report.blocks[0].text == [\"Hello\", \" World!\"]"
   ]
  },
  {
   "cell_type": "markdown",
   "metadata": {},
   "source": [
    "Bad: Mutate `b` without reassigning"
   ]
  },
  {
   "cell_type": "code",
   "execution_count": null,
   "metadata": {},
   "outputs": [],
   "source": [
    "b.text = [\"Something\", \" New\"]\n",
    "assert b.text == [\"Something\", \" New\"]\n",
    "assert report.blocks[0].text == [\"Hello\", \" World!\"]"
   ]
  },
  {
   "cell_type": "markdown",
   "metadata": {},
   "source": [
    "Good: Mutate `b` and then reassign it"
   ]
  },
  {
   "cell_type": "code",
   "execution_count": null,
   "metadata": {},
   "outputs": [],
   "source": [
    "report.blocks = [b]\n",
    "assert b.text == [\"Something\", \" New\"]\n",
    "assert report.blocks[0].text == [\"Something\", \" New\"]"
   ]
  },
  {
   "cell_type": "markdown",
   "metadata": {},
   "source": [
    "## How do I show tables?"
   ]
  },
  {
   "cell_type": "code",
   "execution_count": null,
   "metadata": {},
   "outputs": [],
   "source": [
    "report = wr.Report(project=PROJECT, title='Adding tables to reports', description=\"Add tables with WeaveBlockSummaryTable or WeavePanelSummaryTable\")"
   ]
  },
  {
   "cell_type": "markdown",
   "metadata": {},
   "source": [
    "### Using weave blocks"
   ]
  },
  {
   "cell_type": "code",
   "execution_count": null,
   "metadata": {},
   "outputs": [
    {
     "data": {
      "text/html": [
       "<iframe src=\"https://wandb.ai/megatruong/testing-project-report-api/reports/Adding-tables-to-reports--VmlldzozMzYzOTM5?jupyter=true\" style=\"border:none;width:100%;height:1024px;\"></iframe>"
      ],
      "text/plain": [
       "Report(project='testing-project-report-api', entity='megatruong', title='Adding tables to reports', description='Add tables with WeaveBlockSummaryTable or WeavePanelSummaryTable', width='readable', blocks=[WeaveBlockSummaryTable(entity='megatruong', project='testing-project-report-api', table_name='my-table')])"
      ]
     },
     "execution_count": null,
     "metadata": {},
     "output_type": "execute_result"
    }
   ],
   "source": [
    "report.blocks += [wr.WeaveBlockSummaryTable(ENTITY, PROJECT, \"my-table\")]\n",
    "report.save()"
   ]
  },
  {
   "cell_type": "markdown",
   "metadata": {},
   "source": [
    "### Using weave panels (via PanelGrid)"
   ]
  },
  {
   "cell_type": "code",
   "execution_count": null,
   "metadata": {},
   "outputs": [
    {
     "data": {
      "text/html": [
       "<iframe src=\"https://wandb.ai/megatruong/testing-project-report-api/reports/Adding-tables-to-reports--VmlldzozMzYzOTM5?jupyter=true\" style=\"border:none;width:100%;height:1024px;\"></iframe>"
      ],
      "text/plain": [
       "Report(project='testing-project-report-api', entity='megatruong', title='Adding tables to reports', description='Add tables with WeaveBlockSummaryTable or WeavePanelSummaryTable', width='readable', blocks=[WeaveBlockSummaryTable(entity='megatruong', project='testing-project-report-api', table_name='my-table'), PanelGrid(runsets=[Runset(entity='megatruong', project='testing-project-report-api', name='Run set', query='', filters={'$or': [{'$and': []}]}, order=['-CreatedTimestamp'])], panels=[WeavePanelSummaryTable(table_name='my-table')])])"
      ]
     },
     "execution_count": null,
     "metadata": {},
     "output_type": "execute_result"
    }
   ],
   "source": [
    "report.blocks += [\n",
    "    wr.PanelGrid(\n",
    "        panels=[wr.WeavePanelSummaryTable(\"my-table\")]\n",
    "    )\n",
    "]\n",
    "report.save()"
   ]
  },
  {
   "cell_type": "markdown",
   "metadata": {},
   "source": [
    "## How do I show artifact lineage / versions?"
   ]
  },
  {
   "cell_type": "code",
   "execution_count": null,
   "metadata": {},
   "outputs": [],
   "source": [
    "report = wr.Report(project=PROJECT, title='Adding artifact lineage to reports', description=\"via WeaveBlockArtifact, WeaveBlockArtifactVersionedFile, or their panel equivalents\")"
   ]
  },
  {
   "cell_type": "markdown",
   "metadata": {},
   "source": [
    "### Using weave blocks"
   ]
  },
  {
   "cell_type": "code",
   "execution_count": null,
   "metadata": {},
   "outputs": [
    {
     "data": {
      "text/html": [
       "<iframe src=\"https://wandb.ai/megatruong/testing-project-report-api/reports/Adding-artifact-lineage-to-reports--VmlldzozMzYzOTQw?jupyter=true\" style=\"border:none;width:100%;height:1024px;\"></iframe>"
      ],
      "text/plain": [
       "Report(project='testing-project-report-api', entity='megatruong', title='Adding artifact lineage to reports', description='via WeaveBlockArtifact, WeaveBlockArtifactVersionedFile, or their panel equivalents', width='readable', blocks=[WeaveBlockArtifact(entity='megatruong', project='testing-project-lineage', artifact='model-1', tab='lineage'), WeaveBlockArtifactVersionedFile(entity='megatruong', project='testing-project-lineage', artifact='model-1', version='v0', file='dataframe.table.json')])"
      ]
     },
     "execution_count": null,
     "metadata": {},
     "output_type": "execute_result"
    }
   ],
   "source": [
    "report.blocks += [\n",
    "    wr.WeaveBlockArtifact(ENTITY, LINEAGE_PROJECT, \"model-1\", \"lineage\"),\n",
    "    wr.WeaveBlockArtifactVersionedFile(ENTITY, LINEAGE_PROJECT, \"model-1\", \"v0\", \"dataframe.table.json\")\n",
    "]\n",
    "report.save()"
   ]
  },
  {
   "cell_type": "markdown",
   "metadata": {},
   "source": [
    "### Using weave panels (via PanelGrid)"
   ]
  },
  {
   "cell_type": "code",
   "execution_count": null,
   "metadata": {},
   "outputs": [
    {
     "data": {
      "text/html": [
       "<iframe src=\"https://wandb.ai/megatruong/testing-project-report-api/reports/Adding-artifact-lineage-to-reports--VmlldzozMzYzOTQw?jupyter=true\" style=\"border:none;width:100%;height:1024px;\"></iframe>"
      ],
      "text/plain": [
       "Report(project='testing-project-report-api', entity='megatruong', title='Adding artifact lineage to reports', description='via WeaveBlockArtifact, WeaveBlockArtifactVersionedFile, or their panel equivalents', width='readable', blocks=[WeaveBlockArtifact(entity='megatruong', project='testing-project-lineage', artifact='model-1', tab='lineage'), WeaveBlockArtifactVersionedFile(entity='megatruong', project='testing-project-lineage', artifact='model-1', version='v0', file='dataframe.table.json'), PanelGrid(runsets=[Runset(entity='megatruong', project='testing-project-report-api', name='Run set', query='', filters={'$or': [{'$and': []}]}, order=['-CreatedTimestamp'])], panels=[WeavePanelArtifact(artifact='model-1', tab='lineage'), WeavePanelArtifactVersionedFile(artifact='model-1', version='v0', file='dataframe.table.json')])])"
      ]
     },
     "execution_count": null,
     "metadata": {},
     "output_type": "execute_result"
    }
   ],
   "source": [
    "report.blocks += [\n",
    "    wr.PanelGrid(panels=[\n",
    "        wr.WeavePanelArtifact(\"model-1\", \"lineage\"),\n",
    "        wr.WeavePanelArtifactVersionedFile(\"model-1\", \"v0\", \"dataframe.table.json\")\n",
    "    ])\n",
    "]\n",
    "report.save()"
   ]
  },
  {
   "cell_type": "markdown",
   "metadata": {},
   "source": [
    "## How can I create report templates?\n",
    "- See some of the examples in `wr.templates`\n",
    "- The most straightforward way is to create a function that returns your target report and/or its blocks."
   ]
  },
  {
   "cell_type": "markdown",
   "metadata": {},
   "source": [
    "### A basic template\n",
    "- Just use a function"
   ]
  },
  {
   "cell_type": "code",
   "execution_count": null,
   "metadata": {},
   "outputs": [],
   "source": [
    "def my_report_template(title, description, project, metric):\n",
    "    return wr.Report(\n",
    "        title=title,\n",
    "        description=description,\n",
    "        project=project,\n",
    "        blocks=[\n",
    "            wr.H1(f\"Look at our amazing metric called `{metric}`\"),\n",
    "            wr.PanelGrid(\n",
    "                panels=[wr.LinePlot(x='Step', y=metric, layout={'w': 24, 'h': 8})],\n",
    "            )\n",
    "        ]\n",
    "    ).save()"
   ]
  },
  {
   "cell_type": "code",
   "execution_count": null,
   "metadata": {},
   "outputs": [
    {
     "data": {
      "text/html": [
       "<iframe src=\"https://wandb.ai/megatruong/testing-project-report-api/reports/My-templated-report--VmlldzozMzYzOTQx?jupyter=true\" style=\"border:none;width:100%;height:1024px;\"></iframe>"
      ],
      "text/plain": [
       "Report(project='testing-project-report-api', entity='megatruong', title='My templated report', description=\"Here's an example of how you can make a function for templates\", width='readable', blocks=[H1(text=['Look at our amazing metric called `val_acc`']), PanelGrid(runsets=[Runset(entity='megatruong', project='testing-project-report-api', name='Run set', query='', filters={'$or': [{'$and': []}]}, order=['-CreatedTimestamp'])], panels=[LinePlot(x='Step', y=['val_acc'])])])"
      ]
     },
     "execution_count": null,
     "metadata": {},
     "output_type": "execute_result"
    }
   ],
   "source": [
    "my_report_template('My templated report', \"Here's an example of how you can make a function for templates\", PROJECT, 'val_acc')"
   ]
  },
  {
   "cell_type": "markdown",
   "metadata": {},
   "source": [
    "### More advanced templates"
   ]
  },
  {
   "cell_type": "code",
   "execution_count": null,
   "metadata": {},
   "outputs": [],
   "source": [
    "def create_header():\n",
    "  return [\n",
    "    wr.P(),\n",
    "    wr.HorizontalRule(),\n",
    "    wr.P(),\n",
    "    wr.Image(\n",
    "      \"https://camo.githubusercontent.com/83839f20c90facc062330f8fee5a7ab910fdd04b80b4c4c7e89d6d8137543540/68747470733a2f2f692e696d6775722e636f6d2f676236423469672e706e67\"\n",
    "    ),\n",
    "    wr.P(),\n",
    "    wr.HorizontalRule(),\n",
    "    wr.P(),\n",
    "  ]\n",
    "\n",
    "def create_footer():\n",
    "  return [\n",
    "    wr.P(),\n",
    "    wr.HorizontalRule(),\n",
    "    wr.P(),\n",
    "    wr.H1(\"Disclaimer\"),\n",
    "    wr.P(\n",
    "      \"The views and opinions expressed in this report are those of the authors and do not necessarily reflect the official policy or position of Weights & Biases. blah blah blah blah blah boring text at the bottom\"\n",
    "    ),\n",
    "    wr.P(),\n",
    "    wr.HorizontalRule(),\n",
    "  ]\n",
    "\n",
    "def create_main_content(metric):\n",
    "  return [\n",
    "    wr.H1(f\"Look at our amazing metric called `{metric}`\"),\n",
    "    wr.PanelGrid(\n",
    "      panels=[wr.LinePlot(x='Step', y=metric, layout={'w': 24, 'h': 8})],\n",
    "    )\n",
    "  ]\n",
    "\n",
    "def create_templated_report_with_header_and_footer(title, project, metric):\n",
    "  return wr.Report(\n",
    "    title=title,\n",
    "    project=project,\n",
    "    blocks=[\n",
    "      *create_header(),\n",
    "      *create_main_content(metric),\n",
    "      *create_footer(),\n",
    "    ]).save()"
   ]
  },
  {
   "cell_type": "code",
   "execution_count": null,
   "metadata": {},
   "outputs": [
    {
     "data": {
      "text/html": [
       "<iframe src=\"https://wandb.ai/megatruong/testing-project-report-api/reports/Another-templated-report--VmlldzozMzYzOTQz?jupyter=true\" style=\"border:none;width:100%;height:1024px;\"></iframe>"
      ],
      "text/plain": [
       "Report(project='testing-project-report-api', entity='megatruong', title='Another templated report', description='', width='readable', blocks=[P(), HorizontalRule(), P(), Image(url='https://camo.githubusercontent.com/83839f20c90facc062330f8fee5a7ab910fdd04b80b4c4c7e89d6d8137543540/68747470733a2f2f692e696d6775722e636f6d2f676236423469672e706e67'), P(), HorizontalRule(), P(), H1(text=['Look at our amazing metric called `val_acc`']), PanelGrid(runsets=[Runset(entity='megatruong', project='testing-project-report-api', name='Run set', query='', filters={'$or': [{'$and': []}]}, order=['-CreatedTimestamp'])], panels=[LinePlot(x='Step', y=['val_acc'])]), P(), HorizontalRule(), P(), H1(text=['Disclaimer']), P(text=['The views and opinions expressed in this report are those of the authors and do not necessarily reflect the official policy or position of Weights & Biases. blah blah blah blah blah boring text at the bottom']), P(), HorizontalRule()])"
      ]
     },
     "execution_count": null,
     "metadata": {},
     "output_type": "execute_result"
    }
   ],
   "source": [
    "create_templated_report_with_header_and_footer(title=\"Another templated report\", project=PROJECT, metric='val_acc')"
   ]
  },
  {
   "cell_type": "markdown",
   "metadata": {},
   "source": [
    "# 🧩 Patterns"
   ]
  },
  {
   "cell_type": "markdown",
   "metadata": {},
   "source": [
    "# 📌 Complete Examples"
   ]
  },
  {
   "cell_type": "markdown",
   "metadata": {},
   "source": [
    "## Reinforcement Learning (RL)"
   ]
  },
  {
   "cell_type": "code",
   "execution_count": null,
   "metadata": {},
   "outputs": [
    {
     "name": "stderr",
     "output_type": "stream",
     "text": [
      "\u001b[34m\u001b[1mwandb\u001b[0m: \u001b[33mWARNING\u001b[0m A graphql request initiated by the public wandb API timed out (timeout=9 sec). Create a new API with an integer timeout larger than 9, e.g., `api = wandb.Api(timeout=19)` to increase the graphql timeout.\n",
      "\u001b[34m\u001b[1mwandb\u001b[0m: \u001b[33mWARNING\u001b[0m A graphql request initiated by the public wandb API timed out (timeout=9 sec). Create a new API with an integer timeout larger than 9, e.g., `api = wandb.Api(timeout=19)` to increase the graphql timeout.\n",
      "\u001b[34m\u001b[1mwandb\u001b[0m: \u001b[33mWARNING\u001b[0m A graphql request initiated by the public wandb API timed out (timeout=9 sec). Create a new API with an integer timeout larger than 9, e.g., `api = wandb.Api(timeout=19)` to increase the graphql timeout.\n",
      "\u001b[34m\u001b[1mwandb\u001b[0m: \u001b[33mWARNING\u001b[0m A graphql request initiated by the public wandb API timed out (timeout=9 sec). Create a new API with an integer timeout larger than 9, e.g., `api = wandb.Api(timeout=19)` to increase the graphql timeout.\n",
      "\u001b[34m\u001b[1mwandb\u001b[0m: \u001b[33mWARNING\u001b[0m A graphql request initiated by the public wandb API timed out (timeout=9 sec). Create a new API with an integer timeout larger than 9, e.g., `api = wandb.Api(timeout=19)` to increase the graphql timeout.\n",
      "\u001b[34m\u001b[1mwandb\u001b[0m: \u001b[33mWARNING\u001b[0m A graphql request initiated by the public wandb API timed out (timeout=9 sec). Create a new API with an integer timeout larger than 9, e.g., `api = wandb.Api(timeout=19)` to increase the graphql timeout.\n",
      "\u001b[34m\u001b[1mwandb\u001b[0m: \u001b[33mWARNING\u001b[0m A graphql request initiated by the public wandb API timed out (timeout=9 sec). Create a new API with an integer timeout larger than 9, e.g., `api = wandb.Api(timeout=19)` to increase the graphql timeout.\n",
      "\u001b[34m\u001b[1mwandb\u001b[0m: \u001b[33mWARNING\u001b[0m A graphql request initiated by the public wandb API timed out (timeout=9 sec). Create a new API with an integer timeout larger than 9, e.g., `api = wandb.Api(timeout=19)` to increase the graphql timeout.\n",
      "\u001b[34m\u001b[1mwandb\u001b[0m: \u001b[33mWARNING\u001b[0m A graphql request initiated by the public wandb API timed out (timeout=9 sec). Create a new API with an integer timeout larger than 9, e.g., `api = wandb.Api(timeout=19)` to increase the graphql timeout.\n",
      "\u001b[34m\u001b[1mwandb\u001b[0m: \u001b[33mWARNING\u001b[0m A graphql request initiated by the public wandb API timed out (timeout=9 sec). Create a new API with an integer timeout larger than 9, e.g., `api = wandb.Api(timeout=19)` to increase the graphql timeout.\n",
      "\u001b[34m\u001b[1mwandb\u001b[0m: \u001b[33mWARNING\u001b[0m A graphql request initiated by the public wandb API timed out (timeout=9 sec). Create a new API with an integer timeout larger than 9, e.g., `api = wandb.Api(timeout=19)` to increase the graphql timeout.\n"
     ]
    },
    {
     "data": {
      "text/html": [
       "<iframe src=\"https://wandb.ai/megatruong/testing-project-report-api/reports/Reinforcement-Learning-Report--VmlldzozMzY0MDQ2?jupyter=true\" style=\"border:none;width:100%;height:1024px;\"></iframe>"
      ],
      "text/plain": [
       "Report(project='testing-project-report-api', entity='megatruong', title='Reinforcement Learning Report', description='Aut totam dolores aut galisum atque aut placeat quia. Vel quisquam omnis ut quibusdam doloremque a delectus quia in omnis deserunt. Quo ipsum beatae aut veniam earum non ipsa reiciendis et fugiat asperiores est veritatis magni et corrupti internos. Ut quis libero ut alias reiciendis et animi delectus.', width='readable', blocks=[TableOfContents(), H1(text=['Ea quidem illo est dolorem illo.']), P(text=['Lorem ipsum dolor sit amet, consectetur adipiscing elit. Sed ac eros ut nunc venenatis tincidunt vel ut dolor. Sed sed felis dictum, congue risus vel, aliquet dolor. Donec ut risus vel leo dictum tristique. Nunc sed urna mi. Morbi nulla turpis, vehicula eu maximus ut, gravida id libero. Duis porta risus leo, quis lobortis enim ultrices a. Donec quam augue, vestibulum vitae mollis at, tincidunt non orci. Morbi faucibus dignissim tempor. Vestibulum ornare augue a orci tincidunt porta. Pellentesque et ante et purus gravida euismod. Maecenas sit amet sollicitudin felis, sed egestas nunc.']), H2(text=['Et sunt sunt eum asperiores ratione.']), PanelGrid(runsets=[Runset(entity='openrlbenchmark', project='cleanrl', name='Run set', query='bigfish', filters={'$or': [{'$and': []}]}, groupby=['env_id', 'exp_name'], order=['-CreatedTimestamp'])], panels=[LinePlot(x='global_step', y=['charts/episodic_return'], groupby_aggfunc='mean', groupby_rangefunc='minmax', smoothing_factor=0.85), MediaBrowser(num_columns=4, media_keys='videos')], custom_run_colors={('Run set', 'bigfish', 'ppg_procgen'): '#2980b9', ('Run set', 'bigfish', 'ppo_procgen'): '#e74c3c'}), H2(text=['Sit officia inventore non omnis deleniti.']), PanelGrid(runsets=[Runset(entity='openrlbenchmark', project='cleanrl', name='Run set', query='starpilot', filters={'$or': [{'$and': []}]}, groupby=['env_id', 'exp_name'], order=['-CreatedTimestamp'])], panels=[LinePlot(x='global_step', y=['charts/episodic_return'], groupby_aggfunc='mean', groupby_rangefunc='minmax', smoothing_factor=0.85), MediaBrowser(num_columns=4, media_keys='videos')], custom_run_colors={('Run set', 'starpilot', 'ppg_procgen'): '#2980b9', ('Run set', 'starpilot', 'ppo_procgen'): '#e74c3c'}), H2(text=['Aut amet nesciunt vel quisquam repellendus sed labore voluptas.']), PanelGrid(runsets=[Runset(entity='openrlbenchmark', project='cleanrl', name='Run set', query='bossfight', filters={'$or': [{'$and': []}]}, groupby=['env_id', 'exp_name'], order=['-CreatedTimestamp'])], panels=[LinePlot(x='global_step', y=['charts/episodic_return'], groupby_aggfunc='mean', groupby_rangefunc='minmax', smoothing_factor=0.85), MediaBrowser(num_columns=4, media_keys='videos')], custom_run_colors={('Run set', 'bossfight', 'ppg_procgen'): '#2980b9', ('Run set', 'bossfight', 'ppo_procgen'): '#e74c3c'}), HorizontalRule(), H1(text=['Sed consectetur vero et voluptas voluptatem et adipisci blanditiis.']), P(text=['Sit aliquid repellendus et numquam provident quo quaerat earum 33 sunt illo et quos voluptate est officia deleniti. Vel architecto nulla ex nulla voluptatibus qui saepe officiis quo illo excepturi ea dolorum reprehenderit.']), H2(text=['Qui debitis iure 33 voluptatum eligendi.']), P(text=['Non veniam laudantium et fugit distinctio qui aliquid eius sed laudantium consequatur et quia perspiciatis. Et odio inventore est voluptas fugiat id perspiciatis dolorum et perferendis recusandae vel Quis odio 33 beatae veritatis. Ex sunt accusamus aut soluta eligendi sed perspiciatis maxime 33 dolorem dolorum est aperiam minima. Et earum rerum eos illo sint eos temporibus similique ea fuga iste sed quia soluta sit doloribus corporis sed tenetur excepturi?']), PanelGrid(runsets=[Runset(entity='openrlbenchmark', project='cleanrl', name='DQN', query='', filters={'$or': [{'$and': [{'config.env_id.value': 'BreakoutNoFrameskip-v4'}, {'config.exp_name.value': 'dqn_atari'}]}]}, groupby=['exp_name'], order=['-CreatedTimestamp']), Runset(entity='openrlbenchmark', project='cleanrl', name='SAC-discrete 0.8', query='', filters={'$or': [{'$and': [{'config.env_id.value': 'BreakoutNoFrameskip-v4'}, {'config.exp_name.value': 'sac_atari'}, {'config.target_entropy_scale.value': 0.8}]}]}, groupby=['exp_name'], order=['-CreatedTimestamp']), Runset(entity='openrlbenchmark', project='cleanrl', name='SAC-discrete 0.88', query='', filters={'$or': [{'$and': [{'config.env_id.value': 'BreakoutNoFrameskip-v4'}, {'config.exp_name.value': 'sac_atari'}, {'config.target_entropy_scale.value': 0.88}]}]}, groupby=['exp_name'], order=['-CreatedTimestamp'])], panels=[LinePlot(x='global_step', y=['charts/SPS']), LinePlot(x='global_step', y=['charts/episodic_length']), LinePlot(x='global_step', y=['charts/episodic_return'])], custom_run_colors={('DQN', 'dqn_atari'): '#e84118', ('SAC-discrete 0.8', 'sac_atari'): '#fbc531', ('SAC-discrete 0.88', 'sac_atari'): '#00a8ff'})])"
      ]
     },
     "execution_count": null,
     "metadata": {},
     "output_type": "execute_result"
    }
   ],
   "source": [
    "wr.Report(\n",
    "    project=PROJECT,\n",
    "    title='Reinforcement Learning Report',\n",
    "    description='Aut totam dolores aut galisum atque aut placeat quia. Vel quisquam omnis ut quibusdam doloremque a delectus quia in omnis deserunt. Quo ipsum beatae aut veniam earum non ipsa reiciendis et fugiat asperiores est veritatis magni et corrupti internos. Ut quis libero ut alias reiciendis et animi delectus.',\n",
    "    blocks=[\n",
    "        wr.TableOfContents(),\n",
    "        wr.H1(\"Ea quidem illo est dolorem illo.\"),\n",
    "        wr.P(\"Lorem ipsum dolor sit amet, consectetur adipiscing elit. Sed ac eros ut nunc venenatis tincidunt vel ut dolor. Sed sed felis dictum, congue risus vel, aliquet dolor. Donec ut risus vel leo dictum tristique. Nunc sed urna mi. Morbi nulla turpis, vehicula eu maximus ut, gravida id libero. Duis porta risus leo, quis lobortis enim ultrices a. Donec quam augue, vestibulum vitae mollis at, tincidunt non orci. Morbi faucibus dignissim tempor. Vestibulum ornare augue a orci tincidunt porta. Pellentesque et ante et purus gravida euismod. Maecenas sit amet sollicitudin felis, sed egestas nunc.\"),\n",
    "        wr.H2('Et sunt sunt eum asperiores ratione.'),\n",
    "        wr.PanelGrid(\n",
    "            panels=[\n",
    "                wr.LinePlot(x='global_step', y=['charts/episodic_return'], smoothing_factor=0.85, groupby_aggfunc='mean', groupby_rangefunc='minmax', layout={'x': 0, 'y': 0, 'w': 12, 'h': 8}),\n",
    "                wr.MediaBrowser(media_keys=\"videos\", num_columns=4, layout={'w': 12, 'h': 8}),\n",
    "            ],\n",
    "            runsets=[\n",
    "                wr.Runset(entity='openrlbenchmark', project='cleanrl', query='bigfish', groupby=['env_id', 'exp_name'])\n",
    "            ],\n",
    "            custom_run_colors={\n",
    "                ('Run set', 'bigfish', 'ppg_procgen'): \"#2980b9\",\n",
    "                ('Run set', 'bigfish', 'ppo_procgen'): \"#e74c3c\",\n",
    "            }\n",
    "        ),\n",
    "        wr.H2('Sit officia inventore non omnis deleniti.'),\n",
    "        wr.PanelGrid(\n",
    "            panels=[\n",
    "                wr.LinePlot(x='global_step', y=['charts/episodic_return'], smoothing_factor=0.85, groupby_aggfunc='mean', groupby_rangefunc='minmax', layout={'x': 0, 'y': 0, 'w': 12, 'h': 8}),\n",
    "                wr.MediaBrowser(media_keys=\"videos\", num_columns=4, layout={'w': 12, 'h': 8}),\n",
    "            ],\n",
    "            runsets=[\n",
    "                wr.Runset(entity='openrlbenchmark', project='cleanrl', query='starpilot', groupby=['env_id', 'exp_name'])\n",
    "            ],\n",
    "            custom_run_colors={\n",
    "                ('Run set', 'starpilot', 'ppg_procgen'): \"#2980b9\",\n",
    "                ('Run set', 'starpilot', 'ppo_procgen'): \"#e74c3c\",\n",
    "            }\n",
    "        ),\n",
    "        wr.H2('Aut amet nesciunt vel quisquam repellendus sed labore voluptas.'),\n",
    "        wr.PanelGrid(\n",
    "            panels=[\n",
    "                wr.LinePlot(x='global_step', y=['charts/episodic_return'], smoothing_factor=0.85, groupby_aggfunc='mean', groupby_rangefunc='minmax', layout={'x': 0, 'y': 0, 'w': 12, 'h': 8}),\n",
    "                wr.MediaBrowser(media_keys=\"videos\", num_columns=4, layout={'x': 0, 'y': 0, 'w': 12, 'h': 8}),\n",
    "            ],\n",
    "            runsets=[\n",
    "                wr.Runset(entity='openrlbenchmark', project='cleanrl', query='bossfight', groupby=['env_id', 'exp_name'])\n",
    "            ],\n",
    "            custom_run_colors={\n",
    "                ('Run set', 'bossfight', 'ppg_procgen'): \"#2980b9\",\n",
    "                ('Run set', 'bossfight', 'ppo_procgen'): \"#e74c3c\",\n",
    "            }\n",
    "        ),\n",
    "        wr.HorizontalRule(),\n",
    "        wr.H1(\"Sed consectetur vero et voluptas voluptatem et adipisci blanditiis.\"),\n",
    "        wr.P(\"Sit aliquid repellendus et numquam provident quo quaerat earum 33 sunt illo et quos voluptate est officia deleniti. Vel architecto nulla ex nulla voluptatibus qui saepe officiis quo illo excepturi ea dolorum reprehenderit.\"),\n",
    "        wr.H2(\"Qui debitis iure 33 voluptatum eligendi.\"),\n",
    "        wr.P(\"Non veniam laudantium et fugit distinctio qui aliquid eius sed laudantium consequatur et quia perspiciatis. Et odio inventore est voluptas fugiat id perspiciatis dolorum et perferendis recusandae vel Quis odio 33 beatae veritatis. Ex sunt accusamus aut soluta eligendi sed perspiciatis maxime 33 dolorem dolorum est aperiam minima. Et earum rerum eos illo sint eos temporibus similique ea fuga iste sed quia soluta sit doloribus corporis sed tenetur excepturi?\"),\n",
    "        wr.PanelGrid(\n",
    "            panels=[\n",
    "                wr.LinePlot(x='global_step', y=['charts/SPS']),\n",
    "                wr.LinePlot(x='global_step', y=['charts/episodic_length']),\n",
    "                wr.LinePlot(x='global_step', y=['charts/episodic_return']),\n",
    "            ],\n",
    "            runsets=[\n",
    "                wr.Runset(\"openrlbenchmark\", \"cleanrl\", \"DQN\", groupby=[\"exp_name\"]).set_filters_with_python_expr(\"env_id == 'BreakoutNoFrameskip-v4' and exp_name == 'dqn_atari'\"),\n",
    "                wr.Runset(\"openrlbenchmark\", \"cleanrl\", \"SAC-discrete 0.8\", groupby=[\"exp_name\"]).set_filters_with_python_expr(\"env_id == 'BreakoutNoFrameskip-v4' and exp_name == 'sac_atari' and target_entropy_scale == 0.8\"),\n",
    "                wr.Runset(\"openrlbenchmark\", \"cleanrl\", \"SAC-discrete 0.88\", groupby=[\"exp_name\"]).set_filters_with_python_expr(\"env_id == 'BreakoutNoFrameskip-v4' and exp_name == 'sac_atari' and target_entropy_scale == 0.88\"),\n",
    "            ],\n",
    "            custom_run_colors={\n",
    "                ('DQN',               'dqn_atari'): '#e84118',\n",
    "                ('SAC-discrete 0.8',  'sac_atari'): '#fbc531',\n",
    "                ('SAC-discrete 0.88', 'sac_atari'): '#00a8ff',\n",
    "            }\n",
    "        ),\n",
    "    ]\n",
    ").save()"
   ]
  },
  {
   "cell_type": "markdown",
   "metadata": {},
   "source": [
    "## Customer Landing Page"
   ]
  },
  {
   "cell_type": "code",
   "execution_count": null,
   "metadata": {},
   "outputs": [
    {
     "data": {
      "text/html": [
       "<iframe src=\"https://wandb.ai/megatruong/testing-project-report-api/reports/Weights-Biases-Company--VmlldzozMzY0MDUy?jupyter=true\" style=\"border:none;width:100%;height:1024px;\"></iframe>"
      ],
      "text/plain": [
       "Report(project='testing-project-report-api', entity='megatruong', title='Weights & Biases @ Company', description='The developer-first MLOps platform is now available at Company!\\nReach out to Contact McContact (email@company.com) for an account, and join your dedicated slack channel at:\\nhttps://company.slack.com/blah', width='readable', blocks=[P(), HorizontalRule(), TableOfContents(), P(), HorizontalRule(), H1(text=['What is Weights & Biases?']), P(text=['Weights & Biases (W&B) is the developer-first MLOps platform to build better models faster.  Over 200,000+ ML practitioners at 500+ companies use W&B to optimize their ML workflows in Natural Language, Computer Vision, Reinforcement Learning, Tabular ML, Finance, and more!']), P(), H2(text=['Why do you need W&B?']), P(text=['ML is a highly experimental field.  Often we try many different datasets, model architectures, optimizers, hyperparameters, etc.']), P(text=['Experimentation is great, but it can get messy.  Have you ever:']), UnorderedList(items=[['Logged experiments in a sketchy spreadsheet?'], ['Built an amazing model but could not reproduce it for a colleague / model validation?'], ['Wondered why your model is making strange predictions?'], ['Fumbled with tuning hyperparameters?'], [\"Struggled explaining to a colleague the impact of what you're doing?\"]]), P(text=['If that sounds familiar, W&B might be a good solution for you!']), P(), H2(text=['What does W&B do?', Link(text='', url='https://wandb.ai/site/experiment-tracking')]), P(text=[Link(text='', url='https://wandb.ai/site/experiment-tracking'), 'W&B has lightweight and flexible tools for... (expand to see more)']), H3(text=[Link(text='Experiment tracking', url='https://wandb.ai/site/experiment-tracking')]), PanelGrid(runsets=[Runset(entity='megatruong', project='whirlwind_test4', name='Run set', query='', filters={'$or': [{'$and': [{'state': {'$ne': 'crashed'}}, {'config.Learner.value.opt_func': {'$ne': None}}]}]}, groupby=['Learner.opt_func'], order=['-CreatedTimestamp'])], panels=[LinePlot(x='Step', y=['gradients/layers.0.4.0.bn1.bias'], log_y=False, groupby='None'), LinePlot(x='Step', y=['gradients/layers.0.1.weight'], log_y=False, groupby='None'), LinePlot(x='Step', y=['gradients/layers.0.1.bias'], log_y=False, groupby='None'), LinePlot(x='Step', y=['train_loss'], log_y=False, groupby='None'), LinePlot(x='Step', y=['valid_loss'], log_y=False, groupby='None'), LinePlot(x='Step', y=['top_k_accuracy'], log_y=False, groupby='None'), LinePlot(x='Step', y=['mom_0'], log_y=False, groupby='None'), LinePlot(x='Step', y=['lr_0'], log_y=False, groupby='None'), LinePlot(x='Step', y=['accuracy'], log_y=False, groupby='None')], custom_run_colors={('Run set', 'megatruong'): 'rgb(83, 135, 221)', ('Run set', 'fastai.optimizer.ranger'): 'rgb(83, 135, 221)', ('Run set', 'fastai.optimizer.Adam'): 'rgb(229, 116, 57)'}), P(text=[Link(text='', url='https://assets.website-files.com/5ac6b7f2924c656f2b13a88c/6066c22135b8983b61ad7939_weights-and-biases-logo.svg')]), H3(text=[Link(text='Dataset and model versioning, evaluation, and reproduction', url='https://wandb.ai/site/artifacts')]), WeaveBlockArtifact(entity='megatruong', project='whirlwind_test4', artifact='camvid_learner', tab='lineage'), P(), H3(text=[Link(text='Hyperparameter optimization', url='https://wandb.ai/site/sweeps')]), P(text=[Link(text='', url='https://wandb.ai/site/sweeps')]), PanelGrid(runsets=[Runset(entity='wandb', project='cartpole', name='Run set', query='sweep', filters={'$or': [{'$and': []}]}, order=['-CreatedTimestamp'])], panels=[MediaBrowser(), ParallelCoordinatesPlot(columns=[PCColumn(metric='c::activation'), PCColumn(metric='c::lr', log_scale=True), PCColumn(metric='c::target_model_update', log_scale=True), PCColumn(metric='c::n_hidden', log_scale=True), PCColumn(metric='s::test_reward')])]), H3(text=[Link(text='Model visualization and analysis', url='https://wandb.ai/site/tables')]), P(text=[Link(text='', url='https://wandb.ai/site/tables')]), PanelGrid(runsets=[Runset(entity='megatruong', project='whirlwind_test4', name='Run set', query='', filters={'$or': [{'$and': []}]}, order=['-CreatedTimestamp'])], panels=[WeavePanelSummaryTable(table_name='valid_table'), WeavePanelSummaryTable(table_name='img_table'), WeavePanelSummaryTable(table_name='image_table')]), P(), PanelGrid(runsets=[Runset(entity='wandb', project='wandb_spacy_integration', name='Run set', query='', filters={'$or': [{'$and': []}]}, order=['-CreatedTimestamp'])], panels=[WeavePanelSummaryTable(table_name='spaCy NER table'), WeavePanelSummaryTable(table_name='per annotation scores'), WeavePanelSummaryTable(table_name='metrics')]), H3(text=[Link(text='ML team collaboration and sharing results', url='https://wandb.ai/site/reports')]), H2(text=['How do I get access?']), P(text=['Ask Contact McContact (email@company.com) to help:']), OrderedList(items=[['Set up your account'], ['Get added to the ', Link(text='joint slack channel', url='https://company.slack.com/blah')]]), HorizontalRule(), H1(text=['Getting Started']), P(text=['W&B has two components:']), OrderedList(items=[['A centrally managed MLOps platform and UI'], ['The ', InlineCode(code='wandb'), ' SDK (', Link(text='github', url='https://github.com/wandb/client'), ', ', Link(text='pypi', url='https://pypi.org/project/wandb/'), ', ', Link(text='conda-forge', url='https://anaconda.org/conda-forge/wandb'), ')']]), P(), H3(text=['1. Install the SDK']), CodeBlock(code=['pip install wandb'], language='python'), P(), H3(text=['2. Log in to W&B']), P(text=['You will be prompted to get and set your API key in the UI.']), CodeBlock(code=['wandb.login()'], language='python'), P(), H3(text=['3. Setup an experiment']), P(text=['Add this to the beginning of your scripts (or top of your notebook).']), CodeBlock(code=['wandb.init()'], language='python'), P(), P(text=[Link(text='For more details on options and advanced usage, see the docs.', url='https://docs.wandb.ai/ref/python/init')]), P(), H3(text=['4. Log anything!']), P(text=['You can log metrics anywhere in your script, for example']), CodeBlock(code=['wandb.log({\"loss\": model_loss})'], language='python'), P(), P(text=['Log metrics, graphs, dataframes, images with segmentation masks or bounding boxes, videos, point clouds, custom HTML, and more!  ', Link(text='For more details on logging, including advanced types, see the docs.', url='https://docs.wandb.ai/guides/track/log')]), P(text=['W&B also helps you reproduce results by capturing:']), UnorderedList(items=[['git state (repo, commit)'], ['requirements (requirements.txt, conda_env.yml)'], ['logs, including stdout'], ['hardware metrics (CPU, GPU, network, memory utilization, temperature, throughput)'], ['and more!']]), P(), H3(text=['Putting everything together:']), CodeBlock(code=['wandb.login()', '', 'wandb.init()', 'for i in range(1000):', '    wandb.log({\"metric\": i})'], language='python'), P(), H1(text=['What else is possible with W&B?']), H2(text=['Example projects']), Gallery(ids=['Vmlldzo4ODc0MDc=', 'Vmlldzo4NDI3NzM=', 'Vmlldzo2MDIzMTg=', 'VmlldzoyMjA3MjY=', 'Vmlldzo1NjM4OA==']), P()])"
      ]
     },
     "execution_count": null,
     "metadata": {},
     "output_type": "execute_result"
    }
   ],
   "source": [
    "report = wr.templates.create_customer_landing_page(\n",
    "    project=PROJECT,\n",
    "    company_name='Company',\n",
    "    main_contact='Contact McContact (email@company.com)',\n",
    "    slack_link='https://company.slack.com/blah',\n",
    ")\n",
    "report.save()"
   ]
  },
  {
   "cell_type": "markdown",
   "metadata": {},
   "source": [
    "## Enterprise Report with Branded Header and Footer"
   ]
  },
  {
   "cell_type": "code",
   "execution_count": null,
   "metadata": {},
   "outputs": [
    {
     "name": "stderr",
     "output_type": "stream",
     "text": [
      "\u001b[34m\u001b[1mwandb\u001b[0m: \u001b[33mWARNING\u001b[0m A graphql request initiated by the public wandb API timed out (timeout=9 sec). Create a new API with an integer timeout larger than 9, e.g., `api = wandb.Api(timeout=19)` to increase the graphql timeout.\n",
      "\u001b[34m\u001b[1mwandb\u001b[0m: \u001b[33mWARNING\u001b[0m A graphql request initiated by the public wandb API timed out (timeout=9 sec). Create a new API with an integer timeout larger than 9, e.g., `api = wandb.Api(timeout=19)` to increase the graphql timeout.\n"
     ]
    },
    {
     "data": {
      "text/html": [
       "<iframe src=\"https://wandb.ai/megatruong/testing-project-report-api/reports/Untitled-Report--VmlldzozMzY0MDk1?jupyter=true\" style=\"border:none;width:100%;height:1024px;\"></iframe>"
      ],
      "text/plain": [
       "Report(project='testing-project-report-api', entity='megatruong', title='Untitled Report', description='', width='readable', blocks=[P(), HorizontalRule(), P(), Image(url='https://camo.githubusercontent.com/83839f20c90facc062330f8fee5a7ab910fdd04b80b4c4c7e89d6d8137543540/68747470733a2f2f692e696d6775722e636f6d2f676236423469672e706e67'), P(), HorizontalRule(), P(), H1(text=['Ea quidem illo est dolorem illo.']), P(text=['Lorem ipsum dolor sit amet, consectetur adipiscing elit. Sed ac eros ut nunc venenatis tincidunt vel ut dolor. Sed sed felis dictum, congue risus vel, aliquet dolor. Donec ut risus vel leo dictum tristique. Nunc sed urna mi. Morbi nulla turpis, vehicula eu maximus ut, gravida id libero. Duis porta risus leo, quis lobortis enim ultrices a. Donec quam augue, vestibulum vitae mollis at, tincidunt non orci. Morbi faucibus dignissim tempor. Vestibulum ornare augue a orci tincidunt porta. Pellentesque et ante et purus gravida euismod. Maecenas sit amet sollicitudin felis, sed egestas nunc.']), H2(text=['Et sunt sunt eum asperiores ratione.']), PanelGrid(runsets=[Runset(entity='openrlbenchmark', project='cleanrl', name='Run set', query='bigfish', filters={'$or': [{'$and': []}]}, groupby=['env_id', 'exp_name'], order=['-CreatedTimestamp'])], panels=[LinePlot(x='global_step', y=['charts/episodic_return'], groupby_aggfunc='mean', groupby_rangefunc='minmax', smoothing_factor=0.85), MediaBrowser(num_columns=4, media_keys='videos')], custom_run_colors={('Run set', 'bigfish', 'ppg_procgen'): '#2980b9', ('Run set', 'bigfish', 'ppo_procgen'): '#e74c3c'}), H2(text=['Sit officia inventore non omnis deleniti.']), PanelGrid(runsets=[Runset(entity='openrlbenchmark', project='cleanrl', name='Run set', query='starpilot', filters={'$or': [{'$and': []}]}, groupby=['env_id', 'exp_name'], order=['-CreatedTimestamp'])], panels=[LinePlot(x='global_step', y=['charts/episodic_return'], groupby_aggfunc='mean', groupby_rangefunc='minmax', smoothing_factor=0.85), MediaBrowser(num_columns=4, media_keys='videos')], custom_run_colors={('Run set', 'starpilot', 'ppg_procgen'): '#2980b9', ('Run set', 'starpilot', 'ppo_procgen'): '#e74c3c'}), P(), HorizontalRule(), P(), H1(text=['Disclaimer']), P(text=['The views and opinions expressed in this report are those of the authors and do not necessarily reflect the official policy or position of Weights & Biases. blah blah blah blah blah boring text at the bottom']), P(), HorizontalRule()])"
      ]
     },
     "execution_count": null,
     "metadata": {},
     "output_type": "execute_result"
    }
   ],
   "source": [
    "report = wr.templates.create_enterprise_report(\n",
    "    project=PROJECT,\n",
    "    body=[\n",
    "        wr.H1(\"Ea quidem illo est dolorem illo.\"),\n",
    "        wr.P(\"Lorem ipsum dolor sit amet, consectetur adipiscing elit. Sed ac eros ut nunc venenatis tincidunt vel ut dolor. Sed sed felis dictum, congue risus vel, aliquet dolor. Donec ut risus vel leo dictum tristique. Nunc sed urna mi. Morbi nulla turpis, vehicula eu maximus ut, gravida id libero. Duis porta risus leo, quis lobortis enim ultrices a. Donec quam augue, vestibulum vitae mollis at, tincidunt non orci. Morbi faucibus dignissim tempor. Vestibulum ornare augue a orci tincidunt porta. Pellentesque et ante et purus gravida euismod. Maecenas sit amet sollicitudin felis, sed egestas nunc.\"),\n",
    "        wr.H2('Et sunt sunt eum asperiores ratione.'),\n",
    "        wr.PanelGrid(\n",
    "            panels=[\n",
    "                wr.LinePlot(x='global_step', y=['charts/episodic_return'], smoothing_factor=0.85, groupby_aggfunc='mean', groupby_rangefunc='minmax', layout={'x': 0, 'y': 0, 'w': 12, 'h': 8}),\n",
    "                wr.MediaBrowser(media_keys=\"videos\", num_columns=4, layout={'w': 12, 'h': 8}),\n",
    "            ],\n",
    "            runsets=[\n",
    "                wr.Runset(entity='openrlbenchmark', project='cleanrl', query='bigfish', groupby=['env_id', 'exp_name'])\n",
    "            ],\n",
    "            custom_run_colors={\n",
    "                ('Run set', 'bigfish', 'ppg_procgen'): \"#2980b9\",\n",
    "                ('Run set', 'bigfish', 'ppo_procgen'): \"#e74c3c\",\n",
    "            }\n",
    "        ),\n",
    "        wr.H2('Sit officia inventore non omnis deleniti.'),\n",
    "        wr.PanelGrid(\n",
    "            panels=[\n",
    "                wr.LinePlot(x='global_step', y=['charts/episodic_return'], smoothing_factor=0.85, groupby_aggfunc='mean', groupby_rangefunc='minmax', layout={'x': 0, 'y': 0, 'w': 12, 'h': 8}),\n",
    "                wr.MediaBrowser(media_keys=\"videos\", num_columns=4, layout={'w': 12, 'h': 8}),\n",
    "            ],\n",
    "            runsets=[\n",
    "                wr.Runset(entity='openrlbenchmark', project='cleanrl', query='starpilot', groupby=['env_id', 'exp_name'])\n",
    "            ],\n",
    "            custom_run_colors={\n",
    "                ('Run set', 'starpilot', 'ppg_procgen'): \"#2980b9\",\n",
    "                ('Run set', 'starpilot', 'ppo_procgen'): \"#e74c3c\",\n",
    "            }\n",
    "        ),\n",
    "    ]\n",
    ")\n",
    "report.save()"
   ]
  },
  {
   "cell_type": "code",
   "execution_count": null,
   "metadata": {},
   "outputs": [],
   "source": []
  }
 ],
 "metadata": {
  "kernelspec": {
   "display_name": "Python 3 (ipykernel)",
   "language": "python",
   "name": "python3"
  },
  "widgets": {
   "application/vnd.jupyter.widget-state+json": {
    "0381cd4d143b46fbb7218391c95ddbb0": {
     "model_module": "@jupyter-widgets/base",
     "model_module_version": "1.2.0",
     "model_name": "LayoutModel",
     "state": {
      "_model_module": "@jupyter-widgets/base",
      "_model_module_version": "1.2.0",
      "_model_name": "LayoutModel",
      "_view_count": null,
      "_view_module": "@jupyter-widgets/base",
      "_view_module_version": "1.2.0",
      "_view_name": "LayoutView",
      "align_content": null,
      "align_items": null,
      "align_self": null,
      "border": null,
      "bottom": null,
      "display": null,
      "flex": null,
      "flex_flow": null,
      "grid_area": null,
      "grid_auto_columns": null,
      "grid_auto_flow": null,
      "grid_auto_rows": null,
      "grid_column": null,
      "grid_gap": null,
      "grid_row": null,
      "grid_template_areas": null,
      "grid_template_columns": null,
      "grid_template_rows": null,
      "height": null,
      "justify_content": null,
      "justify_items": null,
      "left": null,
      "margin": null,
      "max_height": null,
      "max_width": null,
      "min_height": null,
      "min_width": null,
      "object_fit": null,
      "object_position": null,
      "order": null,
      "overflow": null,
      "overflow_x": null,
      "overflow_y": null,
      "padding": null,
      "right": null,
      "top": null,
      "visibility": null,
      "width": null
     }
    },
    "0704b380135544a09d8f420b2943e651": {
     "model_module": "@jupyter-widgets/base",
     "model_module_version": "1.2.0",
     "model_name": "LayoutModel",
     "state": {
      "_model_module": "@jupyter-widgets/base",
      "_model_module_version": "1.2.0",
      "_model_name": "LayoutModel",
      "_view_count": null,
      "_view_module": "@jupyter-widgets/base",
      "_view_module_version": "1.2.0",
      "_view_name": "LayoutView",
      "align_content": null,
      "align_items": null,
      "align_self": null,
      "border": null,
      "bottom": null,
      "display": null,
      "flex": null,
      "flex_flow": null,
      "grid_area": null,
      "grid_auto_columns": null,
      "grid_auto_flow": null,
      "grid_auto_rows": null,
      "grid_column": null,
      "grid_gap": null,
      "grid_row": null,
      "grid_template_areas": null,
      "grid_template_columns": null,
      "grid_template_rows": null,
      "height": null,
      "justify_content": null,
      "justify_items": null,
      "left": null,
      "margin": null,
      "max_height": null,
      "max_width": null,
      "min_height": null,
      "min_width": null,
      "object_fit": null,
      "object_position": null,
      "order": null,
      "overflow": null,
      "overflow_x": null,
      "overflow_y": null,
      "padding": null,
      "right": null,
      "top": null,
      "visibility": null,
      "width": null
     }
    },
    "094d25cfe5b34291b5181a16d3ab2ead": {
     "model_module": "@jupyter-widgets/controls",
     "model_module_version": "1.5.0",
     "model_name": "ProgressStyleModel",
     "state": {
      "_model_module": "@jupyter-widgets/controls",
      "_model_module_version": "1.5.0",
      "_model_name": "ProgressStyleModel",
      "_view_count": null,
      "_view_module": "@jupyter-widgets/base",
      "_view_module_version": "1.2.0",
      "_view_name": "StyleView",
      "bar_color": null,
      "description_width": ""
     }
    },
    "0bf374ed7e924e1f81e5879c4138e56e": {
     "model_module": "@jupyter-widgets/base",
     "model_module_version": "1.2.0",
     "model_name": "LayoutModel",
     "state": {
      "_model_module": "@jupyter-widgets/base",
      "_model_module_version": "1.2.0",
      "_model_name": "LayoutModel",
      "_view_count": null,
      "_view_module": "@jupyter-widgets/base",
      "_view_module_version": "1.2.0",
      "_view_name": "LayoutView",
      "align_content": null,
      "align_items": null,
      "align_self": null,
      "border": null,
      "bottom": null,
      "display": null,
      "flex": null,
      "flex_flow": null,
      "grid_area": null,
      "grid_auto_columns": null,
      "grid_auto_flow": null,
      "grid_auto_rows": null,
      "grid_column": null,
      "grid_gap": null,
      "grid_row": null,
      "grid_template_areas": null,
      "grid_template_columns": null,
      "grid_template_rows": null,
      "height": null,
      "justify_content": null,
      "justify_items": null,
      "left": null,
      "margin": null,
      "max_height": null,
      "max_width": null,
      "min_height": null,
      "min_width": null,
      "object_fit": null,
      "object_position": null,
      "order": null,
      "overflow": null,
      "overflow_x": null,
      "overflow_y": null,
      "padding": null,
      "right": null,
      "top": null,
      "visibility": null,
      "width": null
     }
    },
    "105ae1d86d164892821a13ccfd918800": {
     "model_module": "@jupyter-widgets/base",
     "model_module_version": "1.2.0",
     "model_name": "LayoutModel",
     "state": {
      "_model_module": "@jupyter-widgets/base",
      "_model_module_version": "1.2.0",
      "_model_name": "LayoutModel",
      "_view_count": null,
      "_view_module": "@jupyter-widgets/base",
      "_view_module_version": "1.2.0",
      "_view_name": "LayoutView",
      "align_content": null,
      "align_items": null,
      "align_self": null,
      "border": null,
      "bottom": null,
      "display": null,
      "flex": null,
      "flex_flow": null,
      "grid_area": null,
      "grid_auto_columns": null,
      "grid_auto_flow": null,
      "grid_auto_rows": null,
      "grid_column": null,
      "grid_gap": null,
      "grid_row": null,
      "grid_template_areas": null,
      "grid_template_columns": null,
      "grid_template_rows": null,
      "height": null,
      "justify_content": null,
      "justify_items": null,
      "left": null,
      "margin": null,
      "max_height": null,
      "max_width": null,
      "min_height": null,
      "min_width": null,
      "object_fit": null,
      "object_position": null,
      "order": null,
      "overflow": null,
      "overflow_x": null,
      "overflow_y": null,
      "padding": null,
      "right": null,
      "top": null,
      "visibility": null,
      "width": null
     }
    },
    "11ddca78eaf54e53820a125cfe55c91f": {
     "model_module": "@jupyter-widgets/base",
     "model_module_version": "1.2.0",
     "model_name": "LayoutModel",
     "state": {
      "_model_module": "@jupyter-widgets/base",
      "_model_module_version": "1.2.0",
      "_model_name": "LayoutModel",
      "_view_count": null,
      "_view_module": "@jupyter-widgets/base",
      "_view_module_version": "1.2.0",
      "_view_name": "LayoutView",
      "align_content": null,
      "align_items": null,
      "align_self": null,
      "border": null,
      "bottom": null,
      "display": null,
      "flex": null,
      "flex_flow": null,
      "grid_area": null,
      "grid_auto_columns": null,
      "grid_auto_flow": null,
      "grid_auto_rows": null,
      "grid_column": null,
      "grid_gap": null,
      "grid_row": null,
      "grid_template_areas": null,
      "grid_template_columns": null,
      "grid_template_rows": null,
      "height": null,
      "justify_content": null,
      "justify_items": null,
      "left": null,
      "margin": null,
      "max_height": null,
      "max_width": null,
      "min_height": null,
      "min_width": null,
      "object_fit": null,
      "object_position": null,
      "order": null,
      "overflow": null,
      "overflow_x": null,
      "overflow_y": null,
      "padding": null,
      "right": null,
      "top": null,
      "visibility": null,
      "width": null
     }
    },
    "13c731445e2f4999b7dc84bbec20a279": {
     "model_module": "@jupyter-widgets/controls",
     "model_module_version": "1.5.0",
     "model_name": "FloatProgressModel",
     "state": {
      "_dom_classes": [],
      "_model_module": "@jupyter-widgets/controls",
      "_model_module_version": "1.5.0",
      "_model_name": "FloatProgressModel",
      "_view_count": null,
      "_view_module": "@jupyter-widgets/controls",
      "_view_module_version": "1.5.0",
      "_view_name": "ProgressView",
      "bar_style": "",
      "description": "",
      "description_tooltip": null,
      "layout": "IPY_MODEL_cdfe8de0983f4edd884f71e3c6572874",
      "max": 1,
      "min": 0,
      "orientation": "horizontal",
      "style": "IPY_MODEL_c0fa0b8150ab41f68a6e0282b03a6b60",
      "value": 1
     }
    },
    "15835fc52c4241a290f00918a8166f05": {
     "model_module": "@jupyter-widgets/base",
     "model_module_version": "1.2.0",
     "model_name": "LayoutModel",
     "state": {
      "_model_module": "@jupyter-widgets/base",
      "_model_module_version": "1.2.0",
      "_model_name": "LayoutModel",
      "_view_count": null,
      "_view_module": "@jupyter-widgets/base",
      "_view_module_version": "1.2.0",
      "_view_name": "LayoutView",
      "align_content": null,
      "align_items": null,
      "align_self": null,
      "border": null,
      "bottom": null,
      "display": null,
      "flex": null,
      "flex_flow": null,
      "grid_area": null,
      "grid_auto_columns": null,
      "grid_auto_flow": null,
      "grid_auto_rows": null,
      "grid_column": null,
      "grid_gap": null,
      "grid_row": null,
      "grid_template_areas": null,
      "grid_template_columns": null,
      "grid_template_rows": null,
      "height": null,
      "justify_content": null,
      "justify_items": null,
      "left": null,
      "margin": null,
      "max_height": null,
      "max_width": null,
      "min_height": null,
      "min_width": null,
      "object_fit": null,
      "object_position": null,
      "order": null,
      "overflow": null,
      "overflow_x": null,
      "overflow_y": null,
      "padding": null,
      "right": null,
      "top": null,
      "visibility": null,
      "width": null
     }
    },
    "19ea1673b2524a1795ddd7015e7375bf": {
     "model_module": "@jupyter-widgets/controls",
     "model_module_version": "1.5.0",
     "model_name": "VBoxModel",
     "state": {
      "_dom_classes": [],
      "_model_module": "@jupyter-widgets/controls",
      "_model_module_version": "1.5.0",
      "_model_name": "VBoxModel",
      "_view_count": null,
      "_view_module": "@jupyter-widgets/controls",
      "_view_module_version": "1.5.0",
      "_view_name": "VBoxView",
      "box_style": "",
      "children": [
       "IPY_MODEL_4f0d363a708e4260913b7cb8c168399b",
       "IPY_MODEL_814fc47217d242a79f1260910bf4a480"
      ],
      "layout": "IPY_MODEL_11ddca78eaf54e53820a125cfe55c91f"
     }
    },
    "24b082022cf74f278ebc9eed70db376c": {
     "model_module": "@jupyter-widgets/controls",
     "model_module_version": "1.5.0",
     "model_name": "DescriptionStyleModel",
     "state": {
      "_model_module": "@jupyter-widgets/controls",
      "_model_module_version": "1.5.0",
      "_model_name": "DescriptionStyleModel",
      "_view_count": null,
      "_view_module": "@jupyter-widgets/base",
      "_view_module_version": "1.2.0",
      "_view_name": "StyleView",
      "description_width": ""
     }
    },
    "2a55cd5f749d4cf8840f6a80076b0f13": {
     "model_module": "@jupyter-widgets/controls",
     "model_module_version": "1.5.0",
     "model_name": "DescriptionStyleModel",
     "state": {
      "_model_module": "@jupyter-widgets/controls",
      "_model_module_version": "1.5.0",
      "_model_name": "DescriptionStyleModel",
      "_view_count": null,
      "_view_module": "@jupyter-widgets/base",
      "_view_module_version": "1.2.0",
      "_view_name": "StyleView",
      "description_width": ""
     }
    },
    "2cdfb3e8660c4ab19e8d8270c4620309": {
     "model_module": "@jupyter-widgets/controls",
     "model_module_version": "1.5.0",
     "model_name": "VBoxModel",
     "state": {
      "_dom_classes": [],
      "_model_module": "@jupyter-widgets/controls",
      "_model_module_version": "1.5.0",
      "_model_name": "VBoxModel",
      "_view_count": null,
      "_view_module": "@jupyter-widgets/controls",
      "_view_module_version": "1.5.0",
      "_view_name": "VBoxView",
      "box_style": "",
      "children": [
       "IPY_MODEL_3a29dbb73a3f46ed9e86c18b72c9f5d8",
       "IPY_MODEL_38c3b0273e794a078f653f906788660e"
      ],
      "layout": "IPY_MODEL_0381cd4d143b46fbb7218391c95ddbb0"
     }
    },
    "2e55a900ca924dceb3defeec44a1b487": {
     "model_module": "@jupyter-widgets/base",
     "model_module_version": "1.2.0",
     "model_name": "LayoutModel",
     "state": {
      "_model_module": "@jupyter-widgets/base",
      "_model_module_version": "1.2.0",
      "_model_name": "LayoutModel",
      "_view_count": null,
      "_view_module": "@jupyter-widgets/base",
      "_view_module_version": "1.2.0",
      "_view_name": "LayoutView",
      "align_content": null,
      "align_items": null,
      "align_self": null,
      "border": null,
      "bottom": null,
      "display": null,
      "flex": null,
      "flex_flow": null,
      "grid_area": null,
      "grid_auto_columns": null,
      "grid_auto_flow": null,
      "grid_auto_rows": null,
      "grid_column": null,
      "grid_gap": null,
      "grid_row": null,
      "grid_template_areas": null,
      "grid_template_columns": null,
      "grid_template_rows": null,
      "height": null,
      "justify_content": null,
      "justify_items": null,
      "left": null,
      "margin": null,
      "max_height": null,
      "max_width": null,
      "min_height": null,
      "min_width": null,
      "object_fit": null,
      "object_position": null,
      "order": null,
      "overflow": null,
      "overflow_x": null,
      "overflow_y": null,
      "padding": null,
      "right": null,
      "top": null,
      "visibility": null,
      "width": null
     }
    },
    "2f73ed4deefb41978f266176dcf6f323": {
     "model_module": "@jupyter-widgets/controls",
     "model_module_version": "1.5.0",
     "model_name": "ProgressStyleModel",
     "state": {
      "_model_module": "@jupyter-widgets/controls",
      "_model_module_version": "1.5.0",
      "_model_name": "ProgressStyleModel",
      "_view_count": null,
      "_view_module": "@jupyter-widgets/base",
      "_view_module_version": "1.2.0",
      "_view_name": "StyleView",
      "bar_color": null,
      "description_width": ""
     }
    },
    "313524b4457e48b487b7e3cdc8e36a16": {
     "model_module": "@jupyter-widgets/controls",
     "model_module_version": "1.5.0",
     "model_name": "VBoxModel",
     "state": {
      "_dom_classes": [],
      "_model_module": "@jupyter-widgets/controls",
      "_model_module_version": "1.5.0",
      "_model_name": "VBoxModel",
      "_view_count": null,
      "_view_module": "@jupyter-widgets/controls",
      "_view_module_version": "1.5.0",
      "_view_name": "VBoxView",
      "box_style": "",
      "children": [
       "IPY_MODEL_386d30616fe1403eaf1d53194042b3ef",
       "IPY_MODEL_90ef9cc02fbb4e4f93293e8679d61702"
      ],
      "layout": "IPY_MODEL_46eb487c7abb45958a5fde3a01d37808"
     }
    },
    "37936025ce9947e0ab2f1d8b5ffcf4a6": {
     "model_module": "@jupyter-widgets/base",
     "model_module_version": "1.2.0",
     "model_name": "LayoutModel",
     "state": {
      "_model_module": "@jupyter-widgets/base",
      "_model_module_version": "1.2.0",
      "_model_name": "LayoutModel",
      "_view_count": null,
      "_view_module": "@jupyter-widgets/base",
      "_view_module_version": "1.2.0",
      "_view_name": "LayoutView",
      "align_content": null,
      "align_items": null,
      "align_self": null,
      "border": null,
      "bottom": null,
      "display": null,
      "flex": null,
      "flex_flow": null,
      "grid_area": null,
      "grid_auto_columns": null,
      "grid_auto_flow": null,
      "grid_auto_rows": null,
      "grid_column": null,
      "grid_gap": null,
      "grid_row": null,
      "grid_template_areas": null,
      "grid_template_columns": null,
      "grid_template_rows": null,
      "height": null,
      "justify_content": null,
      "justify_items": null,
      "left": null,
      "margin": null,
      "max_height": null,
      "max_width": null,
      "min_height": null,
      "min_width": null,
      "object_fit": null,
      "object_position": null,
      "order": null,
      "overflow": null,
      "overflow_x": null,
      "overflow_y": null,
      "padding": null,
      "right": null,
      "top": null,
      "visibility": null,
      "width": null
     }
    },
    "386d30616fe1403eaf1d53194042b3ef": {
     "model_module": "@jupyter-widgets/controls",
     "model_module_version": "1.5.0",
     "model_name": "LabelModel",
     "state": {
      "_dom_classes": [],
      "_model_module": "@jupyter-widgets/controls",
      "_model_module_version": "1.5.0",
      "_model_name": "LabelModel",
      "_view_count": null,
      "_view_module": "@jupyter-widgets/controls",
      "_view_module_version": "1.5.0",
      "_view_name": "LabelView",
      "description": "",
      "description_tooltip": null,
      "layout": "IPY_MODEL_befd04334d144d6a9839dd1db06839b9",
      "placeholder": "​",
      "style": "IPY_MODEL_2a55cd5f749d4cf8840f6a80076b0f13",
      "value": "1.257 MB of 1.257 MB uploaded (1.122 MB deduped)\r"
     }
    },
    "387377b47c264f75994fe92e535f3705": {
     "model_module": "@jupyter-widgets/controls",
     "model_module_version": "1.5.0",
     "model_name": "LabelModel",
     "state": {
      "_dom_classes": [],
      "_model_module": "@jupyter-widgets/controls",
      "_model_module_version": "1.5.0",
      "_model_name": "LabelModel",
      "_view_count": null,
      "_view_module": "@jupyter-widgets/controls",
      "_view_module_version": "1.5.0",
      "_view_name": "LabelView",
      "description": "",
      "description_tooltip": null,
      "layout": "IPY_MODEL_3a11168ffb8b4fc490518c2b656db7d3",
      "placeholder": "​",
      "style": "IPY_MODEL_6cca56596aca4f62bc473bd2880c5d56",
      "value": "1.248 MB of 1.248 MB uploaded (1.122 MB deduped)\r"
     }
    },
    "38c3b0273e794a078f653f906788660e": {
     "model_module": "@jupyter-widgets/controls",
     "model_module_version": "1.5.0",
     "model_name": "FloatProgressModel",
     "state": {
      "_dom_classes": [],
      "_model_module": "@jupyter-widgets/controls",
      "_model_module_version": "1.5.0",
      "_model_name": "FloatProgressModel",
      "_view_count": null,
      "_view_module": "@jupyter-widgets/controls",
      "_view_module_version": "1.5.0",
      "_view_name": "ProgressView",
      "bar_style": "",
      "description": "",
      "description_tooltip": null,
      "layout": "IPY_MODEL_0704b380135544a09d8f420b2943e651",
      "max": 1,
      "min": 0,
      "orientation": "horizontal",
      "style": "IPY_MODEL_3b43c447204f45b8a0d117943226ad0d",
      "value": 1
     }
    },
    "3a11168ffb8b4fc490518c2b656db7d3": {
     "model_module": "@jupyter-widgets/base",
     "model_module_version": "1.2.0",
     "model_name": "LayoutModel",
     "state": {
      "_model_module": "@jupyter-widgets/base",
      "_model_module_version": "1.2.0",
      "_model_name": "LayoutModel",
      "_view_count": null,
      "_view_module": "@jupyter-widgets/base",
      "_view_module_version": "1.2.0",
      "_view_name": "LayoutView",
      "align_content": null,
      "align_items": null,
      "align_self": null,
      "border": null,
      "bottom": null,
      "display": null,
      "flex": null,
      "flex_flow": null,
      "grid_area": null,
      "grid_auto_columns": null,
      "grid_auto_flow": null,
      "grid_auto_rows": null,
      "grid_column": null,
      "grid_gap": null,
      "grid_row": null,
      "grid_template_areas": null,
      "grid_template_columns": null,
      "grid_template_rows": null,
      "height": null,
      "justify_content": null,
      "justify_items": null,
      "left": null,
      "margin": null,
      "max_height": null,
      "max_width": null,
      "min_height": null,
      "min_width": null,
      "object_fit": null,
      "object_position": null,
      "order": null,
      "overflow": null,
      "overflow_x": null,
      "overflow_y": null,
      "padding": null,
      "right": null,
      "top": null,
      "visibility": null,
      "width": null
     }
    },
    "3a29dbb73a3f46ed9e86c18b72c9f5d8": {
     "model_module": "@jupyter-widgets/controls",
     "model_module_version": "1.5.0",
     "model_name": "LabelModel",
     "state": {
      "_dom_classes": [],
      "_model_module": "@jupyter-widgets/controls",
      "_model_module_version": "1.5.0",
      "_model_name": "LabelModel",
      "_view_count": null,
      "_view_module": "@jupyter-widgets/controls",
      "_view_module_version": "1.5.0",
      "_view_name": "LabelView",
      "description": "",
      "description_tooltip": null,
      "layout": "IPY_MODEL_e1b8588ce1e84871b11b84156ff60c9d",
      "placeholder": "​",
      "style": "IPY_MODEL_7ca0c8d045604b1fbb82b4aa126fac3a",
      "value": "0.527 MB of 0.527 MB uploaded (0.374 MB deduped)\r"
     }
    },
    "3b43c447204f45b8a0d117943226ad0d": {
     "model_module": "@jupyter-widgets/controls",
     "model_module_version": "1.5.0",
     "model_name": "ProgressStyleModel",
     "state": {
      "_model_module": "@jupyter-widgets/controls",
      "_model_module_version": "1.5.0",
      "_model_name": "ProgressStyleModel",
      "_view_count": null,
      "_view_module": "@jupyter-widgets/base",
      "_view_module_version": "1.2.0",
      "_view_name": "StyleView",
      "bar_color": null,
      "description_width": ""
     }
    },
    "3be47f73256945d78868acbc203b94e3": {
     "model_module": "@jupyter-widgets/base",
     "model_module_version": "1.2.0",
     "model_name": "LayoutModel",
     "state": {
      "_model_module": "@jupyter-widgets/base",
      "_model_module_version": "1.2.0",
      "_model_name": "LayoutModel",
      "_view_count": null,
      "_view_module": "@jupyter-widgets/base",
      "_view_module_version": "1.2.0",
      "_view_name": "LayoutView",
      "align_content": null,
      "align_items": null,
      "align_self": null,
      "border": null,
      "bottom": null,
      "display": null,
      "flex": null,
      "flex_flow": null,
      "grid_area": null,
      "grid_auto_columns": null,
      "grid_auto_flow": null,
      "grid_auto_rows": null,
      "grid_column": null,
      "grid_gap": null,
      "grid_row": null,
      "grid_template_areas": null,
      "grid_template_columns": null,
      "grid_template_rows": null,
      "height": null,
      "justify_content": null,
      "justify_items": null,
      "left": null,
      "margin": null,
      "max_height": null,
      "max_width": null,
      "min_height": null,
      "min_width": null,
      "object_fit": null,
      "object_position": null,
      "order": null,
      "overflow": null,
      "overflow_x": null,
      "overflow_y": null,
      "padding": null,
      "right": null,
      "top": null,
      "visibility": null,
      "width": null
     }
    },
    "3da81f593eac4d03adf43873dbcc31d5": {
     "model_module": "@jupyter-widgets/controls",
     "model_module_version": "1.5.0",
     "model_name": "DescriptionStyleModel",
     "state": {
      "_model_module": "@jupyter-widgets/controls",
      "_model_module_version": "1.5.0",
      "_model_name": "DescriptionStyleModel",
      "_view_count": null,
      "_view_module": "@jupyter-widgets/base",
      "_view_module_version": "1.2.0",
      "_view_name": "StyleView",
      "description_width": ""
     }
    },
    "423e5a4d464e4c9382d2fb385abd1dd9": {
     "model_module": "@jupyter-widgets/controls",
     "model_module_version": "1.5.0",
     "model_name": "FloatProgressModel",
     "state": {
      "_dom_classes": [],
      "_model_module": "@jupyter-widgets/controls",
      "_model_module_version": "1.5.0",
      "_model_name": "FloatProgressModel",
      "_view_count": null,
      "_view_module": "@jupyter-widgets/controls",
      "_view_module_version": "1.5.0",
      "_view_name": "ProgressView",
      "bar_style": "",
      "description": "",
      "description_tooltip": null,
      "layout": "IPY_MODEL_dcb81572389c41bdb76e118220d98dca",
      "max": 1,
      "min": 0,
      "orientation": "horizontal",
      "style": "IPY_MODEL_77e9e21edbc848b38c6a33bca7c7d5f5",
      "value": 1
     }
    },
    "4561e109dffd4b7981db2ff24afb37de": {
     "model_module": "@jupyter-widgets/controls",
     "model_module_version": "1.5.0",
     "model_name": "ProgressStyleModel",
     "state": {
      "_model_module": "@jupyter-widgets/controls",
      "_model_module_version": "1.5.0",
      "_model_name": "ProgressStyleModel",
      "_view_count": null,
      "_view_module": "@jupyter-widgets/base",
      "_view_module_version": "1.2.0",
      "_view_name": "StyleView",
      "bar_color": null,
      "description_width": ""
     }
    },
    "46eb487c7abb45958a5fde3a01d37808": {
     "model_module": "@jupyter-widgets/base",
     "model_module_version": "1.2.0",
     "model_name": "LayoutModel",
     "state": {
      "_model_module": "@jupyter-widgets/base",
      "_model_module_version": "1.2.0",
      "_model_name": "LayoutModel",
      "_view_count": null,
      "_view_module": "@jupyter-widgets/base",
      "_view_module_version": "1.2.0",
      "_view_name": "LayoutView",
      "align_content": null,
      "align_items": null,
      "align_self": null,
      "border": null,
      "bottom": null,
      "display": null,
      "flex": null,
      "flex_flow": null,
      "grid_area": null,
      "grid_auto_columns": null,
      "grid_auto_flow": null,
      "grid_auto_rows": null,
      "grid_column": null,
      "grid_gap": null,
      "grid_row": null,
      "grid_template_areas": null,
      "grid_template_columns": null,
      "grid_template_rows": null,
      "height": null,
      "justify_content": null,
      "justify_items": null,
      "left": null,
      "margin": null,
      "max_height": null,
      "max_width": null,
      "min_height": null,
      "min_width": null,
      "object_fit": null,
      "object_position": null,
      "order": null,
      "overflow": null,
      "overflow_x": null,
      "overflow_y": null,
      "padding": null,
      "right": null,
      "top": null,
      "visibility": null,
      "width": null
     }
    },
    "49ef72a41abe4c839494fa7715b0815e": {
     "model_module": "@jupyter-widgets/controls",
     "model_module_version": "1.5.0",
     "model_name": "FloatProgressModel",
     "state": {
      "_dom_classes": [],
      "_model_module": "@jupyter-widgets/controls",
      "_model_module_version": "1.5.0",
      "_model_name": "FloatProgressModel",
      "_view_count": null,
      "_view_module": "@jupyter-widgets/controls",
      "_view_module_version": "1.5.0",
      "_view_name": "ProgressView",
      "bar_style": "",
      "description": "",
      "description_tooltip": null,
      "layout": "IPY_MODEL_37936025ce9947e0ab2f1d8b5ffcf4a6",
      "max": 1,
      "min": 0,
      "orientation": "horizontal",
      "style": "IPY_MODEL_2f73ed4deefb41978f266176dcf6f323",
      "value": 1
     }
    },
    "49f46c4aa46b46de8125589e9421e2e8": {
     "model_module": "@jupyter-widgets/base",
     "model_module_version": "1.2.0",
     "model_name": "LayoutModel",
     "state": {
      "_model_module": "@jupyter-widgets/base",
      "_model_module_version": "1.2.0",
      "_model_name": "LayoutModel",
      "_view_count": null,
      "_view_module": "@jupyter-widgets/base",
      "_view_module_version": "1.2.0",
      "_view_name": "LayoutView",
      "align_content": null,
      "align_items": null,
      "align_self": null,
      "border": null,
      "bottom": null,
      "display": null,
      "flex": null,
      "flex_flow": null,
      "grid_area": null,
      "grid_auto_columns": null,
      "grid_auto_flow": null,
      "grid_auto_rows": null,
      "grid_column": null,
      "grid_gap": null,
      "grid_row": null,
      "grid_template_areas": null,
      "grid_template_columns": null,
      "grid_template_rows": null,
      "height": null,
      "justify_content": null,
      "justify_items": null,
      "left": null,
      "margin": null,
      "max_height": null,
      "max_width": null,
      "min_height": null,
      "min_width": null,
      "object_fit": null,
      "object_position": null,
      "order": null,
      "overflow": null,
      "overflow_x": null,
      "overflow_y": null,
      "padding": null,
      "right": null,
      "top": null,
      "visibility": null,
      "width": null
     }
    },
    "4a700b594191436d920dc78ccb82fe58": {
     "model_module": "@jupyter-widgets/controls",
     "model_module_version": "1.5.0",
     "model_name": "VBoxModel",
     "state": {
      "_dom_classes": [],
      "_model_module": "@jupyter-widgets/controls",
      "_model_module_version": "1.5.0",
      "_model_name": "VBoxModel",
      "_view_count": null,
      "_view_module": "@jupyter-widgets/controls",
      "_view_module_version": "1.5.0",
      "_view_name": "VBoxView",
      "box_style": "",
      "children": [
       "IPY_MODEL_999f0f3101ca451eac0732bd5603c33a",
       "IPY_MODEL_5180a9401add4648a51fbdbd67e26622"
      ],
      "layout": "IPY_MODEL_49f46c4aa46b46de8125589e9421e2e8"
     }
    },
    "4f0d363a708e4260913b7cb8c168399b": {
     "model_module": "@jupyter-widgets/controls",
     "model_module_version": "1.5.0",
     "model_name": "LabelModel",
     "state": {
      "_dom_classes": [],
      "_model_module": "@jupyter-widgets/controls",
      "_model_module_version": "1.5.0",
      "_model_name": "LabelModel",
      "_view_count": null,
      "_view_module": "@jupyter-widgets/controls",
      "_view_module_version": "1.5.0",
      "_view_name": "LabelView",
      "description": "",
      "description_tooltip": null,
      "layout": "IPY_MODEL_722bc38923584f5295d4015e6f1e873b",
      "placeholder": "​",
      "style": "IPY_MODEL_3da81f593eac4d03adf43873dbcc31d5",
      "value": "1.240 MB of 1.240 MB uploaded (1.122 MB deduped)\r"
     }
    },
    "5180a9401add4648a51fbdbd67e26622": {
     "model_module": "@jupyter-widgets/controls",
     "model_module_version": "1.5.0",
     "model_name": "FloatProgressModel",
     "state": {
      "_dom_classes": [],
      "_model_module": "@jupyter-widgets/controls",
      "_model_module_version": "1.5.0",
      "_model_name": "FloatProgressModel",
      "_view_count": null,
      "_view_module": "@jupyter-widgets/controls",
      "_view_module_version": "1.5.0",
      "_view_name": "ProgressView",
      "bar_style": "",
      "description": "",
      "description_tooltip": null,
      "layout": "IPY_MODEL_0bf374ed7e924e1f81e5879c4138e56e",
      "max": 1,
      "min": 0,
      "orientation": "horizontal",
      "style": "IPY_MODEL_bc9b1a5d0e9e4f0a91c9c640c040bafa",
      "value": 1
     }
    },
    "52567c78f0a6435a91914981c17d8578": {
     "model_module": "@jupyter-widgets/controls",
     "model_module_version": "1.5.0",
     "model_name": "VBoxModel",
     "state": {
      "_dom_classes": [],
      "_model_module": "@jupyter-widgets/controls",
      "_model_module_version": "1.5.0",
      "_model_name": "VBoxModel",
      "_view_count": null,
      "_view_module": "@jupyter-widgets/controls",
      "_view_module_version": "1.5.0",
      "_view_name": "VBoxView",
      "box_style": "",
      "children": [
       "IPY_MODEL_aa37fbb834ec4b8cb368dddb6725c051",
       "IPY_MODEL_f72b13d6976840d4bde5781273a18bdd"
      ],
      "layout": "IPY_MODEL_a6fd7b92870b4d5b9fac1dd160e3b718"
     }
    },
    "59ffb58dc3ec4182954628a8cd097b5c": {
     "model_module": "@jupyter-widgets/controls",
     "model_module_version": "1.5.0",
     "model_name": "VBoxModel",
     "state": {
      "_dom_classes": [],
      "_model_module": "@jupyter-widgets/controls",
      "_model_module_version": "1.5.0",
      "_model_name": "VBoxModel",
      "_view_count": null,
      "_view_module": "@jupyter-widgets/controls",
      "_view_module_version": "1.5.0",
      "_view_name": "VBoxView",
      "box_style": "",
      "children": [
       "IPY_MODEL_387377b47c264f75994fe92e535f3705",
       "IPY_MODEL_49ef72a41abe4c839494fa7715b0815e"
      ],
      "layout": "IPY_MODEL_2e55a900ca924dceb3defeec44a1b487"
     }
    },
    "5f09352159284d3c93050702c6fa5e6c": {
     "model_module": "@jupyter-widgets/controls",
     "model_module_version": "1.5.0",
     "model_name": "ProgressStyleModel",
     "state": {
      "_model_module": "@jupyter-widgets/controls",
      "_model_module_version": "1.5.0",
      "_model_name": "ProgressStyleModel",
      "_view_count": null,
      "_view_module": "@jupyter-widgets/base",
      "_view_module_version": "1.2.0",
      "_view_name": "StyleView",
      "bar_color": null,
      "description_width": ""
     }
    },
    "5fb3201a79e74e1c827edaa62e79c372": {
     "model_module": "@jupyter-widgets/controls",
     "model_module_version": "1.5.0",
     "model_name": "ProgressStyleModel",
     "state": {
      "_model_module": "@jupyter-widgets/controls",
      "_model_module_version": "1.5.0",
      "_model_name": "ProgressStyleModel",
      "_view_count": null,
      "_view_module": "@jupyter-widgets/base",
      "_view_module_version": "1.2.0",
      "_view_name": "StyleView",
      "bar_color": null,
      "description_width": ""
     }
    },
    "6cca56596aca4f62bc473bd2880c5d56": {
     "model_module": "@jupyter-widgets/controls",
     "model_module_version": "1.5.0",
     "model_name": "DescriptionStyleModel",
     "state": {
      "_model_module": "@jupyter-widgets/controls",
      "_model_module_version": "1.5.0",
      "_model_name": "DescriptionStyleModel",
      "_view_count": null,
      "_view_module": "@jupyter-widgets/base",
      "_view_module_version": "1.2.0",
      "_view_name": "StyleView",
      "description_width": ""
     }
    },
    "722bc38923584f5295d4015e6f1e873b": {
     "model_module": "@jupyter-widgets/base",
     "model_module_version": "1.2.0",
     "model_name": "LayoutModel",
     "state": {
      "_model_module": "@jupyter-widgets/base",
      "_model_module_version": "1.2.0",
      "_model_name": "LayoutModel",
      "_view_count": null,
      "_view_module": "@jupyter-widgets/base",
      "_view_module_version": "1.2.0",
      "_view_name": "LayoutView",
      "align_content": null,
      "align_items": null,
      "align_self": null,
      "border": null,
      "bottom": null,
      "display": null,
      "flex": null,
      "flex_flow": null,
      "grid_area": null,
      "grid_auto_columns": null,
      "grid_auto_flow": null,
      "grid_auto_rows": null,
      "grid_column": null,
      "grid_gap": null,
      "grid_row": null,
      "grid_template_areas": null,
      "grid_template_columns": null,
      "grid_template_rows": null,
      "height": null,
      "justify_content": null,
      "justify_items": null,
      "left": null,
      "margin": null,
      "max_height": null,
      "max_width": null,
      "min_height": null,
      "min_width": null,
      "object_fit": null,
      "object_position": null,
      "order": null,
      "overflow": null,
      "overflow_x": null,
      "overflow_y": null,
      "padding": null,
      "right": null,
      "top": null,
      "visibility": null,
      "width": null
     }
    },
    "77e9e21edbc848b38c6a33bca7c7d5f5": {
     "model_module": "@jupyter-widgets/controls",
     "model_module_version": "1.5.0",
     "model_name": "ProgressStyleModel",
     "state": {
      "_model_module": "@jupyter-widgets/controls",
      "_model_module_version": "1.5.0",
      "_model_name": "ProgressStyleModel",
      "_view_count": null,
      "_view_module": "@jupyter-widgets/base",
      "_view_module_version": "1.2.0",
      "_view_name": "StyleView",
      "bar_color": null,
      "description_width": ""
     }
    },
    "78a0f254ac0b481e88a71b1a7c232236": {
     "model_module": "@jupyter-widgets/base",
     "model_module_version": "1.2.0",
     "model_name": "LayoutModel",
     "state": {
      "_model_module": "@jupyter-widgets/base",
      "_model_module_version": "1.2.0",
      "_model_name": "LayoutModel",
      "_view_count": null,
      "_view_module": "@jupyter-widgets/base",
      "_view_module_version": "1.2.0",
      "_view_name": "LayoutView",
      "align_content": null,
      "align_items": null,
      "align_self": null,
      "border": null,
      "bottom": null,
      "display": null,
      "flex": null,
      "flex_flow": null,
      "grid_area": null,
      "grid_auto_columns": null,
      "grid_auto_flow": null,
      "grid_auto_rows": null,
      "grid_column": null,
      "grid_gap": null,
      "grid_row": null,
      "grid_template_areas": null,
      "grid_template_columns": null,
      "grid_template_rows": null,
      "height": null,
      "justify_content": null,
      "justify_items": null,
      "left": null,
      "margin": null,
      "max_height": null,
      "max_width": null,
      "min_height": null,
      "min_width": null,
      "object_fit": null,
      "object_position": null,
      "order": null,
      "overflow": null,
      "overflow_x": null,
      "overflow_y": null,
      "padding": null,
      "right": null,
      "top": null,
      "visibility": null,
      "width": null
     }
    },
    "7911587acc28449d83bf3fcdc3490710": {
     "model_module": "@jupyter-widgets/controls",
     "model_module_version": "1.5.0",
     "model_name": "LabelModel",
     "state": {
      "_dom_classes": [],
      "_model_module": "@jupyter-widgets/controls",
      "_model_module_version": "1.5.0",
      "_model_name": "LabelModel",
      "_view_count": null,
      "_view_module": "@jupyter-widgets/controls",
      "_view_module_version": "1.5.0",
      "_view_name": "LabelView",
      "description": "",
      "description_tooltip": null,
      "layout": "IPY_MODEL_3be47f73256945d78868acbc203b94e3",
      "placeholder": "​",
      "style": "IPY_MODEL_ac947171af064918ad6e47d942bf1243",
      "value": "1.214 MB of 1.214 MB uploaded (0.000 MB deduped)\r"
     }
    },
    "7984685ccb044170ac99442366696b3d": {
     "model_module": "@jupyter-widgets/controls",
     "model_module_version": "1.5.0",
     "model_name": "LabelModel",
     "state": {
      "_dom_classes": [],
      "_model_module": "@jupyter-widgets/controls",
      "_model_module_version": "1.5.0",
      "_model_name": "LabelModel",
      "_view_count": null,
      "_view_module": "@jupyter-widgets/controls",
      "_view_module_version": "1.5.0",
      "_view_name": "LabelView",
      "description": "",
      "description_tooltip": null,
      "layout": "IPY_MODEL_78a0f254ac0b481e88a71b1a7c232236",
      "placeholder": "​",
      "style": "IPY_MODEL_fe9bdb7f23ad4d76a4336896d764fa71",
      "value": "1.222 MB of 1.222 MB uploaded (0.000 MB deduped)\r"
     }
    },
    "7b0ddf0885fc4c4ebdc1a045034c3a41": {
     "model_module": "@jupyter-widgets/controls",
     "model_module_version": "1.5.0",
     "model_name": "DescriptionStyleModel",
     "state": {
      "_model_module": "@jupyter-widgets/controls",
      "_model_module_version": "1.5.0",
      "_model_name": "DescriptionStyleModel",
      "_view_count": null,
      "_view_module": "@jupyter-widgets/base",
      "_view_module_version": "1.2.0",
      "_view_name": "StyleView",
      "description_width": ""
     }
    },
    "7ca0c8d045604b1fbb82b4aa126fac3a": {
     "model_module": "@jupyter-widgets/controls",
     "model_module_version": "1.5.0",
     "model_name": "DescriptionStyleModel",
     "state": {
      "_model_module": "@jupyter-widgets/controls",
      "_model_module_version": "1.5.0",
      "_model_name": "DescriptionStyleModel",
      "_view_count": null,
      "_view_module": "@jupyter-widgets/base",
      "_view_module_version": "1.2.0",
      "_view_name": "StyleView",
      "description_width": ""
     }
    },
    "80d2554deeac4eab9b65de0305b9bc90": {
     "model_module": "@jupyter-widgets/base",
     "model_module_version": "1.2.0",
     "model_name": "LayoutModel",
     "state": {
      "_model_module": "@jupyter-widgets/base",
      "_model_module_version": "1.2.0",
      "_model_name": "LayoutModel",
      "_view_count": null,
      "_view_module": "@jupyter-widgets/base",
      "_view_module_version": "1.2.0",
      "_view_name": "LayoutView",
      "align_content": null,
      "align_items": null,
      "align_self": null,
      "border": null,
      "bottom": null,
      "display": null,
      "flex": null,
      "flex_flow": null,
      "grid_area": null,
      "grid_auto_columns": null,
      "grid_auto_flow": null,
      "grid_auto_rows": null,
      "grid_column": null,
      "grid_gap": null,
      "grid_row": null,
      "grid_template_areas": null,
      "grid_template_columns": null,
      "grid_template_rows": null,
      "height": null,
      "justify_content": null,
      "justify_items": null,
      "left": null,
      "margin": null,
      "max_height": null,
      "max_width": null,
      "min_height": null,
      "min_width": null,
      "object_fit": null,
      "object_position": null,
      "order": null,
      "overflow": null,
      "overflow_x": null,
      "overflow_y": null,
      "padding": null,
      "right": null,
      "top": null,
      "visibility": null,
      "width": null
     }
    },
    "810caeac6853471ab7324afbd387fe78": {
     "model_module": "@jupyter-widgets/base",
     "model_module_version": "1.2.0",
     "model_name": "LayoutModel",
     "state": {
      "_model_module": "@jupyter-widgets/base",
      "_model_module_version": "1.2.0",
      "_model_name": "LayoutModel",
      "_view_count": null,
      "_view_module": "@jupyter-widgets/base",
      "_view_module_version": "1.2.0",
      "_view_name": "LayoutView",
      "align_content": null,
      "align_items": null,
      "align_self": null,
      "border": null,
      "bottom": null,
      "display": null,
      "flex": null,
      "flex_flow": null,
      "grid_area": null,
      "grid_auto_columns": null,
      "grid_auto_flow": null,
      "grid_auto_rows": null,
      "grid_column": null,
      "grid_gap": null,
      "grid_row": null,
      "grid_template_areas": null,
      "grid_template_columns": null,
      "grid_template_rows": null,
      "height": null,
      "justify_content": null,
      "justify_items": null,
      "left": null,
      "margin": null,
      "max_height": null,
      "max_width": null,
      "min_height": null,
      "min_width": null,
      "object_fit": null,
      "object_position": null,
      "order": null,
      "overflow": null,
      "overflow_x": null,
      "overflow_y": null,
      "padding": null,
      "right": null,
      "top": null,
      "visibility": null,
      "width": null
     }
    },
    "814fc47217d242a79f1260910bf4a480": {
     "model_module": "@jupyter-widgets/controls",
     "model_module_version": "1.5.0",
     "model_name": "FloatProgressModel",
     "state": {
      "_dom_classes": [],
      "_model_module": "@jupyter-widgets/controls",
      "_model_module_version": "1.5.0",
      "_model_name": "FloatProgressModel",
      "_view_count": null,
      "_view_module": "@jupyter-widgets/controls",
      "_view_module_version": "1.5.0",
      "_view_name": "ProgressView",
      "bar_style": "",
      "description": "",
      "description_tooltip": null,
      "layout": "IPY_MODEL_105ae1d86d164892821a13ccfd918800",
      "max": 1,
      "min": 0,
      "orientation": "horizontal",
      "style": "IPY_MODEL_5f09352159284d3c93050702c6fa5e6c",
      "value": 1
     }
    },
    "90ef9cc02fbb4e4f93293e8679d61702": {
     "model_module": "@jupyter-widgets/controls",
     "model_module_version": "1.5.0",
     "model_name": "FloatProgressModel",
     "state": {
      "_dom_classes": [],
      "_model_module": "@jupyter-widgets/controls",
      "_model_module_version": "1.5.0",
      "_model_name": "FloatProgressModel",
      "_view_count": null,
      "_view_module": "@jupyter-widgets/controls",
      "_view_module_version": "1.5.0",
      "_view_name": "ProgressView",
      "bar_style": "",
      "description": "",
      "description_tooltip": null,
      "layout": "IPY_MODEL_e490f5ebb8fd492dbb985c2494e5f925",
      "max": 1,
      "min": 0,
      "orientation": "horizontal",
      "style": "IPY_MODEL_4561e109dffd4b7981db2ff24afb37de",
      "value": 1
     }
    },
    "952ce4c9ae7442f9ad62425075d304c6": {
     "model_module": "@jupyter-widgets/base",
     "model_module_version": "1.2.0",
     "model_name": "LayoutModel",
     "state": {
      "_model_module": "@jupyter-widgets/base",
      "_model_module_version": "1.2.0",
      "_model_name": "LayoutModel",
      "_view_count": null,
      "_view_module": "@jupyter-widgets/base",
      "_view_module_version": "1.2.0",
      "_view_name": "LayoutView",
      "align_content": null,
      "align_items": null,
      "align_self": null,
      "border": null,
      "bottom": null,
      "display": null,
      "flex": null,
      "flex_flow": null,
      "grid_area": null,
      "grid_auto_columns": null,
      "grid_auto_flow": null,
      "grid_auto_rows": null,
      "grid_column": null,
      "grid_gap": null,
      "grid_row": null,
      "grid_template_areas": null,
      "grid_template_columns": null,
      "grid_template_rows": null,
      "height": null,
      "justify_content": null,
      "justify_items": null,
      "left": null,
      "margin": null,
      "max_height": null,
      "max_width": null,
      "min_height": null,
      "min_width": null,
      "object_fit": null,
      "object_position": null,
      "order": null,
      "overflow": null,
      "overflow_x": null,
      "overflow_y": null,
      "padding": null,
      "right": null,
      "top": null,
      "visibility": null,
      "width": null
     }
    },
    "9916395ccd7242eeb691cb0f0b9d7ef8": {
     "model_module": "@jupyter-widgets/controls",
     "model_module_version": "1.5.0",
     "model_name": "DescriptionStyleModel",
     "state": {
      "_model_module": "@jupyter-widgets/controls",
      "_model_module_version": "1.5.0",
      "_model_name": "DescriptionStyleModel",
      "_view_count": null,
      "_view_module": "@jupyter-widgets/base",
      "_view_module_version": "1.2.0",
      "_view_name": "StyleView",
      "description_width": ""
     }
    },
    "999f0f3101ca451eac0732bd5603c33a": {
     "model_module": "@jupyter-widgets/controls",
     "model_module_version": "1.5.0",
     "model_name": "LabelModel",
     "state": {
      "_dom_classes": [],
      "_model_module": "@jupyter-widgets/controls",
      "_model_module_version": "1.5.0",
      "_model_name": "LabelModel",
      "_view_count": null,
      "_view_module": "@jupyter-widgets/controls",
      "_view_module_version": "1.5.0",
      "_view_name": "LabelView",
      "description": "",
      "description_tooltip": null,
      "layout": "IPY_MODEL_dfadf83ad70a4682ac20ea959141fe95",
      "placeholder": "​",
      "style": "IPY_MODEL_24b082022cf74f278ebc9eed70db376c",
      "value": "1.231 MB of 1.231 MB uploaded (1.122 MB deduped)\r"
     }
    },
    "9f2d7a8382ef4844a79cbb725b3e6901": {
     "model_module": "@jupyter-widgets/base",
     "model_module_version": "1.2.0",
     "model_name": "LayoutModel",
     "state": {
      "_model_module": "@jupyter-widgets/base",
      "_model_module_version": "1.2.0",
      "_model_name": "LayoutModel",
      "_view_count": null,
      "_view_module": "@jupyter-widgets/base",
      "_view_module_version": "1.2.0",
      "_view_name": "LayoutView",
      "align_content": null,
      "align_items": null,
      "align_self": null,
      "border": null,
      "bottom": null,
      "display": null,
      "flex": null,
      "flex_flow": null,
      "grid_area": null,
      "grid_auto_columns": null,
      "grid_auto_flow": null,
      "grid_auto_rows": null,
      "grid_column": null,
      "grid_gap": null,
      "grid_row": null,
      "grid_template_areas": null,
      "grid_template_columns": null,
      "grid_template_rows": null,
      "height": null,
      "justify_content": null,
      "justify_items": null,
      "left": null,
      "margin": null,
      "max_height": null,
      "max_width": null,
      "min_height": null,
      "min_width": null,
      "object_fit": null,
      "object_position": null,
      "order": null,
      "overflow": null,
      "overflow_x": null,
      "overflow_y": null,
      "padding": null,
      "right": null,
      "top": null,
      "visibility": null,
      "width": null
     }
    },
    "a653222fe65b4469b68a66c1c7274545": {
     "model_module": "@jupyter-widgets/controls",
     "model_module_version": "1.5.0",
     "model_name": "VBoxModel",
     "state": {
      "_dom_classes": [],
      "_model_module": "@jupyter-widgets/controls",
      "_model_module_version": "1.5.0",
      "_model_name": "VBoxModel",
      "_view_count": null,
      "_view_module": "@jupyter-widgets/controls",
      "_view_module_version": "1.5.0",
      "_view_name": "VBoxView",
      "box_style": "",
      "children": [
       "IPY_MODEL_7911587acc28449d83bf3fcdc3490710",
       "IPY_MODEL_b2ad6fa432ad476f97219ac47031bc93"
      ],
      "layout": "IPY_MODEL_9f2d7a8382ef4844a79cbb725b3e6901"
     }
    },
    "a6fd7b92870b4d5b9fac1dd160e3b718": {
     "model_module": "@jupyter-widgets/base",
     "model_module_version": "1.2.0",
     "model_name": "LayoutModel",
     "state": {
      "_model_module": "@jupyter-widgets/base",
      "_model_module_version": "1.2.0",
      "_model_name": "LayoutModel",
      "_view_count": null,
      "_view_module": "@jupyter-widgets/base",
      "_view_module_version": "1.2.0",
      "_view_name": "LayoutView",
      "align_content": null,
      "align_items": null,
      "align_self": null,
      "border": null,
      "bottom": null,
      "display": null,
      "flex": null,
      "flex_flow": null,
      "grid_area": null,
      "grid_auto_columns": null,
      "grid_auto_flow": null,
      "grid_auto_rows": null,
      "grid_column": null,
      "grid_gap": null,
      "grid_row": null,
      "grid_template_areas": null,
      "grid_template_columns": null,
      "grid_template_rows": null,
      "height": null,
      "justify_content": null,
      "justify_items": null,
      "left": null,
      "margin": null,
      "max_height": null,
      "max_width": null,
      "min_height": null,
      "min_width": null,
      "object_fit": null,
      "object_position": null,
      "order": null,
      "overflow": null,
      "overflow_x": null,
      "overflow_y": null,
      "padding": null,
      "right": null,
      "top": null,
      "visibility": null,
      "width": null
     }
    },
    "aa37fbb834ec4b8cb368dddb6725c051": {
     "model_module": "@jupyter-widgets/controls",
     "model_module_version": "1.5.0",
     "model_name": "LabelModel",
     "state": {
      "_dom_classes": [],
      "_model_module": "@jupyter-widgets/controls",
      "_model_module_version": "1.5.0",
      "_model_name": "LabelModel",
      "_view_count": null,
      "_view_module": "@jupyter-widgets/controls",
      "_view_module_version": "1.5.0",
      "_view_name": "LabelView",
      "description": "",
      "description_tooltip": null,
      "layout": "IPY_MODEL_80d2554deeac4eab9b65de0305b9bc90",
      "placeholder": "​",
      "style": "IPY_MODEL_9916395ccd7242eeb691cb0f0b9d7ef8",
      "value": "1.284 MB of 1.284 MB uploaded (1.122 MB deduped)\r"
     }
    },
    "ac947171af064918ad6e47d942bf1243": {
     "model_module": "@jupyter-widgets/controls",
     "model_module_version": "1.5.0",
     "model_name": "DescriptionStyleModel",
     "state": {
      "_model_module": "@jupyter-widgets/controls",
      "_model_module_version": "1.5.0",
      "_model_name": "DescriptionStyleModel",
      "_view_count": null,
      "_view_module": "@jupyter-widgets/base",
      "_view_module_version": "1.2.0",
      "_view_name": "StyleView",
      "description_width": ""
     }
    },
    "b2ad6fa432ad476f97219ac47031bc93": {
     "model_module": "@jupyter-widgets/controls",
     "model_module_version": "1.5.0",
     "model_name": "FloatProgressModel",
     "state": {
      "_dom_classes": [],
      "_model_module": "@jupyter-widgets/controls",
      "_model_module_version": "1.5.0",
      "_model_name": "FloatProgressModel",
      "_view_count": null,
      "_view_module": "@jupyter-widgets/controls",
      "_view_module_version": "1.5.0",
      "_view_name": "ProgressView",
      "bar_style": "",
      "description": "",
      "description_tooltip": null,
      "layout": "IPY_MODEL_15835fc52c4241a290f00918a8166f05",
      "max": 1,
      "min": 0,
      "orientation": "horizontal",
      "style": "IPY_MODEL_5fb3201a79e74e1c827edaa62e79c372",
      "value": 1
     }
    },
    "ba2fbee25b334e559211879998aecdb3": {
     "model_module": "@jupyter-widgets/base",
     "model_module_version": "1.2.0",
     "model_name": "LayoutModel",
     "state": {
      "_model_module": "@jupyter-widgets/base",
      "_model_module_version": "1.2.0",
      "_model_name": "LayoutModel",
      "_view_count": null,
      "_view_module": "@jupyter-widgets/base",
      "_view_module_version": "1.2.0",
      "_view_name": "LayoutView",
      "align_content": null,
      "align_items": null,
      "align_self": null,
      "border": null,
      "bottom": null,
      "display": null,
      "flex": null,
      "flex_flow": null,
      "grid_area": null,
      "grid_auto_columns": null,
      "grid_auto_flow": null,
      "grid_auto_rows": null,
      "grid_column": null,
      "grid_gap": null,
      "grid_row": null,
      "grid_template_areas": null,
      "grid_template_columns": null,
      "grid_template_rows": null,
      "height": null,
      "justify_content": null,
      "justify_items": null,
      "left": null,
      "margin": null,
      "max_height": null,
      "max_width": null,
      "min_height": null,
      "min_width": null,
      "object_fit": null,
      "object_position": null,
      "order": null,
      "overflow": null,
      "overflow_x": null,
      "overflow_y": null,
      "padding": null,
      "right": null,
      "top": null,
      "visibility": null,
      "width": null
     }
    },
    "bc9b1a5d0e9e4f0a91c9c640c040bafa": {
     "model_module": "@jupyter-widgets/controls",
     "model_module_version": "1.5.0",
     "model_name": "ProgressStyleModel",
     "state": {
      "_model_module": "@jupyter-widgets/controls",
      "_model_module_version": "1.5.0",
      "_model_name": "ProgressStyleModel",
      "_view_count": null,
      "_view_module": "@jupyter-widgets/base",
      "_view_module_version": "1.2.0",
      "_view_name": "StyleView",
      "bar_color": null,
      "description_width": ""
     }
    },
    "befd04334d144d6a9839dd1db06839b9": {
     "model_module": "@jupyter-widgets/base",
     "model_module_version": "1.2.0",
     "model_name": "LayoutModel",
     "state": {
      "_model_module": "@jupyter-widgets/base",
      "_model_module_version": "1.2.0",
      "_model_name": "LayoutModel",
      "_view_count": null,
      "_view_module": "@jupyter-widgets/base",
      "_view_module_version": "1.2.0",
      "_view_name": "LayoutView",
      "align_content": null,
      "align_items": null,
      "align_self": null,
      "border": null,
      "bottom": null,
      "display": null,
      "flex": null,
      "flex_flow": null,
      "grid_area": null,
      "grid_auto_columns": null,
      "grid_auto_flow": null,
      "grid_auto_rows": null,
      "grid_column": null,
      "grid_gap": null,
      "grid_row": null,
      "grid_template_areas": null,
      "grid_template_columns": null,
      "grid_template_rows": null,
      "height": null,
      "justify_content": null,
      "justify_items": null,
      "left": null,
      "margin": null,
      "max_height": null,
      "max_width": null,
      "min_height": null,
      "min_width": null,
      "object_fit": null,
      "object_position": null,
      "order": null,
      "overflow": null,
      "overflow_x": null,
      "overflow_y": null,
      "padding": null,
      "right": null,
      "top": null,
      "visibility": null,
      "width": null
     }
    },
    "c0fa0b8150ab41f68a6e0282b03a6b60": {
     "model_module": "@jupyter-widgets/controls",
     "model_module_version": "1.5.0",
     "model_name": "ProgressStyleModel",
     "state": {
      "_model_module": "@jupyter-widgets/controls",
      "_model_module_version": "1.5.0",
      "_model_name": "ProgressStyleModel",
      "_view_count": null,
      "_view_module": "@jupyter-widgets/base",
      "_view_module_version": "1.2.0",
      "_view_name": "StyleView",
      "bar_color": null,
      "description_width": ""
     }
    },
    "c1f735be962340c9abb983ca448ec8c4": {
     "model_module": "@jupyter-widgets/base",
     "model_module_version": "1.2.0",
     "model_name": "LayoutModel",
     "state": {
      "_model_module": "@jupyter-widgets/base",
      "_model_module_version": "1.2.0",
      "_model_name": "LayoutModel",
      "_view_count": null,
      "_view_module": "@jupyter-widgets/base",
      "_view_module_version": "1.2.0",
      "_view_name": "LayoutView",
      "align_content": null,
      "align_items": null,
      "align_self": null,
      "border": null,
      "bottom": null,
      "display": null,
      "flex": null,
      "flex_flow": null,
      "grid_area": null,
      "grid_auto_columns": null,
      "grid_auto_flow": null,
      "grid_auto_rows": null,
      "grid_column": null,
      "grid_gap": null,
      "grid_row": null,
      "grid_template_areas": null,
      "grid_template_columns": null,
      "grid_template_rows": null,
      "height": null,
      "justify_content": null,
      "justify_items": null,
      "left": null,
      "margin": null,
      "max_height": null,
      "max_width": null,
      "min_height": null,
      "min_width": null,
      "object_fit": null,
      "object_position": null,
      "order": null,
      "overflow": null,
      "overflow_x": null,
      "overflow_y": null,
      "padding": null,
      "right": null,
      "top": null,
      "visibility": null,
      "width": null
     }
    },
    "cdfe8de0983f4edd884f71e3c6572874": {
     "model_module": "@jupyter-widgets/base",
     "model_module_version": "1.2.0",
     "model_name": "LayoutModel",
     "state": {
      "_model_module": "@jupyter-widgets/base",
      "_model_module_version": "1.2.0",
      "_model_name": "LayoutModel",
      "_view_count": null,
      "_view_module": "@jupyter-widgets/base",
      "_view_module_version": "1.2.0",
      "_view_name": "LayoutView",
      "align_content": null,
      "align_items": null,
      "align_self": null,
      "border": null,
      "bottom": null,
      "display": null,
      "flex": null,
      "flex_flow": null,
      "grid_area": null,
      "grid_auto_columns": null,
      "grid_auto_flow": null,
      "grid_auto_rows": null,
      "grid_column": null,
      "grid_gap": null,
      "grid_row": null,
      "grid_template_areas": null,
      "grid_template_columns": null,
      "grid_template_rows": null,
      "height": null,
      "justify_content": null,
      "justify_items": null,
      "left": null,
      "margin": null,
      "max_height": null,
      "max_width": null,
      "min_height": null,
      "min_width": null,
      "object_fit": null,
      "object_position": null,
      "order": null,
      "overflow": null,
      "overflow_x": null,
      "overflow_y": null,
      "padding": null,
      "right": null,
      "top": null,
      "visibility": null,
      "width": null
     }
    },
    "dad1460f11f14866bf0b3071b7bb5726": {
     "model_module": "@jupyter-widgets/controls",
     "model_module_version": "1.5.0",
     "model_name": "LabelModel",
     "state": {
      "_dom_classes": [],
      "_model_module": "@jupyter-widgets/controls",
      "_model_module_version": "1.5.0",
      "_model_name": "LabelModel",
      "_view_count": null,
      "_view_module": "@jupyter-widgets/controls",
      "_view_module_version": "1.5.0",
      "_view_name": "LabelView",
      "description": "",
      "description_tooltip": null,
      "layout": "IPY_MODEL_ba2fbee25b334e559211879998aecdb3",
      "placeholder": "​",
      "style": "IPY_MODEL_7b0ddf0885fc4c4ebdc1a045034c3a41",
      "value": "0.071 MB of 0.071 MB uploaded (0.000 MB deduped)\r"
     }
    },
    "dcb81572389c41bdb76e118220d98dca": {
     "model_module": "@jupyter-widgets/base",
     "model_module_version": "1.2.0",
     "model_name": "LayoutModel",
     "state": {
      "_model_module": "@jupyter-widgets/base",
      "_model_module_version": "1.2.0",
      "_model_name": "LayoutModel",
      "_view_count": null,
      "_view_module": "@jupyter-widgets/base",
      "_view_module_version": "1.2.0",
      "_view_name": "LayoutView",
      "align_content": null,
      "align_items": null,
      "align_self": null,
      "border": null,
      "bottom": null,
      "display": null,
      "flex": null,
      "flex_flow": null,
      "grid_area": null,
      "grid_auto_columns": null,
      "grid_auto_flow": null,
      "grid_auto_rows": null,
      "grid_column": null,
      "grid_gap": null,
      "grid_row": null,
      "grid_template_areas": null,
      "grid_template_columns": null,
      "grid_template_rows": null,
      "height": null,
      "justify_content": null,
      "justify_items": null,
      "left": null,
      "margin": null,
      "max_height": null,
      "max_width": null,
      "min_height": null,
      "min_width": null,
      "object_fit": null,
      "object_position": null,
      "order": null,
      "overflow": null,
      "overflow_x": null,
      "overflow_y": null,
      "padding": null,
      "right": null,
      "top": null,
      "visibility": null,
      "width": null
     }
    },
    "dfadf83ad70a4682ac20ea959141fe95": {
     "model_module": "@jupyter-widgets/base",
     "model_module_version": "1.2.0",
     "model_name": "LayoutModel",
     "state": {
      "_model_module": "@jupyter-widgets/base",
      "_model_module_version": "1.2.0",
      "_model_name": "LayoutModel",
      "_view_count": null,
      "_view_module": "@jupyter-widgets/base",
      "_view_module_version": "1.2.0",
      "_view_name": "LayoutView",
      "align_content": null,
      "align_items": null,
      "align_self": null,
      "border": null,
      "bottom": null,
      "display": null,
      "flex": null,
      "flex_flow": null,
      "grid_area": null,
      "grid_auto_columns": null,
      "grid_auto_flow": null,
      "grid_auto_rows": null,
      "grid_column": null,
      "grid_gap": null,
      "grid_row": null,
      "grid_template_areas": null,
      "grid_template_columns": null,
      "grid_template_rows": null,
      "height": null,
      "justify_content": null,
      "justify_items": null,
      "left": null,
      "margin": null,
      "max_height": null,
      "max_width": null,
      "min_height": null,
      "min_width": null,
      "object_fit": null,
      "object_position": null,
      "order": null,
      "overflow": null,
      "overflow_x": null,
      "overflow_y": null,
      "padding": null,
      "right": null,
      "top": null,
      "visibility": null,
      "width": null
     }
    },
    "e1b8588ce1e84871b11b84156ff60c9d": {
     "model_module": "@jupyter-widgets/base",
     "model_module_version": "1.2.0",
     "model_name": "LayoutModel",
     "state": {
      "_model_module": "@jupyter-widgets/base",
      "_model_module_version": "1.2.0",
      "_model_name": "LayoutModel",
      "_view_count": null,
      "_view_module": "@jupyter-widgets/base",
      "_view_module_version": "1.2.0",
      "_view_name": "LayoutView",
      "align_content": null,
      "align_items": null,
      "align_self": null,
      "border": null,
      "bottom": null,
      "display": null,
      "flex": null,
      "flex_flow": null,
      "grid_area": null,
      "grid_auto_columns": null,
      "grid_auto_flow": null,
      "grid_auto_rows": null,
      "grid_column": null,
      "grid_gap": null,
      "grid_row": null,
      "grid_template_areas": null,
      "grid_template_columns": null,
      "grid_template_rows": null,
      "height": null,
      "justify_content": null,
      "justify_items": null,
      "left": null,
      "margin": null,
      "max_height": null,
      "max_width": null,
      "min_height": null,
      "min_width": null,
      "object_fit": null,
      "object_position": null,
      "order": null,
      "overflow": null,
      "overflow_x": null,
      "overflow_y": null,
      "padding": null,
      "right": null,
      "top": null,
      "visibility": null,
      "width": null
     }
    },
    "e490f5ebb8fd492dbb985c2494e5f925": {
     "model_module": "@jupyter-widgets/base",
     "model_module_version": "1.2.0",
     "model_name": "LayoutModel",
     "state": {
      "_model_module": "@jupyter-widgets/base",
      "_model_module_version": "1.2.0",
      "_model_name": "LayoutModel",
      "_view_count": null,
      "_view_module": "@jupyter-widgets/base",
      "_view_module_version": "1.2.0",
      "_view_name": "LayoutView",
      "align_content": null,
      "align_items": null,
      "align_self": null,
      "border": null,
      "bottom": null,
      "display": null,
      "flex": null,
      "flex_flow": null,
      "grid_area": null,
      "grid_auto_columns": null,
      "grid_auto_flow": null,
      "grid_auto_rows": null,
      "grid_column": null,
      "grid_gap": null,
      "grid_row": null,
      "grid_template_areas": null,
      "grid_template_columns": null,
      "grid_template_rows": null,
      "height": null,
      "justify_content": null,
      "justify_items": null,
      "left": null,
      "margin": null,
      "max_height": null,
      "max_width": null,
      "min_height": null,
      "min_width": null,
      "object_fit": null,
      "object_position": null,
      "order": null,
      "overflow": null,
      "overflow_x": null,
      "overflow_y": null,
      "padding": null,
      "right": null,
      "top": null,
      "visibility": null,
      "width": null
     }
    },
    "e9a41f3a7df7478191acc5d71a142f95": {
     "model_module": "@jupyter-widgets/controls",
     "model_module_version": "1.5.0",
     "model_name": "VBoxModel",
     "state": {
      "_dom_classes": [],
      "_model_module": "@jupyter-widgets/controls",
      "_model_module_version": "1.5.0",
      "_model_name": "VBoxModel",
      "_view_count": null,
      "_view_module": "@jupyter-widgets/controls",
      "_view_module_version": "1.5.0",
      "_view_name": "VBoxView",
      "box_style": "",
      "children": [
       "IPY_MODEL_7984685ccb044170ac99442366696b3d",
       "IPY_MODEL_13c731445e2f4999b7dc84bbec20a279"
      ],
      "layout": "IPY_MODEL_952ce4c9ae7442f9ad62425075d304c6"
     }
    },
    "f72b13d6976840d4bde5781273a18bdd": {
     "model_module": "@jupyter-widgets/controls",
     "model_module_version": "1.5.0",
     "model_name": "FloatProgressModel",
     "state": {
      "_dom_classes": [],
      "_model_module": "@jupyter-widgets/controls",
      "_model_module_version": "1.5.0",
      "_model_name": "FloatProgressModel",
      "_view_count": null,
      "_view_module": "@jupyter-widgets/controls",
      "_view_module_version": "1.5.0",
      "_view_name": "ProgressView",
      "bar_style": "",
      "description": "",
      "description_tooltip": null,
      "layout": "IPY_MODEL_810caeac6853471ab7324afbd387fe78",
      "max": 1,
      "min": 0,
      "orientation": "horizontal",
      "style": "IPY_MODEL_094d25cfe5b34291b5181a16d3ab2ead",
      "value": 0.9996947734974279
     }
    },
    "fe9bdb7f23ad4d76a4336896d764fa71": {
     "model_module": "@jupyter-widgets/controls",
     "model_module_version": "1.5.0",
     "model_name": "DescriptionStyleModel",
     "state": {
      "_model_module": "@jupyter-widgets/controls",
      "_model_module_version": "1.5.0",
      "_model_name": "DescriptionStyleModel",
      "_view_count": null,
      "_view_module": "@jupyter-widgets/base",
      "_view_module_version": "1.2.0",
      "_view_name": "StyleView",
      "description_width": ""
     }
    },
    "ffbad4222ef24084b358e994857c0813": {
     "model_module": "@jupyter-widgets/controls",
     "model_module_version": "1.5.0",
     "model_name": "VBoxModel",
     "state": {
      "_dom_classes": [],
      "_model_module": "@jupyter-widgets/controls",
      "_model_module_version": "1.5.0",
      "_model_name": "VBoxModel",
      "_view_count": null,
      "_view_module": "@jupyter-widgets/controls",
      "_view_module_version": "1.5.0",
      "_view_name": "VBoxView",
      "box_style": "",
      "children": [
       "IPY_MODEL_dad1460f11f14866bf0b3071b7bb5726",
       "IPY_MODEL_423e5a4d464e4c9382d2fb385abd1dd9"
      ],
      "layout": "IPY_MODEL_c1f735be962340c9abb983ca448ec8c4"
     }
    }
   }
  }
 },
 "nbformat": 4,
 "nbformat_minor": 1
}
