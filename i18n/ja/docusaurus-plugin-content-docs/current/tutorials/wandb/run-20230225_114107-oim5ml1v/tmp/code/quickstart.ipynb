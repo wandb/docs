{
 "cells": [
  {
   "cell_type": "markdown",
   "id": "8821a571",
   "metadata": {},
   "source": [
    "# This was made with a notebook"
   ]
  },
  {
   "cell_type": "code",
   "execution_count": null,
   "id": "70f42717",
   "metadata": {},
   "outputs": [
    {
     "name": "stdout",
     "output_type": "stream",
     "text": [
      "Hello, world!\n"
     ]
    }
   ],
   "source": [
    "print(\"Hello, world!\")"
   ]
  },
  {
   "cell_type": "markdown",
   "id": "bd96453b",
   "metadata": {},
   "source": [
    "Create your first W&B Run:"
   ]
  },
  {
   "cell_type": "code",
   "execution_count": null,
   "id": "8db78cf5",
   "metadata": {},
   "outputs": [],
   "source": [
    "import wandb\n",
    "\n",
    "run = wandb.init(project='my-awesome-project')\n",
    "\n",
    "run.finish()"
   ]
  },
  {
   "cell_type": "markdown",
   "id": "c4a58d7c",
   "metadata": {},
   "source": [
    "Then we explain stuff."
   ]
  },
  {
   "cell_type": "code",
   "execution_count": null,
   "id": "2cb771bb",
   "metadata": {},
   "outputs": [],
   "source": []
  }
 ],
 "metadata": {
  "kernelspec": {
   "display_name": "docu_nbdev",
   "language": "python",
   "name": "docu_nbdev"
  }
 },
 "nbformat": 4,
 "nbformat_minor": 5
}
