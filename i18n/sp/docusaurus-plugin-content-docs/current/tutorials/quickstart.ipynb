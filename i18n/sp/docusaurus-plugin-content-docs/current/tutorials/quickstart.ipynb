{
 "cells": [
  {
   "cell_type": "markdown",
   "id": "e91dd262",
   "metadata": {},
   "source": [
    "---\n",
    "title: \"Tutorial Name # 1\"\n",
    "format: docusaurus-md\n",
    "---"
   ]
  },
  {
   "cell_type": "markdown",
   "id": "bd2cdb89",
   "metadata": {},
   "source": [
    "## This was made with a notebook"
   ]
  },
  {
   "cell_type": "code",
   "execution_count": null,
   "id": "7e0d4538",
   "metadata": {},
   "outputs": [
    {
     "name": "stdout",
     "output_type": "stream",
     "text": [
      "Hello, world!\n"
     ]
    }
   ],
   "source": [
    "print(\"Hello, world!\")"
   ]
  },
  {
   "cell_type": "markdown",
   "id": "2b4cb6ec",
   "metadata": {},
   "source": [
    "Create your first W&B Run:"
   ]
  },
  {
   "cell_type": "code",
   "execution_count": null,
   "id": "ccfd3723",
   "metadata": {},
   "outputs": [
    {
     "data": {
      "text/html": [
       "wandb version 0.13.10 is available!  To upgrade, please run:\n",
       " $ pip install wandb --upgrade"
      ],
      "text/plain": [
       "<IPython.core.display.HTML object>"
      ]
     },
     "metadata": {},
     "output_type": "display_data"
    },
    {
     "data": {
      "text/html": [
       "Tracking run with wandb version 0.13.9"
      ],
      "text/plain": [
       "<IPython.core.display.HTML object>"
      ]
     },
     "metadata": {},
     "output_type": "display_data"
    },
    {
     "data": {
      "text/html": [
       "Run data is saved locally in <code>/Users/noahluna/Documents/GitHub/docodile/docs/tutorials/wandb/run-20230225_114107-oim5ml1v</code>"
      ],
      "text/plain": [
       "<IPython.core.display.HTML object>"
      ]
     },
     "metadata": {},
     "output_type": "display_data"
    },
    {
     "data": {
      "text/html": [
       "Syncing run <strong><a href=\"https://wandb.ai/noahluna/my-awesome-project/runs/oim5ml1v\" target=\"_blank\">rich-oath-4</a></strong> to <a href=\"https://wandb.ai/noahluna/my-awesome-project\" target=\"_blank\">Weights & Biases</a> (<a href=\"https://wandb.me/run\" target=\"_blank\">docs</a>)<br/>"
      ],
      "text/plain": [
       "<IPython.core.display.HTML object>"
      ]
     },
     "metadata": {},
     "output_type": "display_data"
    },
    {
     "data": {
      "text/html": [
       " View project at <a href=\"https://wandb.ai/noahluna/my-awesome-project\" target=\"_blank\">https://wandb.ai/noahluna/my-awesome-project</a>"
      ],
      "text/plain": [
       "<IPython.core.display.HTML object>"
      ]
     },
     "metadata": {},
     "output_type": "display_data"
    },
    {
     "data": {
      "text/html": [
       " View run at <a href=\"https://wandb.ai/noahluna/my-awesome-project/runs/oim5ml1v\" target=\"_blank\">https://wandb.ai/noahluna/my-awesome-project/runs/oim5ml1v</a>"
      ],
      "text/plain": [
       "<IPython.core.display.HTML object>"
      ]
     },
     "metadata": {},
     "output_type": "display_data"
    },
    {
     "data": {
      "text/html": [
       "Waiting for W&B process to finish... <strong style=\"color:green\">(success).</strong>"
      ],
      "text/plain": [
       "<IPython.core.display.HTML object>"
      ]
     },
     "metadata": {},
     "output_type": "display_data"
    },
    {
     "data": {
      "text/html": [
       " View run <strong style=\"color:#cdcd00\">rich-oath-4</strong> at: <a href=\"https://wandb.ai/noahluna/my-awesome-project/runs/oim5ml1v\" target=\"_blank\">https://wandb.ai/noahluna/my-awesome-project/runs/oim5ml1v</a><br/>Synced 5 W&B file(s), 0 media file(s), 2 artifact file(s) and 1 other file(s)"
      ],
      "text/plain": [
       "<IPython.core.display.HTML object>"
      ]
     },
     "metadata": {},
     "output_type": "display_data"
    },
    {
     "data": {
      "text/html": [
       "Find logs at: <code>./wandb/run-20230225_114107-oim5ml1v/logs</code>"
      ],
      "text/plain": [
       "<IPython.core.display.HTML object>"
      ]
     },
     "metadata": {},
     "output_type": "display_data"
    }
   ],
   "source": [
    "import wandb\n",
    "\n",
    "run = wandb.init(project='my-awesome-project')\n",
    "\n",
    "run.finish()"
   ]
  },
  {
   "cell_type": "markdown",
   "id": "862a2622",
   "metadata": {},
   "source": [
    "Then we explain stuff."
   ]
  },
  {
   "cell_type": "markdown",
   "id": "2d7fc2e8",
   "metadata": {},
   "source": [
    "## This is another section."
   ]
  }
 ],
 "metadata": {
  "kernelspec": {
   "display_name": "docu_nbdev",
   "language": "python",
   "name": "docu_nbdev"
  },
  "language_info": {
   "name": "python",
   "version": "3.10.0"
  }
 },
 "nbformat": 4,
 "nbformat_minor": 5
}
